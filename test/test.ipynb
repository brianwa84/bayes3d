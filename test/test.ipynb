{
 "cells": [
  {
   "cell_type": "code",
   "execution_count": 1,
   "metadata": {},
   "outputs": [],
   "source": [
    "import sys\n",
    "import os\n",
    "sys.path.append('.')\n",
    "\n",
    "import numpy as np\n",
    "import jax.numpy as jnp\n",
    "import jax\n",
    "from jax3dp3.model import make_scoring_function\n",
    "from jax3dp3.rendering import render_planes\n",
    "from jax3dp3.distributions import VonMisesFisher\n",
    "from jax3dp3.utils import (\n",
    "    make_centered_grid_enumeration_3d_points,\n",
    "    depth_to_coords_in_camera\n",
    ")\n",
    "from jax3dp3.transforms_3d import transform_from_axis_angle, quaternion_to_rotation_matrix\n",
    "from jax3dp3.shape import get_cube_shape, get_corner_shape\n",
    "import time\n",
    "from PIL import Image\n",
    "from scipy.spatial.transform import Rotation as R\n",
    "import matplotlib.pyplot as plt\n",
    "import cv2\n"
   ]
  },
  {
   "cell_type": "code",
   "execution_count": 2,
   "metadata": {},
   "outputs": [],
   "source": [
    "OBJ_DEFAULT_POSE = TEMPLATE_DEFAULT_POSE = jnp.array([\n",
    "    [1.0, 0.0, 0.0, -1.0],   \n",
    "    [0.0, 1.0, 0.0, -1.0],   \n",
    "    [0.0, 0.0, 1.0, 2.0],   \n",
    "    [0.0, 0.0, 0.0, 1.0],   \n",
    "    ]\n",
    ")  # 0, 0, 2, 1 for center of grid"
   ]
  },
  {
   "cell_type": "code",
   "execution_count": 3,
   "metadata": {},
   "outputs": [
    {
     "name": "stdout",
     "output_type": "stream",
     "text": [
      "gt_poses.shape (51, 4, 4)\n"
     ]
    }
   ],
   "source": [
    "h, w, fx_fy, cx_cy = (\n",
    "    300,\n",
    "    300,\n",
    "    jnp.array([200.0, 200.0]),\n",
    "    jnp.array([150.0, 150.0]),\n",
    ")\n",
    "\n",
    "r = 0.1\n",
    "outlier_prob = 0.01\n",
    "pixel_smudge = 0\n",
    "\n",
    "num_frames = 50\n",
    "\n",
    "gt_poses = [\n",
    "    jnp.array([\n",
    "    [1.0, 0.0, 0.0, -1.0],   \n",
    "    [0.0, 1.0, 0.0, -1.0],   \n",
    "    [0.0, 0.0, 1.0, 2.0],   \n",
    "    [0.0, 0.0, 0.0, 1.0],   \n",
    "    ]\n",
    ")\n",
    "]\n",
    "rot = R.from_euler('zyx', [1.0, -0.1, -2.0], degrees=True).as_matrix()\n",
    "delta_pose =     jnp.array([\n",
    "    [1.0, 0.0, 0.0, 0.15],   \n",
    "    [0.0, 1.0, 0.0, 0.05],   \n",
    "    [0.0, 0.0, 1.0, 0.02],   \n",
    "    [0.0, 0.0, 0.0, 1.0],   \n",
    "    ]\n",
    ")\n",
    "delta_pose = delta_pose.at[:3,:3].set(jnp.array(rot))\n",
    "\n",
    "for t in range(num_frames):\n",
    "    gt_poses.append(gt_poses[-1].dot(delta_pose))\n",
    "gt_poses = jnp.stack(gt_poses)\n",
    "print(\"gt_poses.shape\", gt_poses.shape)\n",
    "\n",
    "shape = get_cube_shape(0.5)\n"
   ]
  },
  {
   "cell_type": "code",
   "execution_count": 4,
   "metadata": {},
   "outputs": [],
   "source": [
    "# # r_euler_rot = jax.jit(functools.partial(R.from_euler, 'zyx'))  \n",
    "# # %timeit r_euler_rot(np.array([1.0, -0.1, -2.0]), degrees=True).as_matrix()   # doesnt work due to TracerArrayConversionError\n",
    "\n",
    "# # test vmapping over range\n",
    "\n",
    "# def toy_abc(a, b, c):\n",
    "#     return jnp.array([a, b, c])\n",
    "\n",
    "# sample_range = jnp.array([a for a in range(1, 4)])  \n",
    "# mapped_toy = jax.jit(jax.vmap(jax.vmap(jax.vmap(toy_abc, in_axes=(0, None, None)), in_axes=(None, 0, None)), in_axes=(None, None, 0)))\n",
    "# mapped_toy(sample_range, sample_range, sample_range).shape"
   ]
  },
  {
   "cell_type": "code",
   "execution_count": 6,
   "metadata": {},
   "outputs": [],
   "source": [
    "from jax3dp3.transforms_3d import geodesicHopf_select_axis, fibonacci_sphere\n"
   ]
  },
  {
   "cell_type": "code",
   "execution_count": 30,
   "metadata": {},
   "outputs": [
    {
     "data": {
      "text/plain": [
       "(7800, 4, 4)"
      ]
     },
     "execution_count": 30,
     "metadata": {},
     "output_type": "execute_result"
    }
   ],
   "source": [
    "unit_sphere_directions = fibonacci_sphere(300)\n",
    "geodesicHopf_select_axis_vmap = jax.vmap(jax.vmap(geodesicHopf_select_axis, in_axes=(0,None)), in_axes=(None,0))\n",
    "rotation_proposals = geodesicHopf_select_axis_vmap(unit_sphere_directions, jnp.arange(0, 2*jnp.pi, 0.25)).reshape(-1, 4, 4)\n",
    "rotation_proposals.shape"
   ]
  },
  {
   "cell_type": "code",
   "execution_count": 31,
   "metadata": {},
   "outputs": [],
   "source": [
    "render_planes_jit = jax.jit(lambda p: render_planes(p,shape,h,w,fx_fy,cx_cy))\n",
    "render_planes_parallel_jit = jax.jit(jax.vmap(lambda p: render_planes(p,shape,h,w,fx_fy,cx_cy)))\n",
    "gt_images = render_planes_parallel_jit(gt_poses)\n",
    "# print(\"gt_images.shape\", gt_images.shape)\n",
    "# print((gt_images[0,:,:,-1] > 0 ).sum())\n",
    "\n",
    "key = jax.random.PRNGKey(3)\n",
    "scorer = make_scoring_function(shape, h, w, fx_fy, cx_cy ,r, outlier_prob)\n",
    "# score = scorer(key, gt_poses[0,:,:], gt_images[0,:,:,:])\n",
    "# score = scorer(gt_poses[0,:,:], gt_images[0,:,:,:])\n",
    "\n",
    "scorer_parallel = jax.vmap(scorer, in_axes = (0, None))\n",
    "\n",
    "# print(\"score\", score)"
   ]
  },
  {
   "cell_type": "code",
   "execution_count": 10,
   "metadata": {},
   "outputs": [],
   "source": [
    "def grayscale(arr, max_depth=10.0):\n",
    "    return (np.array(arr) / max_depth * 255.0).astype('uint8')"
   ]
  },
  {
   "cell_type": "code",
   "execution_count": 11,
   "metadata": {},
   "outputs": [],
   "source": [
    "# TODO\n",
    "\"\"\"\n",
    "# Define a corner rendering function (like get cube shape) so that we can reliably render from any position\n",
    "# (get a coordinate image for the template)\n",
    "\n",
    "# initialize template center at the center of the ORB point\n",
    "# WITHIN patch follow icp protocols (see icp.jl: get distances to all neighbors, take argmin, get rotation via svd)\n",
    "\"\"\"\n",
    "\n",
    "# Get a generic corner shape\n",
    "corner_shape = get_corner_shape(0.15)\n",
    "# render_planes_jit = jax.jit(lambda p: render_planes(p,shape,h,w,fx_fy,cx_cy))\n",
    "render_corner_jit = jax.jit(lambda p, crnr_shape: render_planes(p, crnr_shape, h, w, fx_fy, cx_cy))\n",
    "corner_template = render_corner_jit(TEMPLATE_DEFAULT_POSE, corner_shape) \n",
    "\n",
    "# plt.imshow(corner_template[:, :, 2]); plt.show()  # visualize shape"
   ]
  },
  {
   "cell_type": "code",
   "execution_count": 12,
   "metadata": {},
   "outputs": [
    {
     "data": {
      "image/png": "[encoded data removed]",
      "text/plain": [
       "<Figure size 640x480 with 1 Axes>"
      ]
     },
     "metadata": {},
     "output_type": "display_data"
    },
    {
     "name": "stdout",
     "output_type": "stream",
     "text": [
      "223 129\n"
     ]
    }
   ],
   "source": [
    "# Get observed frame, compute keypoints, and take one for experiment\n",
    "\n",
    "test_gt_images = []\n",
    "\n",
    "test_frame_idx = 10\n",
    "observed = gt_images[test_frame_idx, :, :, :]\n",
    "test_gt_images.append(observed); test_gt_images = jnp.stack(test_gt_images)\n",
    "observed_viz = grayscale(observed)\n",
    "observed_depth = observed[:, :, 2]\n",
    "# Initiate ORB detector\n",
    "orb = cv2.ORB_create()\n",
    "# find the keypoints / descriptors with ORB\n",
    "kp, des = orb.detectAndCompute(observed_viz,None)\n",
    "observed_depth_kp = cv2.drawKeypoints(observed_viz[:, :, 2], kp, None, color=(0,255,0), flags=0)  # just for viz\n",
    "plt.imshow(observed_depth_kp), plt.show()\n",
    "\n",
    "\n",
    "sample_keypoint = kp[4].pt  # example\n",
    "t_col, t_row = sample_keypoint\n",
    "t_col, t_row = int(t_col), int(t_row); print(t_col, t_row)\n",
    "obs_x, obs_y, obs_z = observed[t_row, t_col, :3]"
   ]
  },
  {
   "cell_type": "code",
   "execution_count": 13,
   "metadata": {},
   "outputs": [
    {
     "data": {
      "image/png": "[encoded data removed]",
      "text/plain": [
       "<Figure size 640x480 with 1 Axes>"
      ]
     },
     "metadata": {},
     "output_type": "display_data"
    }
   ],
   "source": [
    "# move the corner template to the desired position (with an initial orientation)\n",
    "\n",
    "dx, dy, dz =  (observed[t_row, t_col, :3] - TEMPLATE_DEFAULT_POSE[:3,-1])\n",
    "# dx, dy, dz = 1.5, 0, 0 \n",
    "tm = jnp.array([\n",
    "    [1.0, 0.0, 0.0, dx],   \n",
    "    [0.0, 1.0, 0.0, dy],   \n",
    "    [0.0, 0.0, 1.0, dz],   \n",
    "    [0.0, 0.0, 0.0, 1.0],   \n",
    "    ]\n",
    ")  # full transition matrix\n",
    "\n",
    "gx, gy, gz = observed[t_row, t_col, :3]\n",
    "translation_proposal = jnp.array([\n",
    "    [0.0, 0.0, 0.0, gx],   \n",
    "    [0.0, 0.0, 0.0, gy],   \n",
    "    [0.0, 0.0, 0.0, gz],   \n",
    "    [0.0, 0.0, 0.0, 0.0],   \n",
    "    ]\n",
    ")  # translation-only delta matrix\n",
    "\n",
    "\n",
    "moved_corner_template = render_corner_jit(tm @ OBJ_DEFAULT_POSE, corner_shape)\n",
    "plt.imshow(grayscale(moved_corner_template[:, :, 2])); plt.show()  # visualize shape"
   ]
  },
  {
   "cell_type": "code",
   "execution_count": 32,
   "metadata": {},
   "outputs": [],
   "source": [
    "NUM_BATCHES = rotation_proposals.shape[0] // 300\n",
    "rotation_proposals_batches = jnp.array(jnp.split(rotation_proposals, NUM_BATCHES))\n",
    "\n",
    "def inference_frame(gt_image):  # scan over batches for single image\n",
    "    def enum_infer_batch_scan(carry, rotation_proposals_batch):  # use global translation proposal/gt_test_images\n",
    "        # score over the selected rotation proposals\n",
    "        proposals = rotation_proposals_batch + translation_proposal\n",
    "        weights_new = scorer_parallel(proposals, gt_image)\n",
    "        x, x_weight = proposals[jnp.argmax(weights_new)], jnp.max(weights_new)\n",
    "\n",
    "        # prev_x, prev_weight = carry\n",
    "        new_x, new_weight = jax.lax.cond(carry[-1] > x_weight, lambda: carry, lambda: (x, x_weight))\n",
    "\n",
    "        return (new_x, new_weight), None  # return highest weight pose proposal encountered so far\n",
    "    best_prop, _ = jax.lax.scan(enum_infer_batch_scan, (jnp.empty((4,4)), jnp.NINF), rotation_proposals_batches)\n",
    "    return best_prop[0]\n",
    "\n",
    "inference_frame_jit = jax.jit(inference_frame)\n",
    "# best_pos = inference_frame(test_gt_images[0])\n",
    "\n",
    "inference_frames = jax.vmap(inference_frame_jit, in_axes=(0)) # vmap over images\n",
    "inference_frames_jit = jax.jit(inference_frames)\n",
    "\n"
   ]
  },
  {
   "cell_type": "code",
   "execution_count": 34,
   "metadata": {},
   "outputs": [],
   "source": [
    "all_best_poses = inference_frames_jit(test_gt_images)"
   ]
  },
  {
   "cell_type": "code",
   "execution_count": 35,
   "metadata": {},
   "outputs": [
    {
     "data": {
      "image/png": "[encoded data removed]",
      "text/plain": [
       "<Figure size 640x480 with 1 Axes>"
      ]
     },
     "metadata": {},
     "output_type": "display_data"
    }
   ],
   "source": [
    "final_corner_template = render_planes_jit(all_best_poses[0])\n",
    "plt.imshow(grayscale(final_corner_template[:, :, 2])); plt.show()  # visualize shape"
   ]
  },
  {
   "cell_type": "code",
   "execution_count": null,
   "metadata": {},
   "outputs": [],
   "source": [
    "# def inference_batch(gt_images):\n",
    "#     return jax.lax.scan(enum_infer_partial, )"
   ]
  },
  {
   "cell_type": "code",
   "execution_count": null,
   "metadata": {},
   "outputs": [],
   "source": [
    "# save preliminary results in gif\n",
    "cm = plt.get_cmap('turbo')\n",
    "\n",
    "max_depth = 10.0\n",
    "images = []\n",
    "middle_width = 50\n",
    "for i in range(gt_images.shape[0]):\n",
    "    dst = Image.new(\n",
    "        \"RGBA\", (2 * w + middle_width, h)\n",
    "    )\n",
    "    observed_image_pil = Image.fromarray(\n",
    "        (cm(np.array(gt_images[i,:, :, 2]) / max_depth) * 255.0).astype(np.int8), mode=\"RGBA\"\n",
    "    )\n",
    "\n",
    "    dst.paste(\n",
    "        observed_image_pil,\n",
    "        (0, 0),\n",
    "    )\n",
    "\n",
    "    ######\n",
    "\n",
    "    pose = inferred_poses[i]\n",
    "    rendered_image = render_planes_jit(pose)\n",
    "    # rendered_image = render_corner_jit(pose, corner_shape)\n",
    "    rendered_image_pil = Image.fromarray(\n",
    "        (cm(np.array(rendered_image[:, :, 2]) / max_depth) * 255.0).astype(np.int8), mode=\"RGBA\"\n",
    "    )\n",
    "\n",
    "    # with keypoits\n",
    "    # rendered_frame = np.array(rendered_image[:, :, 2] / max_depth * 255.0).astype('uint8')\n",
    "    # rendered_image_pil = Image.fromarray(\n",
    "    #     rendered_frame, mode=\"RGBA\"\n",
    "    # )\n",
    "\n",
    "    # orb = cv2.ORB_create(nfeatures=10)\n",
    "    # # find the keypoints with ORB\n",
    "    # kp = orb.detect(rendered_frame,None)\n",
    "    # # compute the descriptors with ORB\n",
    "    # kp, des = orb.compute(rendered_frame, kp)\n",
    "    # draw only keypoints location,not size and orientation\n",
    "    # rendered_image_pil = Image.fromarray(cv2.drawKeypoints(rendered_frame, kp, None, color=(0,255,0), flags=0))\n",
    "    dst.paste(\n",
    "        rendered_image_pil,\n",
    "        (w + middle_width, 0),\n",
    "    )\n",
    "    images.append(dst)\n",
    "\n",
    "\n",
    "\n",
    "images[0].save(\n",
    "    fp=\"kerm_out.gif\",\n",
    "    format=\"GIF\",\n",
    "    append_images=images,\n",
    "    save_all=True,\n",
    "    duration=200,\n",
    "    loop=0,\n",
    ")"
   ]
  }
 ],
 "metadata": {
  "kernelspec": {
   "display_name": "Python 3 (ipykernel)",
   "language": "python",
   "name": "python3"
  },
  "orig_nbformat": 4
 },
 "nbformat": 4,
 "nbformat_minor": 2
}
