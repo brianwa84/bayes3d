{
 "cells": [
  {
   "cell_type": "code",
   "execution_count": 13,
   "id": "bf7e1525-cd33-4c08-b145-c4b7b62e1f26",
   "metadata": {
    "tags": []
   },
   "outputs": [
    {
     "name": "stdout",
     "output_type": "stream",
     "text": [
      "Increasing frame buffer size to (width, height, depth) = (160, 160, 512)\n"
     ]
    },
    {
     "name": "stderr",
     "output_type": "stream",
     "text": [
      "[E rasterize_gl.cpp:121] OpenGL version reported as 4.6\n"
     ]
    }
   ],
   "source": [
    "import bayes3d as b\n",
    "import jax.numpy as jnp\n",
    "import jax\n",
    "import matplotlib.pyplot as plt\n",
    "from mpl_toolkits.axes_grid1 import make_axes_locatable\n",
    "\n",
    "H,W = 150,150\n",
    "intrinsics = b.Intrinsics(\n",
    "    height=H,\n",
    "    width=W,\n",
    "    fx=200.0, fy=200.0,\n",
    "    cx=W/2.0, cy=H/2.0,\n",
    "    near=0.01, far=2.5\n",
    ")\n",
    "renderer = b.Renderer(intrinsics)\n",
    "renderer.add_mesh(\n",
    "    b.mesh.make_cuboid_mesh(jnp.array([0.1, 0.1, 0.1]))\n",
    ")\n",
    "renderer.add_mesh(\n",
    "    b.mesh.make_cuboid_mesh(jnp.array([0.01, 0.01, 0.01]))\n",
    ")"
   ]
  },
  {
   "cell_type": "code",
   "execution_count": 19,
   "id": "15d0f2f7-7013-4441-999c-a527983ea5df",
   "metadata": {
    "tags": []
   },
   "outputs": [],
   "source": [
    "contact_plane = b.t3d.inverse_pose(b.t3d.transform_from_pos_target_up(\n",
    "    jnp.array([0.0, 1.5, 1.0]),\n",
    "    jnp.array([0.0, 0.0, 0.0]),\n",
    "    jnp.array([0.0, 0.0, 1.0]),\n",
    "))\n"
   ]
  },
  {
   "cell_type": "code",
   "execution_count": 20,
   "id": "ccaf4506-fca1-410d-86c7-fdc72d388d19",
   "metadata": {
    "tags": []
   },
   "outputs": [],
   "source": [
    "_xy_to_pose = lambda xy: contact_plane @ b.scene_graph.relative_pose_from_edge(\n",
    "    jnp.array([xy[0], xy[1], 0.0]),\n",
    "    3,\n",
    "    renderer.model_box_dims[0]\n",
    ")\n",
    "xy_to_pose = jax.jit(_xy_to_pose)\n",
    "xy_to_pose_parallel = jax.jit(jax.vmap(_xy_to_pose))"
   ]
  },
  {
   "cell_type": "code",
   "execution_count": 21,
   "id": "9c072cb3-b535-466c-9bec-b672c68f0eaa",
   "metadata": {
    "tags": []
   },
   "outputs": [
    {
     "data": {
      "image/png": "[encoded data removed]",
      "text/plain": [
       "<PIL.Image.Image image mode=RGBA size=150x150 at 0x7F6D503B8790>"
      ]
     },
     "execution_count": 21,
     "metadata": {},
     "output_type": "execute_result"
    }
   ],
   "source": [
    "x,y = 0.2, 0.2\n",
    "observed_img = renderer.render_single_object(xy_to_pose(jnp.array([x,y])), 0)[:,:,:3]\n",
    "b.get_depth_image(observed_img[:,:,2])"
   ]
  },
  {
   "cell_type": "code",
   "execution_count": 22,
   "id": "733dbff7-a762-4822-b60d-efa93248eb67",
   "metadata": {},
   "outputs": [],
   "source": [
    "make_translation_grid_enumeration_2d_jit = jax.jit(b.make_translation_grid_enumeration_2d, static_argnums=(4,5,))\n",
    "likelihood_parallel_over_images = jax.jit(jax.vmap(\n",
    "    b.threedp3_likelihood, in_axes=(None, 0, None, None, None, None))\n",
    "    ,static_argnames=('filter_size',)\n",
    ")"
   ]
  },
  {
   "cell_type": "code",
   "execution_count": 23,
   "id": "13d03aa3-766e-45f4-9320-75e23d2e682c",
   "metadata": {
    "tags": []
   },
   "outputs": [
    {
     "data": {
      "application/vnd.jupyter.widget-view+json": {
       "model_id": "944158d80f5a4544b728748c343ec8be",
       "version_major": 2,
       "version_minor": 0
      },
      "text/plain": [
       "VBox(children=(interactive(children=(FloatSlider(value=0.0, description='observed x:', max=1.0, min=-1.0), Flo…"
      ]
     },
     "metadata": {},
     "output_type": "display_data"
    }
   ],
   "source": [
    "%matplotlib inline\n",
    "import numpy as np\n",
    "import matplotlib.pyplot as plt\n",
    "from ipywidgets import interact, interactive, FloatSlider, IntSlider, Button, Output, HBox, VBox, FloatLogSlider\n",
    "\n",
    "out = Output(layout={'border': '5px solid black', \"height\" : '100px'})\n",
    "\n",
    "def func(x,y, grid_width, grid_points, variance, outlier_prob, outlier_volume, filter_size):\n",
    "    \n",
    "    observed_img = renderer.render_single_object(xy_to_pose(jnp.array([x,y])), 0)[:,:,:3]\n",
    "    \n",
    "    fig, ax = plt.subplots(1, 4, figsize=(15, 55))\n",
    "    contact_params = make_translation_grid_enumeration_2d_jit(grid_width, grid_width, -grid_width, -grid_width, grid_points, grid_points)\n",
    "    poses = xy_to_pose_parallel(contact_params)\n",
    "    rendered_images = renderer.render_multiobject_parallel(poses[None,...], [0])\n",
    "\n",
    "    scores = likelihood_parallel_over_images(observed_img, rendered_images, variance, outlier_prob, outlier_volume, filter_size)\n",
    "    d = ax[1].pcolormesh(b.utils.normalize_log_scores(scores).reshape(grid_points, grid_points), edgecolors='k', linewidth=2, vmin=0.0, vmax=0.4)\n",
    "    ax[1].set_aspect('equal')\n",
    "    ax[1].set_title(\"Posterior on xy\")\n",
    "    divider = make_axes_locatable(ax[0])\n",
    "    cax = divider.append_axes('right', size='5%', pad=0.05)\n",
    "    fig.colorbar(d, cax=cax, orientation='vertical');\n",
    "\n",
    "    ax[2].imshow(rendered_images[scores.argmax(),:,:,2])\n",
    "    ax[2].set_title(\"Best Reconstruction\")\n",
    "\n",
    "    ax[0].imshow(observed_img[:,:,2])\n",
    "    ax[0].set_title(\"Observed Image\")\n",
    "    \n",
    "    enumeration = renderer.render_multiobject(poses, [1 for _ in range(len(poses))])\n",
    "    ax[3].imshow(enumeration[:,:,2])\n",
    "    \n",
    "    # prob_not_outlier = b.threedp3_likelihood_per_pixel_jit(observed_img, rendered_images[scores.argmax()], variance, 0.0, 1.0, filter_size)\n",
    "    # is_outlier = prob_not_outlier < (jnp.log(outlier_prob) - jnp.log(outlier_volume))\n",
    "    # ax[4].matshow(1.0*is_outlier,vmin=0.0, vmax=1.0)\n",
    "\n",
    "    \n",
    "    \n",
    "    \n",
    "    with out: \n",
    "        out.clear_output()\n",
    "        display(f\"variance   = {variance}\")\n",
    "        display(f\"outlier_prob = {outlier_prob}\")\n",
    "        display(f\"outlier_volume = {outlier_volume}\")\n",
    "        display(f\"filter_size = {filter_size}\")\n",
    "\n",
    "w = interactive(func, \n",
    "    x = FloatSlider(min=-1.0, max=1.0, value=0.0, description=\"observed x:\"),\n",
    "    y = FloatSlider(min=-1.0, max=1.0, value=0.2, description=\"observed y:\"),\n",
    "    grid_width = FloatSlider(min=0.01, max=1.0, value=0.4, description=\"grid width:\"),\n",
    "    grid_points = IntSlider(min=1, max=15, step=1, value=7, escription=\"grid_points :\"),\n",
    "    variance = FloatLogSlider(base=10.0, min=-4, max=10, value=0.1, description=\"variance:\"),\n",
    "    outlier_prob = FloatSlider(min=0.001, max=0.1, step=0.01,value=0.1, description=\"outlier_prob:\"),\n",
    "    outlier_volume = FloatLogSlider(base=10.0, min=-4, max=10, step=0.1, value=10.0, description=\"outlier_volume:\"),\n",
    "    filter_size = IntSlider(min=0, max=8, step=1, value=3, description='filter_size:'),\n",
    ");\n",
    "display(VBox([w,out]))"
   ]
  },
  {
   "cell_type": "code",
   "execution_count": null,
   "id": "75bd8b8b-7e8c-4c07-aafe-1a83cbd9cf39",
   "metadata": {
    "tags": []
   },
   "outputs": [],
   "source": []
  },
  {
   "cell_type": "code",
   "execution_count": null,
   "id": "c24a98ec-e384-4701-86e0-8a3222c4a433",
   "metadata": {},
   "outputs": [],
   "source": []
  }
 ],
 "metadata": {
  "kernelspec": {
   "display_name": "Python 3 (ipykernel)",
   "language": "python",
   "name": "python3"
  },
  "language_info": {
   "codemirror_mode": {
    "name": "ipython",
    "version": 3
   },
   "file_extension": ".py",
   "mimetype": "text/x-python",
   "name": "python",
   "nbconvert_exporter": "python",
   "pygments_lexer": "ipython3",
   "version": "3.8.16"
  }
 },
 "nbformat": 4,
 "nbformat_minor": 5
}
