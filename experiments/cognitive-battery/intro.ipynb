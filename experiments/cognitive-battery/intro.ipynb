{
 "cells": [
  {
   "cell_type": "markdown",
   "metadata": {},
   "source": [
    "## Cognitive Battery Introduction: Jax-3DP3"
   ]
  },
  {
   "cell_type": "code",
   "execution_count": 1,
   "metadata": {},
   "outputs": [
    {
     "name": "stdout",
     "output_type": "stream",
     "text": [
      "Jupyter environment detected. Enabling Open3D WebVisualizer.\n",
      "[Open3D INFO] WebRTC GUI backend enabled.\n",
      "[Open3D INFO] WebRTCWindowSystem: HTTP handshake server disabled.\n"
     ]
    }
   ],
   "source": [
    "import os\n",
    "import numpy as np\n",
    "import matplotlib.pyplot as plt\n",
    "import jax3dp3\n",
    "from jax3dp3.viz import (\n",
    "    save_depth_image,\n",
    "    get_depth_image,\n",
    "    multi_panel,\n",
    ")\n",
    "from jax3dp3.transforms_3d import transform_from_pos, depth_to_coords_in_camera\n",
    "from jax3dp3.jax_rendering import (\n",
    "    get_rectangular_prism_shape,\n",
    "    render_planes_multiobject,\n",
    "    batched_scorer_parallel_params,\n",
    ")\n",
    "import jax.numpy as jnp\n",
    "import jax\n",
    "from scipy.spatial.transform import Rotation as R\n",
    "from jax3dp3.viz import make_gif_from_pil_images\n",
    "from PIL import Image\n",
    "from sklearn.cluster import KMeans, OPTICS, DBSCAN\n",
    "import trimesh\n",
    "from tqdm import tqdm\n",
    "\n",
    "import cog_utils as utils"
   ]
  },
  {
   "cell_type": "markdown",
   "metadata": {},
   "source": [
    "1. Initialize camera metadata and path to data:"
   ]
  },
  {
   "cell_type": "code",
   "execution_count": 2,
   "metadata": {},
   "outputs": [],
   "source": [
    "scene = \"gravity\"\n",
    "data_path = f\"/home/khaledshehada/cog_jax3dp3_data/{scene}_data/videos/\"\n",
    "num_frames = len(os.listdir(os.path.join(data_path, \"frames\")))"
   ]
  },
  {
   "cell_type": "code",
   "execution_count": 3,
   "metadata": {},
   "outputs": [
    {
     "name": "stdout",
     "output_type": "stream",
     "text": [
      "Increasing frame buffer size to (width, height, depth) = (320, 320, 2048)\n"
     ]
    }
   ],
   "source": [
    "width = 300\n",
    "height = 300\n",
    "fov = 90\n",
    "\n",
    "fx, fy, cx, cy = utils.get_camera_intrinsics(width, height, fov)\n",
    "\n",
    "fx_fy = jnp.array([fx, fy])\n",
    "cx_cy = jnp.array([cx, cy])\n",
    "near, far = 0.001, 50.0\n",
    "K = jnp.array(\n",
    "    [\n",
    "        [fx_fy[0], 0.0, cx_cy[0]],\n",
    "        [0.0, fx_fy[1], cx_cy[1]],\n",
    "        [0.0, 0.0, 1.0],\n",
    "    ]\n",
    ")\n",
    "\n",
    "jax3dp3.setup_renderer(height, width, fx, fy, cx, cy, near, far)"
   ]
  },
  {
   "cell_type": "markdown",
   "metadata": {},
   "source": [
    "2. Load ground-truth RGB images, depth, and segmentation data.\n"
   ]
  },
  {
   "cell_type": "code",
   "execution_count": 4,
   "metadata": {},
   "outputs": [],
   "source": [
    "rgb_images, depth_images, seg_maps = [], [], []\n",
    "rgb_images_pil = []\n",
    "for i in range(num_frames):\n",
    "    rgb_path = os.path.join(data_path, f\"frames/frame_{i}.jpeg\")\n",
    "    if not os.path.isfile(rgb_path):\n",
    "        rgb_path = rgb_path.replace(\"jpeg\", \"png\")\n",
    "    rgb_img = Image.open(rgb_path)\n",
    "    rgb_images_pil.append(rgb_img)\n",
    "    rgb_images.append(np.array(rgb_img))\n",
    "\n",
    "    depth_path = os.path.join(data_path, f\"depths/frame_{i}.npy\")\n",
    "    depth_npy = np.load(depth_path)\n",
    "    depth_images.append(depth_npy)\n",
    "\n",
    "    seg_map = np.load(os.path.join(data_path, f\"segmented/frame_{i}.npy\"))\n",
    "    seg_maps.append(seg_map)"
   ]
  },
  {
   "cell_type": "markdown",
   "metadata": {},
   "source": [
    "3. Mask the depth and segmentation images to only include the relevant part of the scene (i.e. crop to the box above table)."
   ]
  },
  {
   "cell_type": "code",
   "execution_count": 5,
   "metadata": {},
   "outputs": [],
   "source": [
    "coord_images = []  # depth data in 2d view as images\n",
    "seg_images = []  # segmentation data as images\n",
    "\n",
    "for frame_idx in range(num_frames):\n",
    "    coord_image, _ = depth_to_coords_in_camera(depth_images[frame_idx], K)\n",
    "    segmentation_image = seg_maps[frame_idx].copy()\n",
    "    mask = np.invert(\n",
    "        # (coord_image[:, :, 0] < 2.0)\n",
    "        # * (coord_image[:, :, 0] > -1)\n",
    "        # * (coord_image[:, :, 1] < 0.463)\n",
    "        # * (coord_image[:, :, 1] > -0.8)\n",
    "        # * (coord_image[:, :, 2] < 3)\n",
    "        # * (coord_image[:, :, 2] > 0.25)\n",
    "        (coord_image[:, :, 0] < 1.1)\n",
    "        * (coord_image[:, :, 0] > -1)\n",
    "        * (coord_image[:, :, 1] < 0.565)\n",
    "        * (coord_image[:, :, 1] > -1)\n",
    "        * (coord_image[:, :, 2] > 1.2)\n",
    "        * (coord_image[:, :, 2] < 1.35)\n",
    "    )\n",
    "    coord_image[mask, :] = 0.0\n",
    "    segmentation_image[mask, :] = 0.0\n",
    "    coord_images.append(coord_image)\n",
    "    seg_images.append(segmentation_image)\n",
    "\n",
    "coord_images = np.stack(coord_images)\n",
    "seg_images = np.stack(seg_images)"
   ]
  },
  {
   "cell_type": "code",
   "execution_count": 6,
   "metadata": {},
   "outputs": [
    {
     "name": "stdout",
     "output_type": "stream",
     "text": [
      "apple\n",
      "tube_s_long\n",
      "bowl\n",
      "tube_s\n"
     ]
    }
   ],
   "source": [
    "# Load meshes\n",
    "meshes = []\n",
    "meshes_path = \"/home/khaledshehada/cog_jax3dp3_data/gravity_data/meshes/\"\n",
    "for mesh_name in os.listdir(meshes_path):\n",
    "    mesh_path = os.path.join(meshes_path, mesh_name)\n",
    "    mesh = trimesh.load(mesh_path)\n",
    "    jax3dp3.load_model(mesh)\n",
    "    meshes.append(mesh_name.replace(\".obj\", \"\"))\n",
    "    print(meshes[-1])"
   ]
  },
  {
   "cell_type": "markdown",
   "metadata": {},
   "source": [
    "4. Pick a starting frame and initialize the object shapes and poses from that frame"
   ]
  },
  {
   "cell_type": "code",
   "execution_count": 16,
   "metadata": {},
   "outputs": [
    {
     "data": {
      "image/png": "[encoded data removed]",
      "text/plain": [
       "<PIL.Image.Image image mode=RGB size=300x300>"
      ]
     },
     "execution_count": 16,
     "metadata": {},
     "output_type": "execute_result"
    }
   ],
   "source": [
    "start_t = 36\n",
    "seg_img = seg_images[start_t]\n",
    "Image.fromarray(seg_img)"
   ]
  },
  {
   "cell_type": "code",
   "execution_count": 26,
   "metadata": {},
   "outputs": [
    {
     "name": "stdout",
     "output_type": "stream",
     "text": [
      "[0 0 0] 252201\n",
      "[146  40   8] 6464\n",
      "[18 40 64] 7596\n",
      "[18 40  0] 91119\n",
      "[16 96 72] 3856\n",
      "[130  96  73] 3832\n",
      "[146  96  72] 5063\n",
      "[ 0 96 73] 87372\n",
      "[18 96 65] 6132\n",
      "[144  96   9] 3361\n",
      "[ 2 96  1] 3344\n",
      "[128  96  65] 3683\n",
      "[16 32  9] 721\n",
      "[73 68 32] 66\n",
      "[145  68   8] 1280\n",
      "[10 68 32] 63\n",
      "[25 48 32] 80\n",
      "[97 48 68] 77\n",
      "[24 48 68] 76\n",
      "[88 48 64] 1271\n",
      "[96 48 36] 59\n",
      "[32 48 68] 75\n",
      "[33 48 64] 1270\n",
      "[89 48 68] 75\n"
     ]
    },
    {
     "data": {
      "image/png": "[encoded data removed]",
      "text/plain": [
       "<PIL.Image.Image image mode=RGBA size=300x300>"
      ]
     },
     "execution_count": 26,
     "metadata": {},
     "output_type": "execute_result"
    }
   ],
   "source": [
    "num_objects = 12\n",
    "indices, poses = [], []\n",
    "obj_ids = jnp.unique(seg_img.reshape(-1, 3), axis=0)\n",
    "obj_ids = sorted(\n",
    "    obj_ids,\n",
    "    key = lambda x: jnp.all(seg_img == x, axis=-1).sum(),\n",
    "    reverse = True\n",
    ")\n",
    "for obj_id in obj_ids[:num_objects + 1]:\n",
    "    if jnp.all(obj_id == 0):\n",
    "        # Background\n",
    "        continue\n",
    "    \n",
    "    obj_mask = jnp.all(seg_img == obj_id, axis=-1)\n",
    "    masked_depth = coord_images[start_t].copy()\n",
    "    masked_depth[~obj_mask] = 0\n",
    "\n",
    "    object_points = coord_images[start_t][obj_mask]\n",
    "    maxs = np.max(object_points, axis=0)\n",
    "    mins = np.min(object_points, axis=0)\n",
    "    dims = maxs - mins\n",
    "    obj_center = (maxs + mins) / 2\n",
    "    obj_transform = transform_from_pos(obj_center)\n",
    "\n",
    "    best = None\n",
    "    k = np.inf\n",
    "    for m in range(len(meshes)):\n",
    "        obj_transforms = utils.get_object_transforms(meshes[m], obj_transform)\n",
    "        for i, transform in enumerate(obj_transforms):\n",
    "            rendered_image = jax3dp3.render_single_object(transform, m)\n",
    "            keep_points = jnp.sum(\n",
    "                jnp.logical_or(\n",
    "                    ((masked_depth[:, :, 2] != 0.0) * (rendered_image[:, :, 2] == 0)),\n",
    "                    ((masked_depth[:, :, 2] == 0.0) * (rendered_image[:, :, 2] != 0)),\n",
    "                )\n",
    "            ) / (rendered_image[:, :, 2] != 0.0).sum()\n",
    "            if keep_points < k:\n",
    "                k = keep_points\n",
    "                best = (m, transform)\n",
    "    if best:\n",
    "        indices.append(best[0])\n",
    "        poses.append(best[1])\n",
    "\n",
    "rendered_image = jax3dp3.render_multiobject(jnp.array(poses), indices)\n",
    "get_depth_image(rendered_image[:, :, 2], max=5)"
   ]
  },
  {
   "cell_type": "code",
   "execution_count": 18,
   "metadata": {},
   "outputs": [
    {
     "data": {
      "image/png": "[encoded data removed]",
      "text/plain": [
       "<PIL.Image.Image image mode=RGBA size=300x300>"
      ]
     },
     "execution_count": 18,
     "metadata": {},
     "output_type": "execute_result"
    }
   ],
   "source": [
    "jax3dp3.viz.get_depth_image(coord_images[start_t][:, :, 2], max=5)"
   ]
  },
  {
   "cell_type": "code",
   "execution_count": null,
   "metadata": {},
   "outputs": [],
   "source": [
    "coord_images[start_t].shape"
   ]
  },
  {
   "cell_type": "code",
   "execution_count": null,
   "metadata": {},
   "outputs": [],
   "source": [
    "meshes"
   ]
  },
  {
   "cell_type": "code",
   "execution_count": null,
   "metadata": {},
   "outputs": [],
   "source": [
    "obj_ids = set()\n",
    "shape_planes, shape_dims, init_poses = [], [], []\n",
    "for obj_id in jnp.unique(seg_img):\n",
    "    obj_mask = jnp.all(seg_img == obj_id, axis=-1)\n",
    "    if obj_id == 0:\n",
    "        continue\n",
    "    # if scene == \"shape\" and np.sum(obj_mask) < 100:  # Only for shape, [TODO] delete or automate later\n",
    "    #     continue\n",
    "    if jnp.all(obj_id == 0) or seg_img[obj_mask].shape[0] < 15:\n",
    "        continue\n",
    "\n",
    "    object_points = coord_images[start_t][obj_mask]\n",
    "    maxs = np.max(object_points, axis=0)\n",
    "    mins = np.min(object_points, axis=0)\n",
    "    dims = maxs - mins\n",
    "    center_of_box = (maxs + mins) / 2\n",
    "\n",
    "    init_pose = transform_from_pos(center_of_box)\n",
    "    init_poses.append(init_pose)\n",
    "\n",
    "    shape, dim = get_rectangular_prism_shape(dims)\n",
    "    shape_planes.append(shape)\n",
    "    shape_dims.append(dim)\n",
    "    obj_ids.add(obj_id.item())\n",
    "shape_planes = jnp.stack(shape_planes)\n",
    "shape_dims = jnp.stack(shape_dims)\n",
    "init_poses = jnp.stack(init_poses)"
   ]
  },
  {
   "cell_type": "markdown",
   "metadata": {},
   "source": [
    "5. Save the reconstructed depths to check that they align with the actual depths."
   ]
  },
  {
   "cell_type": "code",
   "execution_count": null,
   "metadata": {},
   "outputs": [],
   "source": [
    "def render_planes_multiobject_lambda(poses):\n",
    "    return render_planes_multiobject(\n",
    "        poses, shape_planes, shape_dims, height, width, fx, fy, cx, cy\n",
    "    )\n",
    "\n",
    "\n",
    "def render_planes_multiobject_multi_lambda(poses, planes, dims):\n",
    "    return render_planes_multiobject(poses, planes, dims, height, width, fx, fy, cx, cy)\n",
    "\n",
    "\n",
    "render_planes_multiobject_jit = jax.jit(render_planes_multiobject_lambda)\n",
    "render_planes_multiobject_multi_jit = jax.jit(render_planes_multiobject_multi_lambda)\n",
    "\n",
    "reconstruction_image = render_planes_multiobject_jit(init_poses)\n",
    "get_depth_image(reconstruction_image[:, :, 2], max=5.0)"
   ]
  },
  {
   "cell_type": "markdown",
   "metadata": {},
   "source": [
    "6. Define the liklihood methods and the proposal enumerations."
   ]
  },
  {
   "cell_type": "code",
   "execution_count": null,
   "metadata": {},
   "outputs": [],
   "source": [
    "# Liklihood parameters\n",
    "r = radius = 0.05\n",
    "outlier_prob = 0.01\n",
    "outlier_volume = 1\n",
    "\n",
    "# Enumeration parameters\n",
    "n = 5  # number of enumerated proposals on each dimension (x, y, z).\n",
    "d = 0.1  # the minimum and maximum position delta on each dimension (x, y, z).\n",
    "\n",
    "# Liklihood methods\n",
    "def likelihood(x, params):\n",
    "    obs = params[0]\n",
    "    rendered_image = render_planes_multiobject(\n",
    "        x, shape_planes, shape_dims, height, width, fx, fy, cx, cy\n",
    "    )\n",
    "    weight = jax3dp3.threedp3_likelihood(\n",
    "        obs, rendered_image, r, outlier_prob, outlier_volume\n",
    "    )\n",
    "    return weight\n",
    "\n",
    "\n",
    "likelihood_parallel = jax.vmap(likelihood, in_axes=(0, None))\n",
    "batched_scorer_parallel_jit = jax.jit(\n",
    "    lambda poses, image: batched_scorer_parallel_params(\n",
    "        likelihood_parallel, n, poses, (image,)\n",
    "    )\n",
    ")\n",
    "\n",
    "# Enumerating proposals\n",
    "enumerations = jax3dp3.make_translation_grid_enumeration(-d, -d, -d, d, d, d, n, n, n)"
   ]
  },
  {
   "cell_type": "markdown",
   "metadata": {},
   "source": [
    "7. For each frame, enumerate the positions of new object poses (currently translation only), and for each object pick the pose that maximizes the 3DP3 liklihood under a uniform prior."
   ]
  },
  {
   "cell_type": "code",
   "execution_count": null,
   "metadata": {},
   "outputs": [],
   "source": [
    "pose_estimates = init_poses.copy()\n",
    "t = start_t\n",
    "gt_image = jnp.array(coord_images[t])\n",
    "i = 0\n",
    "enumerations_full = jnp.tile(\n",
    "    jnp.eye(4)[None, :, :],\n",
    "    (enumerations.shape[0], pose_estimates.shape[0], 1, 1),\n",
    ")\n",
    "enumerations_full = enumerations_full.at[:, i, :, :].set(enumerations)\n",
    "proposals = jnp.einsum(\"bij,abjk->abik\", pose_estimates, enumerations_full)\n",
    "\n",
    "weights = batched_scorer_parallel_jit(proposals, gt_image)\n",
    "pose_estimates = proposals[weights.argmax()]"
   ]
  },
  {
   "cell_type": "code",
   "execution_count": null,
   "metadata": {},
   "outputs": [],
   "source": [
    "# # New objects\n",
    "# gt_image = jnp.array(coord_images[t])\n",
    "\n",
    "# depth_full = render_planes_multiobject_jit(pose_estimates)[:,:,2]\n",
    "# depth_difference = gt_image.at[jnp.where(depth_full != 0)].set(0)\n",
    "\n",
    "# depth_difference = depth_difference.reshape(-1, 3)\n",
    "# clustering = KMeans().fit(gt_image.reshape(-1, 3))\n",
    "# labels = clustering.labels_.reshape(300, 300)\n",
    "\n",
    "# for label in range(labels.max()):\n",
    "#     gt_image = jnp.array(coord_images[t]).at[labels != label].set(0)\n",
    "#     save_depth_image(gt_image[:,:,2], f\"clustering/{label}.png\", max=5)"
   ]
  },
  {
   "cell_type": "code",
   "execution_count": null,
   "metadata": {},
   "outputs": [],
   "source": [
    "num_steps = num_frames - start_t\n",
    "num_steps = 2\n",
    "occlusion_threshold = 10\n",
    "inferred_poses = []\n",
    "pose_estimates = init_poses.copy()\n",
    "for t in tqdm(range(start_t, start_t + num_steps)):\n",
    "    gt_image = jnp.array(coord_images[t])\n",
    "\n",
    "    # New objects\n",
    "    n_objects = pose_estimates.shape[0]\n",
    "    for i in range(n_objects):\n",
    "        # Occlusion detection: render depth with and without each object. If no difference, don't move object.\n",
    "        depth_with_object = render_planes_multiobject_jit(pose_estimates)\n",
    "        idxs = jnp.arange(n_objects) != i\n",
    "        depth_without_object = render_planes_multiobject_multi_jit(\n",
    "            pose_estimates[idxs],\n",
    "            shape_planes[idxs],\n",
    "            shape_dims[idxs],\n",
    "        )\n",
    "\n",
    "        if (\n",
    "            jnp.sum(depth_with_object[:, :, 2] != depth_without_object[:, :, 2])\n",
    "            < occlusion_threshold\n",
    "        ):\n",
    "            continue\n",
    "\n",
    "        enumerations_full = jnp.tile(\n",
    "            jnp.eye(4)[None, :, :],\n",
    "            (enumerations.shape[0], pose_estimates.shape[0], 1, 1),\n",
    "        )\n",
    "        enumerations_full = enumerations_full.at[:, i, :, :].set(enumerations)\n",
    "        proposals = jnp.einsum(\"bij,abjk->abik\", pose_estimates, enumerations_full)\n",
    "\n",
    "        weights = batched_scorer_parallel_jit(proposals, gt_image)\n",
    "        pose_estimates = proposals[weights.argmax()]\n",
    "    inferred_poses.append(pose_estimates.copy())"
   ]
  },
  {
   "cell_type": "markdown",
   "metadata": {},
   "source": [
    "8. Get the reconstructed poses for each frame and save them as a gif file with the gt data"
   ]
  },
  {
   "cell_type": "code",
   "execution_count": null,
   "metadata": {},
   "outputs": [],
   "source": [
    "all_images = []\n",
    "for t in range(start_t, start_t + num_steps):\n",
    "    rgb_viz = Image.fromarray(rgb_images[t].astype(np.int8), mode=\"RGB\")\n",
    "    gt_depth_1 = get_depth_image(coord_images[t][:, :, 2], max=5.0)\n",
    "    depth = render_planes_multiobject_jit(inferred_poses[t - start_t])\n",
    "    depth = get_depth_image(depth[:, :, 2], max=5.0)\n",
    "    all_images.append(\n",
    "        multi_panel(\n",
    "            [rgb_viz, gt_depth_1, depth],\n",
    "            [f\"\\nRGB Image\", f\"   Frame: {t}\\nActual Depth\", \"\\nReconstructed Depth\"],\n",
    "            middle_width=10,\n",
    "            label_fontsize=20,\n",
    "        )\n",
    "    )\n",
    "out_path = f\"{scene}_out.gif\"\n",
    "make_gif_from_pil_images(all_images, out_path)\n",
    "print(\"Saved output to:\", out_path)"
   ]
  },
  {
   "cell_type": "code",
   "execution_count": null,
   "metadata": {},
   "outputs": [],
   "source": []
  }
 ],
 "metadata": {
  "kernelspec": {
   "display_name": "venv",
   "language": "python",
   "name": "python3"
  },
  "language_info": {
   "codemirror_mode": {
    "name": "ipython",
    "version": 3
   },
   "file_extension": ".py",
   "mimetype": "text/x-python",
   "name": "python",
   "nbconvert_exporter": "python",
   "pygments_lexer": "ipython3",
   "version": "3.7.12"
  },
  "orig_nbformat": 4,
  "vscode": {
   "interpreter": {
    "hash": "9a3868bdd7d3c8a3e0bdbdcc5d56cecdac1cfc8e4c924f480e3352f5fc391e73"
   }
  }
 },
 "nbformat": 4,
 "nbformat_minor": 2
}
