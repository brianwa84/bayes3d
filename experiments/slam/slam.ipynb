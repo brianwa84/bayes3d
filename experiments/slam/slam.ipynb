{
 "cells": [
  {
   "cell_type": "code",
   "execution_count": 1,
   "id": "c9770a21",
   "metadata": {},
   "outputs": [
    {
     "name": "stdout",
     "output_type": "stream",
     "text": [
      "Jupyter environment detected. Enabling Open3D WebVisualizer.\n",
      "[Open3D INFO] WebRTC GUI backend enabled.\n",
      "[Open3D INFO] WebRTCWindowSystem: HTTP handshake server disabled.\n"
     ]
    }
   ],
   "source": [
    "from PIL import Image\n",
    "import jax3dp3 as j\n",
    "import os\n",
    "import numpy as np\n",
    "import jax.numpy as jnp\n",
    "from tqdm import tqdm\n",
    "import jax"
   ]
  },
  {
   "cell_type": "code",
   "execution_count": 10,
   "id": "4cd3e96a",
   "metadata": {},
   "outputs": [
    {
     "name": "stdout",
     "output_type": "stream",
     "text": [
      "You can open the visualizer by visiting the following URL:\n",
      "http://127.0.0.1:7002/static/\n"
     ]
    }
   ],
   "source": [
    "j.meshcat.setup_visualizer()"
   ]
  },
  {
   "cell_type": "code",
   "execution_count": 2,
   "id": "68928917",
   "metadata": {},
   "outputs": [
    {
     "name": "stderr",
     "output_type": "stream",
     "text": [
      "100%|████████████████████████████████████████████████████████████████████████████████████████████████████████████████████████████████████████████████████████████████████████████████████████████████████████████████████| 965/965 [00:00<00:00, 1237.37it/s]\n"
     ]
    }
   ],
   "source": [
    "f = open(os.path.join(j.utils.get_assets_dir(), f\"tum/livingRoom1.gt.freiburg\"),\"r\")\n",
    "data = f.readlines()\n",
    "data = [d.strip('\\n') for d in data]\n",
    "poses = [jnp.eye(4)]\n",
    "\n",
    "xyzw_to_rotation_matrix = jax.jit(j.t3d.xyzw_to_rotation_matrix)\n",
    "transform_from_rot_and_pos = jax.jit(j.t3d.transform_from_rot_and_pos)\n",
    "for i in tqdm(range(len(data))):\n",
    "    xyzq = list(map(float,data[i].split(\" \")))[1:]\n",
    "    pos = jnp.array([xyzq[:3]])\n",
    "    rot = xyzw_to_rotation_matrix(jnp.array(xyzq[3:]))\n",
    "    pose = transform_from_rot_and_pos(rot, pos)\n",
    "    poses.append(pose)\n",
    "poses = jnp.array(poses)"
   ]
  },
  {
   "cell_type": "code",
   "execution_count": 3,
   "id": "9b396d68",
   "metadata": {},
   "outputs": [
    {
     "name": "stderr",
     "output_type": "stream",
     "text": [
      "100%|██████████████████████████████████████████████████████████████████████████████████████████████████████████████████████████████████████████████████████████████████████████████████████████████████████████████████████| 966/966 [00:14<00:00, 65.93it/s]\n"
     ]
    }
   ],
   "source": [
    "IDX = 0\n",
    "rgbs = []\n",
    "original_depths = []\n",
    "for IDX in tqdm(range(len(poses))):\n",
    "    depth_filename = os.path.join(j.utils.get_assets_dir(), f\"tum/depth/{IDX}.png\")\n",
    "    rgb_filename = os.path.join(j.utils.get_assets_dir(), f\"tum/rgb/{IDX}.png\")\n",
    "    rgbs.append(jnp.array(Image.open(rgb_filename)))\n",
    "    original_depths.append(np.array(Image.open(depth_filename)) / 5000)"
   ]
  },
  {
   "cell_type": "code",
   "execution_count": 5,
   "id": "1b97dbc5",
   "metadata": {},
   "outputs": [],
   "source": [
    "unproject_depth = jax.jit(j.t3d.unproject_depth)\n",
    "apply_transform = jax.jit(j.t3d.apply_transform)"
   ]
  },
  {
   "cell_type": "code",
   "execution_count": 6,
   "id": "8fc4eec3",
   "metadata": {},
   "outputs": [],
   "source": [
    "original_intrinsics = j.Intrinsics(\n",
    "    original_depths[0].shape[0], original_depths[1].shape[1],\n",
    "    481.20, -480.00,319.50,239.50,0.001, 1000.0\n",
    ")\n",
    "intrinsics = j.camera.scale_camera_parameters(original_intrinsics, 0.2)\n",
    "depths = [j.utils.resize(d, intrinsics.height, intrinsics.width) for d in original_depths]"
   ]
  },
  {
   "cell_type": "code",
   "execution_count": 523,
   "id": "53d74ddb",
   "metadata": {},
   "outputs": [],
   "source": [
    "T1 = 250\n",
    "point_cloud_1 = apply_transform(unproject_depth(depths[T1], intrinsics), poses[T1])\n",
    "\n",
    "T2 = 255\n",
    "point_cloud_2 = apply_transform(unproject_depth(depths[T2], intrinsics), poses[T2])"
   ]
  },
  {
   "cell_type": "code",
   "execution_count": 530,
   "id": "89a9f75c",
   "metadata": {},
   "outputs": [],
   "source": [
    "point_cloud_1 = unproject_depth(depths[T1], intrinsics)\n",
    "point_cloud_2 = unproject_depth(depths[T2], intrinsics)\n",
    "\n",
    "correction_transform = j.t3d.inverse_pose(poses[T1]) @ poses[T2]\n",
    "point_cloud_2_corrected = apply_transform(unproject_depth(depths[T2], intrinsics),  correction_transform)"
   ]
  },
  {
   "cell_type": "code",
   "execution_count": 531,
   "id": "ba2fbd8f",
   "metadata": {},
   "outputs": [
    {
     "data": {
      "text/plain": [
       "Array(-20916.332, dtype=float32)"
      ]
     },
     "execution_count": 531,
     "metadata": {},
     "output_type": "execute_result"
    }
   ],
   "source": [
    "j.meshcat.clear()\n",
    "j.meshcat.show_cloud(\"1\", point_cloud_1.reshape(-1,3))\n",
    "j.meshcat.show_cloud(\"2\", point_cloud_2.reshape(-1,3), color=j.RED)\n",
    "\n",
    "R = 0.001\n",
    "OUTLIER_PROB = 0.1\n",
    "OUTLIER_VOLUME = 1.0\n",
    "j.threedp3_likelihood_jit(point_cloud_1, point_cloud_2, R, OUTLIER_PROB, OUTLIER_VOLUME)"
   ]
  },
  {
   "cell_type": "code",
   "execution_count": 532,
   "id": "3cd9867f",
   "metadata": {},
   "outputs": [
    {
     "data": {
      "text/plain": [
       "Array(-24087.125, dtype=float32)"
      ]
     },
     "execution_count": 532,
     "metadata": {},
     "output_type": "execute_result"
    }
   ],
   "source": [
    "j.meshcat.clear()\n",
    "j.meshcat.show_cloud(\"1\", point_cloud_1.reshape(-1,3))\n",
    "j.meshcat.show_cloud(\"2\", point_cloud_2_corrected.reshape(-1,3), color=j.RED)\n",
    "\n",
    "j.meshcat.show_pose(\"pose\", correction_transform)\n",
    "j.threedp3_likelihood_jit(point_cloud_1, j.t3d.apply_transform(point_cloud_2, \n",
    "    correction_transform), R, OUTLIER_PROB, OUTLIER_VOLUME)"
   ]
  },
  {
   "cell_type": "code",
   "execution_count": 511,
   "id": "938dc97a",
   "metadata": {},
   "outputs": [],
   "source": [
    "NUM_SAMPLES_FOR_ESTIMATE = 5000\n",
    "keys = jax.random.split(jax.random.PRNGKey(2), NUM_SAMPLES_FOR_ESTIMATE)"
   ]
  },
  {
   "cell_type": "code",
   "execution_count": 512,
   "id": "d2b56716",
   "metadata": {},
   "outputs": [],
   "source": [
    "pose_estimate = jnp.eye(4)"
   ]
  },
  {
   "cell_type": "code",
   "execution_count": 513,
   "id": "11b9a4cc",
   "metadata": {},
   "outputs": [],
   "source": [
    "def refine_pose_estimate_inner(pose_estimate, point_cloud_1, point_cloud_2, keys, var, conc):\n",
    "    keys = jax.random.split(keys[0], NUM_SAMPLES_FOR_ESTIMATE)\n",
    "    pose_proposals = jax.vmap(lambda key: j.distributions.gaussian_vmf_sample(\n",
    "        key, pose_estimate, var, conc))(\n",
    "        keys\n",
    "    )\n",
    "\n",
    "    rendered_images = jnp.einsum(\n",
    "        'aij,...j->a...i',\n",
    "        pose_proposals,\n",
    "        jnp.concatenate([point_cloud_2, jnp.ones(point_cloud_2.shape[:-1] + (1,))], axis=-1),\n",
    "    )[..., :-1]\n",
    "\n",
    "    best_score = j.threedp3_likelihood_jit(\n",
    "        point_cloud_1, j.t3d.apply_transform(point_cloud_2, \n",
    "        pose_estimate), R, OUTLIER_PROB, OUTLIER_VOLUME)\n",
    "    \n",
    "    weights = j.threedp3_likelihood_parallel_jit(point_cloud_1, rendered_images, R, OUTLIER_PROB, OUTLIER_VOLUME)\n",
    "    weights_max = weights.max()\n",
    "    print(weights_max)\n",
    "    better = (weights_max > best_score)\n",
    "    pose_estimate = pose_proposals[weights.argmax()] * better + pose_estimate* (1.0 - better)\n",
    "    return pose_estimate, keys\n",
    "\n",
    "refine_pose_estimate_jit = jax.jit(refine_pose_estimate_inner)"
   ]
  },
  {
   "cell_type": "code",
   "execution_count": 516,
   "id": "19d53c86",
   "metadata": {},
   "outputs": [
    {
     "data": {
      "text/plain": [
       "Array(-39583.477, dtype=float32)"
      ]
     },
     "execution_count": 516,
     "metadata": {},
     "output_type": "execute_result"
    }
   ],
   "source": [
    "pose_estimate,keys = refine_pose_estimate_jit(pose_estimate, point_cloud_1, point_cloud_2, keys, 0.01, 1000.0)\n",
    "pose_estimate,keys = refine_pose_estimate_jit(pose_estimate, point_cloud_1, point_cloud_2, keys, 0.005, 2000.0)\n",
    "pose_estimate,keys = refine_pose_estimate_jit(pose_estimate, point_cloud_1, point_cloud_2, keys, 0.001, 1000.0)\n",
    "best_score = j.threedp3_likelihood_jit(point_cloud_1, j.t3d.apply_transform(point_cloud_2, \n",
    "    pose_estimate), R, OUTLIER_PROB, OUTLIER_VOLUME)\n",
    "best_score"
   ]
  },
  {
   "cell_type": "code",
   "execution_count": 521,
   "id": "f8094a03",
   "metadata": {},
   "outputs": [],
   "source": [
    "j.meshcat.clear()\n",
    "j.meshcat.show_cloud(\"1\", point_cloud_1.reshape(-1,3))\n",
    "j.meshcat.show_cloud(\"2\", point_cloud_2.reshape(-1,3), color=j.RED)"
   ]
  },
  {
   "cell_type": "code",
   "execution_count": 522,
   "id": "ce2852bc",
   "metadata": {},
   "outputs": [],
   "source": [
    "j.meshcat.clear()\n",
    "j.meshcat.show_cloud(\"1\", point_cloud_1.reshape(-1,3))\n",
    "j.meshcat.show_cloud(\"2\", j.t3d.apply_transform(point_cloud_2, pose_estimate).reshape(-1,3), color=j.RED)"
   ]
  },
  {
   "cell_type": "code",
   "execution_count": null,
   "id": "ad92b0e8",
   "metadata": {},
   "outputs": [],
   "source": []
  },
  {
   "cell_type": "code",
   "execution_count": 432,
   "id": "622ea870",
   "metadata": {},
   "outputs": [
    {
     "name": "stderr",
     "output_type": "stream",
     "text": [
      "100%|████████████████████████████████████████████████████████████████████████████████████████████████████████████████████████████████████████████████████████████████████████████████████████████████████████████████████████| 19/19 [00:22<00:00,  1.19s/it]\n"
     ]
    }
   ],
   "source": [
    "point_clouds = [\n",
    "    unproject_depth(depths[t], intrinsics)\n",
    "    for t in jnp.arange(200, 300, 5)\n",
    "]\n",
    "transforms = []\n",
    "for i in tqdm(range(len(point_clouds) - 1)):\n",
    "    pose_estimate = jnp.eye(4)\n",
    "    point_cloud_1, point_cloud_2 = point_clouds[i], point_clouds[i+1]\n",
    "    pose_estimate,keys = refine_pose_estimate_jit(pose_estimate, point_cloud_1, point_cloud_2, keys, 0.01, 1000.0)\n",
    "    pose_estimate,keys = refine_pose_estimate_jit(pose_estimate, point_cloud_1, point_cloud_2, keys, 0.005, 2000.0)\n",
    "    pose_estimate,keys = refine_pose_estimate_jit(pose_estimate, point_cloud_1, point_cloud_2, keys, 0.001, 1000.0)\n",
    "    pose_estimate,keys = refine_pose_estimate_jit(pose_estimate, point_cloud_1, point_cloud_2, keys, 0.001, 1000.0)\n",
    "    transforms.append(pose_estimate)\n"
   ]
  },
  {
   "cell_type": "code",
   "execution_count": 446,
   "id": "22a0d52f",
   "metadata": {},
   "outputs": [],
   "source": [
    "i = 15"
   ]
  },
  {
   "cell_type": "code",
   "execution_count": 450,
   "id": "db4f665c",
   "metadata": {},
   "outputs": [],
   "source": [
    "j.meshcat.clear()\n",
    "j.meshcat.show_cloud(\"1\", point_clouds[i].reshape(-1,3))\n",
    "j.meshcat.show_cloud(\"2\", point_clouds[i+1].reshape(-1,3), color=j.RED)\n"
   ]
  },
  {
   "cell_type": "code",
   "execution_count": 451,
   "id": "dd5bff45",
   "metadata": {},
   "outputs": [],
   "source": [
    "j.meshcat.clear()\n",
    "j.meshcat.show_cloud(\"1\", point_clouds[i].reshape(-1,3))\n",
    "j.meshcat.show_cloud(\"2\", j.t3d.apply_transform(point_clouds[i+1], transforms[i]).reshape(-1,3), color=j.RED)\n"
   ]
  },
  {
   "cell_type": "code",
   "execution_count": 445,
   "id": "18beebfc",
   "metadata": {},
   "outputs": [
    {
     "data": {
      "text/plain": [
       "20"
      ]
     },
     "execution_count": 445,
     "metadata": {},
     "output_type": "execute_result"
    }
   ],
   "source": [
    "len(point_clouds)"
   ]
  },
  {
   "cell_type": "code",
   "execution_count": null,
   "id": "bb45a9e4",
   "metadata": {},
   "outputs": [],
   "source": []
  },
  {
   "cell_type": "code",
   "execution_count": 30,
   "id": "63775eea",
   "metadata": {},
   "outputs": [],
   "source": [
    "j.meshcat.clear()\n",
    "j.meshcat.show_cloud(\"1\", point_cloud_1.reshape(-1,3))\n"
   ]
  },
  {
   "cell_type": "code",
   "execution_count": 327,
   "id": "f5dadd0d",
   "metadata": {},
   "outputs": [],
   "source": [
    "j.meshcat.clear()\n",
    "j.meshcat.show_cloud(\"2\", j.t3d.apply_transform(point_cloud_2, pose_estimate).reshape(-1,3), color=j.RED)"
   ]
  },
  {
   "cell_type": "code",
   "execution_count": 328,
   "id": "cee837ab",
   "metadata": {},
   "outputs": [],
   "source": []
  },
  {
   "cell_type": "code",
   "execution_count": 185,
   "id": "1a3ec27d",
   "metadata": {},
   "outputs": [],
   "source": [
    "mesh = j.mesh.make_voxel_mesh_from_point_cloud(unproject_depth(depths[T1], intrinsics).reshape(-1,3), 0.05)"
   ]
  },
  {
   "cell_type": "code",
   "execution_count": 190,
   "id": "0ea15383",
   "metadata": {},
   "outputs": [
    {
     "name": "stderr",
     "output_type": "stream",
     "text": [
      "[E rasterize_gl.cpp:121] OpenGL version reported as 4.6\n"
     ]
    },
    {
     "name": "stdout",
     "output_type": "stream",
     "text": [
      "Increasing frame buffer size to (width, height, depth) = (128, 96, 1024)\n"
     ]
    }
   ],
   "source": [
    "renderer = j.Renderer(intrinsics)\n",
    "renderer.add_mesh(mesh)"
   ]
  },
  {
   "cell_type": "code",
   "execution_count": 206,
   "id": "e05b924a",
   "metadata": {},
   "outputs": [],
   "source": [
    "recontruction = renderer.render_single_object(j.t3d.inverse_pose(poses[T2]) @ poses[T1], 0)"
   ]
  },
  {
   "cell_type": "code",
   "execution_count": 207,
   "id": "b2156bfd",
   "metadata": {},
   "outputs": [],
   "source": [
    "j.meshcat.clear()\n",
    "j.meshcat.show_trimesh(\"!\", mesh)"
   ]
  },
  {
   "cell_type": "code",
   "execution_count": null,
   "id": "fbca9377",
   "metadata": {},
   "outputs": [],
   "source": []
  },
  {
   "cell_type": "code",
   "execution_count": 143,
   "id": "0ceb109a",
   "metadata": {},
   "outputs": [],
   "source": [
    "j.meshcat.clear()\n",
    "j.meshcat.show_cloud(\"1\", point_cloud_1.reshape(-1,3))\n",
    "j.meshcat.show_cloud(\"2\", point_cloud_2.reshape(-1,3), color=j.RED)"
   ]
  },
  {
   "cell_type": "code",
   "execution_count": null,
   "id": "bbe4a96f",
   "metadata": {},
   "outputs": [],
   "source": []
  },
  {
   "cell_type": "code",
   "execution_count": null,
   "id": "6443b5bc",
   "metadata": {},
   "outputs": [],
   "source": [
    "T_WIDTH = 0.01\n",
    "translation_grid = j.make_translation_grid_enumeration(\n",
    "    -T_WIDTH,-T_WIDTH,-T_WIDTH,\n",
    "    T_WIDTH,T_WIDTH,T_WIDTH,\n",
    "    11,11,11\n",
    ")\n",
    "rotation_grid = j.make_rotation_grid_enumeration(\n",
    "    50, 40, -jnp.pi/40, jnp.pi/40, jnp.pi/40\n",
    ")\n",
    "\n",
    "\n",
    "pose_estimate = jnp.eye(4)\n",
    "best_score = -1000000.0"
   ]
  },
  {
   "cell_type": "code",
   "execution_count": null,
   "id": "9b695aa3",
   "metadata": {},
   "outputs": [],
   "source": [
    "pose_proposals = jnp.einsum(\n",
    "    'aij,jk->aik',\n",
    "    translation_grid,\n",
    "    pose_estimate,\n",
    "    \n",
    ")\n",
    "rendered_images = jnp.einsum(\n",
    "    'aij,...j->a...i',\n",
    "    pose_proposals,\n",
    "    jnp.concatenate([point_cloud_2, jnp.ones(point_cloud_2.shape[:-1] + (1,))], axis=-1),\n",
    ")[..., :-1]\n",
    "\n",
    "weights = j.threedp3_likelihood_parallel_jit(point_cloud_1, rendered_images, R, OUTLIER_PROB, OUTLIER_VOLUME)\n",
    "weights_max = weights.max()\n",
    "better = (weights_max > best_score)\n",
    "pose_estimate = pose_proposals[weights.argmax()] * better + pose_estimate* (1.0 - better)\n",
    "best_score = weights_max * better + best_score * (1.0 - better)\n",
    "print(best_score)\n",
    "\n",
    "pose_proposals = jnp.einsum(\n",
    "    'ij,ajk->aik',\n",
    "    pose_estimate,\n",
    "    rotation_grid\n",
    ")\n",
    "rendered_images = jnp.einsum(\n",
    "    'aij,...j->a...i',\n",
    "    pose_proposals,\n",
    "    jnp.concatenate([point_cloud_2, jnp.ones(point_cloud_2.shape[:-1] + (1,))], axis=-1),\n",
    ")[..., :-1]\n",
    "\n",
    "\n",
    "weights = j.threedp3_likelihood_parallel_jit(point_cloud_1, rendered_images, R, OUTLIER_PROB, OUTLIER_VOLUME)\n",
    "weights_max = weights.max()\n",
    "better = (weights_max > best_score)\n",
    "pose_estimate = pose_proposals[weights.argmax()] * better + pose_estimate *(1.0 - better)\n",
    "best_score = weights_max * better + best_score * (1.0 - better)\n",
    "print(best_score)\n"
   ]
  },
  {
   "cell_type": "code",
   "execution_count": 93,
   "id": "c9d42213",
   "metadata": {},
   "outputs": [],
   "source": [
    "j.meshcat.clear()\n",
    "for i in range(1000):\n",
    "    j.meshcat.show_pose(f\"{i}\", poses[i], size=0.01)"
   ]
  },
  {
   "cell_type": "code",
   "execution_count": 97,
   "id": "5139a7c6",
   "metadata": {},
   "outputs": [],
   "source": [
    "j.meshcat.clear()\n",
    "j.meshcat.show_cloud(\"1\", point_cloud_1.reshape(-1,3))\n"
   ]
  },
  {
   "cell_type": "code",
   "execution_count": 125,
   "id": "10cf019d",
   "metadata": {},
   "outputs": [],
   "source": [
    "j.meshcat.clear()\n",
    "j.meshcat.show_cloud(\"1\", point_cloud_1.reshape(-1,3))\n",
    "j.meshcat.show_cloud(\"2\", point_cloud_2.reshape(-1,3), color=j.RED)"
   ]
  },
  {
   "cell_type": "code",
   "execution_count": 79,
   "id": "e16747da",
   "metadata": {},
   "outputs": [
    {
     "data": {
      "text/plain": [
       "Array([[ 1.  ,  0.  ,  0.  ,  0.  ],\n",
       "       [ 0.  ,  1.  ,  0.  ,  0.  ],\n",
       "       [ 0.  ,  0.  ,  1.  , -2.25],\n",
       "       [ 0.  ,  0.  ,  0.  ,  1.  ]], dtype=float32)"
      ]
     },
     "execution_count": 79,
     "metadata": {},
     "output_type": "execute_result"
    }
   ],
   "source": [
    "poses[1]"
   ]
  },
  {
   "cell_type": "code",
   "execution_count": 90,
   "id": "3ff498a2",
   "metadata": {},
   "outputs": [
    {
     "data": {
      "text/plain": [
       "Array([[ 0.9232352 ,  0.25634083, -0.2862283 ,  0.0436907 ],\n",
       "       [-0.25016412,  0.9664283 ,  0.05860607,  0.0111501 ],\n",
       "       [ 0.2916422 ,  0.01749687,  0.95636773, -2.1024    ],\n",
       "       [ 0.        ,  0.        ,  0.        ,  1.        ]],      dtype=float32)"
      ]
     },
     "execution_count": 90,
     "metadata": {},
     "output_type": "execute_result"
    }
   ],
   "source": [
    "poses[100]"
   ]
  },
  {
   "cell_type": "code",
   "execution_count": null,
   "id": "464bb8af",
   "metadata": {},
   "outputs": [],
   "source": []
  }
 ],
 "metadata": {
  "kernelspec": {
   "display_name": "Python 3 (ipykernel)",
   "language": "python",
   "name": "python3"
  },
  "language_info": {
   "codemirror_mode": {
    "name": "ipython",
    "version": 3
   },
   "file_extension": ".py",
   "mimetype": "text/x-python",
   "name": "python",
   "nbconvert_exporter": "python",
   "pygments_lexer": "ipython3",
   "version": "3.8.16"
  }
 },
 "nbformat": 4,
 "nbformat_minor": 5
}
