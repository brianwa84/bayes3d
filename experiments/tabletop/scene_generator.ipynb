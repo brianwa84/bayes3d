{
 "cells": [
  {
   "cell_type": "code",
   "execution_count": 67,
   "id": "fd43c04e",
   "metadata": {
    "scrolled": true
   },
   "outputs": [],
   "source": [
    "import jax3dp3 as j\n",
    "import jax\n",
    "import jax.numpy as jnp\n",
    "import numpy as np\n",
    "import os\n",
    "import trimesh\n",
    "import copy\n",
    "import open3d as o3d\n",
    "from tqdm import tqdm\n",
    "\n",
    "intrinsics = j.Intrinsics(\n",
    "    height=1000,\n",
    "    width=1000,\n",
    "    fx=500.0, fy=500.0,\n",
    "    cx=500.0, cy=500.0,\n",
    "    near=1.0, far=2000.0\n",
    ")\n"
   ]
  },
  {
   "cell_type": "code",
   "execution_count": 2,
   "id": "db6947b0",
   "metadata": {},
   "outputs": [
    {
     "name": "stdout",
     "output_type": "stream",
     "text": [
      "[Open3D INFO] EGL headless mode enabled.\n"
     ]
    }
   ],
   "source": [
    "\n",
    "viz = j.o3d_viz.O3DVis(intrinsics)\n",
    "\n",
    "model_dir = os.path.join(j.utils.get_assets_dir(),\"bop/ycbv/models\")\n",
    "meshes = []\n",
    "mesh_paths = []\n",
    "for idx in range(1,22):\n",
    "    mesh_path = os.path.join(model_dir,\"obj_\" + \"{}\".format(idx).rjust(6, '0') + \".ply\")\n",
    "    mesh_paths.append(mesh_path)\n",
    "    meshes.append(j.mesh.load_mesh(mesh_path))\n"
   ]
  },
  {
   "cell_type": "code",
   "execution_count": 3,
   "id": "bdddb82c",
   "metadata": {},
   "outputs": [],
   "source": [
    "box_dims = jnp.array([\n",
    "    j.utils.aabb(m.vertices)[0] for m in meshes\n",
    "])"
   ]
  },
  {
   "cell_type": "code",
   "execution_count": 4,
   "id": "a3f1c06b",
   "metadata": {},
   "outputs": [],
   "source": [
    "table_params = (1000.0,\n",
    "    800.0,\n",
    "    200.0,\n",
    "    10.0,\n",
    "    10.0)\n",
    "table_mesh = j.mesh.make_table_mesh(\n",
    "    *table_params\n",
    ")\n",
    "table_dims = j.utils.aabb(table_mesh.vertices)[0]\n",
    "table_pose = j.t3d.inverse_pose(\n",
    "    j.t3d.transform_from_pos_target_up(\n",
    "        jnp.array([0.0, 400.0, 400.0]),\n",
    "        jnp.array([0.0, 0.0, 0.0]),\n",
    "        jnp.array([0.0, 0.0, 1.0]),\n",
    "    )\n",
    ")\n",
    "contact_plane = table_pose @ j.scene_graph.contact_planes(table_dims)[2]"
   ]
  },
  {
   "cell_type": "code",
   "execution_count": 5,
   "id": "917ec5c7",
   "metadata": {},
   "outputs": [
    {
     "data": {
      "text/plain": [
       "Array([[-1.0000001e+00, -0.0000000e+00, -0.0000000e+00, -0.0000000e+00],\n",
       "       [ 0.0000000e+00,  7.0710671e-01, -7.0710665e-01, -2.3177286e-05],\n",
       "       [-0.0000000e+00, -7.0710671e-01, -7.0710671e-01,  5.6568536e+02],\n",
       "       [ 0.0000000e+00,  0.0000000e+00,  0.0000000e+00,  1.0000000e+00]],      dtype=float32)"
      ]
     },
     "execution_count": 5,
     "metadata": {},
     "output_type": "execute_result"
    }
   ],
   "source": [
    "table_pose"
   ]
  },
  {
   "cell_type": "code",
   "execution_count": null,
   "id": "004a34f9",
   "metadata": {},
   "outputs": [],
   "source": [
    "key = jax.random.PRNGKey(13)\n"
   ]
  },
  {
   "cell_type": "code",
   "execution_count": 69,
   "id": "dde1a11e",
   "metadata": {},
   "outputs": [
    {
     "name": "stderr",
     "output_type": "stream",
     "text": [
      "100%|███████████████████████████████████████████████████████████████████████████████████████████████████████████████████████████████████████████████████████████████████████████████████████████████████████████████████████████████████████████████████████████████████████████████████████| 100/100 [02:07<00:00,  1.27s/it]\n"
     ]
    }
   ],
   "source": [
    "for iter in tqdm(range(100)):\n",
    "    key = jax.random.split(key)[1]\n",
    "    indices = jax.random.choice(key,21,shape=(3,))\n",
    "    contact_params = jax.random.uniform(\n",
    "        key,\n",
    "        shape=(3,3,),\n",
    "        minval=jnp.array([-200.0,-200.0, 0.0]),\n",
    "        maxval=jnp.array([200.0, 200.0, 2*jnp.pi])\n",
    "    )\n",
    "    faces = jnp.array([3,3,3])\n",
    "    dims_child = box_dims[indices]\n",
    "    poses = j.scene_graph.pose_from_contact_and_face_params_multiobject_jit(contact_params, faces, dims_child, contact_plane)\n",
    "\n",
    "    viz.clear()\n",
    "\n",
    "    viz.render.scene.set_lighting(viz.render.scene.LightingProfile.NO_SHADOWS, (0, 0, 100))\n",
    "\n",
    "    viz.make_trimesh(table_mesh, table_pose, np.array([221, 174, 126, 255.0])/255.0)\n",
    "\n",
    "    for i in range(len(indices)):\n",
    "        viz.make_mesh_from_file(mesh_paths[indices[i]], poses[i])\n",
    "\n",
    "    rgb = viz.capture_image(intrinsics, jnp.eye(4))\n",
    "\n",
    "    DATASET_FILENAME = f\"tabletop_data_{iter}.npz\"  # npz file\n",
    "    DATASET_FILE = os.path.join(j.utils.get_assets_dir(), f\"datasets/{DATASET_FILENAME}\")\n",
    "    np.savez(\n",
    "        DATASET_FILE,\n",
    "        intrinsics=intrinsics,\n",
    "        rgb=rgb,\n",
    "        indices=indices,\n",
    "        table_params=table_params,\n",
    "        table_pose=table_pose,\n",
    "        poses=poses,\n",
    "        faces=faces\n",
    "    )\n",
    "    j.get_rgb_image(rgb)"
   ]
  },
  {
   "cell_type": "code",
   "execution_count": 55,
   "id": "420815d6",
   "metadata": {},
   "outputs": [],
   "source": []
  },
  {
   "cell_type": "code",
   "execution_count": 58,
   "id": "9deb11c2",
   "metadata": {},
   "outputs": [],
   "source": []
  },
  {
   "cell_type": "code",
   "execution_count": 43,
   "id": "b65e8785",
   "metadata": {},
   "outputs": [
    {
     "data": {
      "text/plain": [
       "Array([[ 9.9690521e+01,  1.8377838e+00,  2.7070867e-02],\n",
       "       [ 3.5548874e+01, -5.3137543e+01,  2.9160354e+00],\n",
       "       [ 9.9742493e+01,  1.6454004e+02,  4.5856538e+00]], dtype=float32)"
      ]
     },
     "execution_count": 43,
     "metadata": {},
     "output_type": "execute_result"
    }
   ],
   "source": [
    "contact_params"
   ]
  },
  {
   "cell_type": "code",
   "execution_count": 44,
   "id": "76331e4e",
   "metadata": {},
   "outputs": [
    {
     "data": {
      "text/plain": [
       "Array([1, 3, 2], dtype=int32)"
      ]
     },
     "execution_count": 44,
     "metadata": {},
     "output_type": "execute_result"
    }
   ],
   "source": [
    "indices"
   ]
  },
  {
   "cell_type": "code",
   "execution_count": null,
   "id": "dd75a6ea",
   "metadata": {},
   "outputs": [],
   "source": []
  },
  {
   "cell_type": "code",
   "execution_count": null,
   "id": "13df506c",
   "metadata": {},
   "outputs": [],
   "source": []
  },
  {
   "cell_type": "code",
   "execution_count": 52,
   "id": "f873a338",
   "metadata": {},
   "outputs": [
    {
     "data": {
      "text/plain": [
       "(22, 3)"
      ]
     },
     "execution_count": 52,
     "metadata": {},
     "output_type": "execute_result"
    }
   ],
   "source": [
    "renderer.model_box_dims.shape"
   ]
  },
  {
   "cell_type": "code",
   "execution_count": null,
   "id": "a0658ab5",
   "metadata": {},
   "outputs": [
    {
     "name": "stderr",
     "output_type": "stream",
     "text": [
      "2023-04-24 15:54:30.689830: E external/xla/xla/stream_executor/cuda/cuda_driver.cc:1162] failed to enqueue async memcpy from device to host: CUDA_ERROR_ILLEGAL_ADDRESS: an illegal memory access was encountered; host dst: 0x7f929ffb98c0; GPU src: 0x7f92dec76000; size: 40000=0x9c40\n",
      "2023-04-24 15:54:30.689898: E external/xla/xla/stream_executor/cuda/cuda_driver.cc:617] unable to add host callback: CUDA_ERROR_ILLEGAL_ADDRESS: an illegal memory access was encountered\n",
      "2023-04-24 15:54:30.689915: E external/xla/xla/stream_executor/stream.cc:336] Error recording event in stream: Error recording CUDA event: CUDA_ERROR_ILLEGAL_ADDRESS: an illegal memory access was encountered; not marking stream as bad, as the Event object may be at fault. Monitor for further errors.\n",
      "2023-04-24 15:54:30.689928: E external/xla/xla/stream_executor/cuda/cuda_driver.cc:617] unable to add host callback: CUDA_ERROR_ILLEGAL_ADDRESS: an illegal memory access was encountered\n"
     ]
    }
   ],
   "source": [
    "observed_img = renderer.render_multiobject(\n",
    "    jnp.concatenate([poses, table_pose[None,...]]),\n",
    "    jnp.concatenate([indices, jnp.array([21])])\n",
    ")\n",
    "j.get_depth_image(observed_img[:,:,2])"
   ]
  },
  {
   "cell_type": "code",
   "execution_count": null,
   "id": "9078568a",
   "metadata": {},
   "outputs": [],
   "source": [
    "SCALING_FACTOR = 3\n",
    "j.multi_panel(\n",
    "    [\n",
    "        j.scale_image(j.get_depth_image(observed_img[:,:,2]), SCALING_FACTOR)\n",
    "    ],\n",
    "    labels=[\n",
    "        \"Observed Image\",\n",
    "    ],\n",
    "    middle_width=30\n",
    ")"
   ]
  },
  {
   "cell_type": "code",
   "execution_count": 38,
   "id": "49ea6c49",
   "metadata": {},
   "outputs": [
    {
     "data": {
      "image/png": "[encoded data removed]",
      "text/plain": [
       "<PIL.Image.Image image mode=RGBA size=100x100>"
      ]
     },
     "execution_count": 38,
     "metadata": {},
     "output_type": "execute_result"
    }
   ],
   "source": [
    "R_SWEEP = jnp.array([1.0, 0.5, 0.1, 0.05, 0.01]).reshape(-1,1)\n",
    "R = jnp.ones((R_SWEEP.shape[0],2)) * 1.0\n",
    "OUTLIER_PROBS = jnp.linspace(0.001, 0.4, 10)\n",
    "OUTLIER_VOLUME = 1000.0**3\n",
    "\n",
    "object_poses, object_ids = table_pose[None, None,...], [21]\n",
    "reconstruction = renderer.render_multiobject(\n",
    "    object_poses, object_ids\n",
    ")\n",
    "\n",
    "contact_param_grid = j.make_translation_grid_enumeration_3d(\n",
    "    -200.0, -200.0, 0.0,\n",
    "    200.0, 200.0, 0.0,\n",
    "    5,5,1\n",
    ")\n",
    "pose_from_contact_and_face_params_parallel_jit = jax.jit(jax.vmap(j.scene_graph.pose_from_contact_and_face_params, in_axes=(0,None, None, None)))\n",
    "\n",
    "j.get_depth_image(reconstruction[:,:,2])"
   ]
  },
  {
   "cell_type": "code",
   "execution_count": 42,
   "id": "4226c088",
   "metadata": {},
   "outputs": [
    {
     "name": "stdout",
     "output_type": "stream",
     "text": [
      "Object Id :  5\n",
      "[  0. 200.   0.]\n",
      "-100660.945\n",
      "[1.   1.   0.01 0.05 1.   0.01] 0.001\n",
      "Object Id :  6\n",
      "[-100.  100.    0.]\n",
      "-103797.74\n",
      "[1.   1.   0.01 0.05 1.   1.  ] 0.045333333\n",
      "Object Id :  9\n",
      "[-200. -100.    0.]\n",
      "-103797.74\n",
      "[1.   1.   0.01 0.05 1.   1.  ] 0.045333333\n"
     ]
    },
    {
     "data": {
      "image/png": "[encoded data removed]",
      "text/plain": [
       "<PIL.Image.Image image mode=RGB size=960x896>"
      ]
     },
     "execution_count": 42,
     "metadata": {},
     "output_type": "execute_result"
    }
   ],
   "source": [
    "all_hypotheses = []\n",
    "for obj_id in indices:\n",
    "    print(\"Object Id : \", obj_id)\n",
    "    potential_new_object_poses = pose_from_contact_and_face_params_parallel_jit(\n",
    "        contact_param_grid,\n",
    "        3,\n",
    "        renderer.model_box_dims[obj_id],\n",
    "        contact_plane\n",
    "    )\n",
    "    POTENTIAL_R = jnp.hstack([R,R_SWEEP])\n",
    "    \n",
    "    potential_poses = jnp.concatenate(\n",
    "        [\n",
    "            jnp.tile(object_poses, (1,potential_new_object_poses.shape[0],1,1)),\n",
    "            potential_new_object_poses[None,...]\n",
    "        ]\n",
    "    )\n",
    "    reconstruction = renderer.render_multiobject_parallel(\n",
    "        potential_poses, object_ids + [obj_id]\n",
    "    )\n",
    "    p = j.threedp3_likelihood_multi_r_full_hierarchical_bayes_jit(observed_img, reconstruction[:,:,:,:3], reconstruction[:,:,:, -1], POTENTIAL_R, OUTLIER_PROBS, OUTLIER_VOLUME)\n",
    "    ii,jj,kk = jnp.unravel_index(p.argmax(), p.shape)\n",
    "    best_r, best_outlier_prob = (POTENTIAL_R[jj], OUTLIER_PROBS[kk])\n",
    "    print(contact_param_grid[ii])\n",
    "    print(p[ii,jj,kk])\n",
    "    print(best_r, best_outlier_prob)\n",
    "    \n",
    "    all_hypotheses.append(\n",
    "        (p[ii,jj,kk], reconstruction[ii], best_r, best_outlier_prob, potential_poses[:,ii], obj_id)\n",
    "    )\n",
    "    \n",
    "best_hypothesis = all_hypotheses[jnp.argmax(jnp.array([i[0] for i in all_hypotheses]))]\n",
    "score, reconstruction, best_r, best_outlier_prob, best_poses, obj_id = best_hypothesis\n",
    "\n",
    "R = POTENTIAL_R.at[:,:].set(best_r)\n",
    "object_poses = best_poses[:,None,...]\n",
    "object_ids = object_ids + [obj_id.item()]\n",
    "\n",
    "\n",
    "outliers = (\n",
    "    (j.gaussian_mixture_image_multi_r_jit(observed_img, reconstruction[:,:,:3], reconstruction[:,:, -1], best_r) * (1.0 - best_outlier_prob)) \n",
    "        <\n",
    "    (best_outlier_prob / OUTLIER_VOLUME)\n",
    ")\n",
    "\n",
    "# height_factor = outlier_prob_viz.height / observed_image_viz.height\n",
    "\n",
    "viz1 = j.multi_panel(\n",
    "    [j.scale_image(j.get_depth_image(r[1][:,:,2]), SCALING_FACTOR) for r in all_hypotheses],\n",
    "    labels=[\"{:0.3f}\".format(i[0].item()).format(i[0].item()) for i in all_hypotheses]\n",
    ")\n",
    "viz2 = j.multi_panel(\n",
    "    [\n",
    "        j.scale_image(j.get_depth_image(observed_img[:,:,2]), SCALING_FACTOR),\n",
    "        j.scale_image(j.get_depth_image(reconstruction[:,:,2]), SCALING_FACTOR),\n",
    "        j.scale_image(j.get_depth_image(1.0 *outliers), SCALING_FACTOR)\n",
    "    ],\n",
    "    labels=[\n",
    "        \"Observed Image\",\n",
    "        \"Reconstruction\",\n",
    "        \"Outliers\",\n",
    "    ],\n",
    "    middle_width=30\n",
    ")\n",
    "j.vstack_images([viz1, viz2])"
   ]
  },
  {
   "cell_type": "code",
   "execution_count": null,
   "id": "1b64cb36",
   "metadata": {},
   "outputs": [],
   "source": []
  },
  {
   "cell_type": "code",
   "execution_count": 28,
   "id": "63191c00",
   "metadata": {},
   "outputs": [
    {
     "data": {
      "text/plain": [
       "Array([1.  , 1.  , 0.01, 0.01, 0.05], dtype=float32)"
      ]
     },
     "execution_count": 28,
     "metadata": {},
     "output_type": "execute_result"
    }
   ],
   "source": [
    "best_r"
   ]
  },
  {
   "cell_type": "code",
   "execution_count": null,
   "id": "1a5b379b",
   "metadata": {},
   "outputs": [],
   "source": []
  }
 ],
 "metadata": {
  "kernelspec": {
   "display_name": "Python 3 (ipykernel)",
   "language": "python",
   "name": "python3"
  },
  "language_info": {
   "codemirror_mode": {
    "name": "ipython",
    "version": 3
   },
   "file_extension": ".py",
   "mimetype": "text/x-python",
   "name": "python",
   "nbconvert_exporter": "python",
   "pygments_lexer": "ipython3",
   "version": "3.8.16"
  }
 },
 "nbformat": 4,
 "nbformat_minor": 5
}
