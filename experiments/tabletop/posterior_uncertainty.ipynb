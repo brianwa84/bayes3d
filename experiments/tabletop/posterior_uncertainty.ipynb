{
 "cells": [
  {
   "cell_type": "code",
   "execution_count": 1,
   "id": "a15c8065",
   "metadata": {},
   "outputs": [
    {
     "name": "stdout",
     "output_type": "stream",
     "text": [
      "Jupyter environment detected. Enabling Open3D WebVisualizer.\n",
      "[Open3D INFO] WebRTC GUI backend enabled.\n",
      "[Open3D INFO] WebRTCWindowSystem: HTTP handshake server disabled.\n"
     ]
    }
   ],
   "source": [
    "import jax3dp3 as j\n",
    "import jax\n",
    "import jax.numpy as jnp\n",
    "import numpy as np\n",
    "import os\n",
    "import trimesh\n",
    "import copy\n",
    "import open3d as o3d\n",
    "from tqdm import tqdm\n",
    "import matplotlib.pyplot as plt\n",
    "from PIL import Image\n",
    "import io\n",
    "\n",
    "intrinsics = j.Intrinsics(\n",
    "    height=100,\n",
    "    width=100,\n",
    "    fx=100.0, fy=100.0,\n",
    "    cx=50.0, cy=50.0,\n",
    "    near=1.0, far=500.0\n",
    ")\n"
   ]
  },
  {
   "cell_type": "code",
   "execution_count": 2,
   "id": "3034e99d",
   "metadata": {},
   "outputs": [
    {
     "name": "stdout",
     "output_type": "stream",
     "text": [
      "You can open the visualizer by visiting the following URL:\n",
      "http://127.0.0.1:7003/static/\n"
     ]
    }
   ],
   "source": [
    "j.meshcat.setup_visualizer()"
   ]
  },
  {
   "cell_type": "code",
   "execution_count": 3,
   "id": "02028196",
   "metadata": {},
   "outputs": [],
   "source": [
    "table_params = (1000.0,\n",
    "    1000.0,\n",
    "    0.01,\n",
    "    0.01,\n",
    "    0.01)\n",
    "table_mesh = j.mesh.make_table_mesh(\n",
    "    *table_params\n",
    ")\n",
    "table_dims = j.utils.aabb(table_mesh.vertices)[0]\n",
    "table_pose = j.t3d.inverse_pose(\n",
    "    j.t3d.transform_from_pos_target_up(\n",
    "        jnp.array([0.0, 300.0, 150.0]),\n",
    "        jnp.array([0.0, 0.0, 0.0]),\n",
    "        jnp.array([0.0, 0.0, 1.0]),\n",
    "    )\n",
    ")\n",
    "contact_plane = table_pose @ j.scene_graph.contact_planes(table_dims)[2]"
   ]
  },
  {
   "cell_type": "code",
   "execution_count": 65,
   "id": "1b857fe0",
   "metadata": {},
   "outputs": [
    {
     "name": "stdout",
     "output_type": "stream",
     "text": [
      "Increasing frame buffer size to (width, height, depth) = (128, 128, 1024)\n"
     ]
    },
    {
     "name": "stderr",
     "output_type": "stream",
     "text": [
      "[E rasterize_gl.cpp:121] OpenGL version reported as 4.6\n"
     ]
    }
   ],
   "source": [
    "occluder = j.mesh.make_cuboid_mesh(jnp.array([10.0, 70.0, 100.0]))                       \n",
    "obj_a = j.mesh.make_cuboid_mesh(jnp.array([50.0, 50.0, 50.0]))                       \n",
    "obj_b = j.mesh.make_cuboid_mesh(jnp.array([50.0, 40.0, 50.0]))\n",
    "obj_c = j.mesh.make_cuboid_mesh(jnp.array([50.0, 30.0, 50.0]))\n",
    "renderer = j.Renderer(intrinsics, num_layers=1024)\n",
    "renderer.add_mesh(occluder)\n",
    "renderer.add_mesh(obj_a)\n",
    "renderer.add_mesh(obj_b)\n",
    "renderer.add_mesh(obj_c)\n"
   ]
  },
  {
   "cell_type": "code",
   "execution_count": 66,
   "id": "b8138356",
   "metadata": {},
   "outputs": [],
   "source": [
    "def inference():\n",
    "    all_hypotheses = []\n",
    "    for obj_id in range(1,len(renderer.meshes)):\n",
    "#         print(\"Object ID \", obj_id)\n",
    "        contact_param = jnp.zeros(3)\n",
    "        p = None\n",
    "        for c2f_iter in range(len(contact_param_gridding_schedule)):\n",
    "            contact_param_grid = contact_param_gridding_schedule[c2f_iter] + contact_param\n",
    "\n",
    "            potential_new_object_poses = pose_from_contact_and_face_params_parallel_jit(\n",
    "                contact_param_grid,\n",
    "                3,\n",
    "                renderer.model_box_dims[obj_id],\n",
    "                contact_plane\n",
    "            )\n",
    "            POTENTIAL_R = jnp.hstack([jnp.tile(R[None,:], (R_SWEEP.shape[0], 1)),R_SWEEP])\n",
    "\n",
    "            potential_poses = jnp.concatenate(\n",
    "                [\n",
    "                    jnp.tile(object_poses, (1,potential_new_object_poses.shape[0],1,1)),\n",
    "                    potential_new_object_poses[None,...]\n",
    "                ]\n",
    "            )\n",
    "            reconstruction = renderer.render_multiobject_parallel(\n",
    "                potential_poses, object_ids + [obj_id]\n",
    "            )\n",
    "            p = j.threedp3_likelihood_multi_r_full_hierarchical_bayes_jit(\n",
    "                observed_point_cloud_image,\n",
    "                reconstruction[:,:,:,:3],\n",
    "                reconstruction[:,:,:, -1],\n",
    "                POTENTIAL_R, OUTLIER_PROBS, OUTLIER_VOLUME\n",
    "            ).sum([-1,-2])\n",
    "            \n",
    "            ii,jj,kk = jnp.unravel_index(p.argmax(), p.shape)\n",
    "            contact_param = contact_param_grid[ii]\n",
    "    #         print(contact_param)\n",
    "    #         print(POTENTIAL_R[jj])\n",
    "\n",
    "        best_r, best_outlier_prob = (POTENTIAL_R[jj], OUTLIER_PROBS[kk])\n",
    "\n",
    "        all_hypotheses.append(\n",
    "            (p[ii,jj,kk], reconstruction[ii], best_r, best_outlier_prob, potential_poses[:,ii], obj_id)\n",
    "        )\n",
    "\n",
    "    return all_hypotheses"
   ]
  },
  {
   "cell_type": "code",
   "execution_count": null,
   "id": "985afc14",
   "metadata": {},
   "outputs": [],
   "source": []
  },
  {
   "cell_type": "code",
   "execution_count": 144,
   "id": "a551c793",
   "metadata": {},
   "outputs": [
    {
     "name": "stdout",
     "output_type": "stream",
     "text": [
      "[[100. ]\n",
      " [ 50. ]\n",
      " [ 10. ]\n",
      " [  5. ]\n",
      " [  1. ]\n",
      " [  0.5]]\n"
     ]
    }
   ],
   "source": [
    "sched = [(100.0, jnp.pi), (50.0, jnp.pi), (10.0, jnp.pi),\n",
    "         (5.0, jnp.pi/2),(5.0, jnp.pi/2),(5.0, jnp.pi/2),\n",
    "         (2.0, jnp.pi/2),(2.0, jnp.pi/2),(2.0, jnp.pi/2),\n",
    "         (1.0, jnp.pi/4),(1.0, jnp.pi/4),(1.0, jnp.pi/4),\n",
    "]\n",
    "\n",
    "contact_param_gridding_schedule = [\n",
    "    j.make_translation_grid_enumeration_3d(\n",
    "        -x, 0.0, -y,\n",
    "        x, 0.0, y,\n",
    "        13,1,3\n",
    "    )\n",
    "    for (x,y) in sched\n",
    "]\n",
    "\n",
    "pose_from_contact_and_face_params_parallel_jit = jax.jit(jax.vmap(j.scene_graph.pose_from_contact_and_face_params, in_axes=(0,None, None, None)))\n",
    "\n",
    "\n",
    "R_SWEEP = jnp.array([100.0, 50.0, 10.0, 5.0, 1.0, 0.5]).reshape(-1,1)\n",
    "print(R_SWEEP)\n",
    "OUTLIER_PROBS = jnp.linspace(0.01, 0.1, 4)\n",
    "OUTLIER_VOLUME = 100.0**3 * 0.001\n",
    "SCALING_FACTOR = 3"
   ]
  },
  {
   "cell_type": "code",
   "execution_count": 145,
   "id": "27d6b2ee",
   "metadata": {},
   "outputs": [
    {
     "name": "stdout",
     "output_type": "stream",
     "text": [
      "SCORES   [-91930.91 -91930.91 -91935.68]\n",
      "NORMALIZED SCORES   [0.49891853 0.49891853 0.0042165 ]\n",
      "[0 1 2]\n",
      "Best\n",
      "[10.   1.   0.5] 0.1 1\n",
      "[Array(0, dtype=int32), 1]\n"
     ]
    },
    {
     "data": {
      "image/png": "[encoded data removed]",
      "text/plain": [
       "<PIL.Image.Image image mode=RGB size=1560x1153>"
      ]
     },
     "execution_count": 145,
     "metadata": {},
     "output_type": "execute_result"
    },
    {
     "data": {
      "text/plain": [
       "<Figure size 640x480 with 0 Axes>"
      ]
     },
     "metadata": {},
     "output_type": "display_data"
    },
    {
     "data": {
      "image/png": "[encoded data removed]",
      "text/plain": [
       "<Figure size 700x400 with 1 Axes>"
      ]
     },
     "metadata": {},
     "output_type": "display_data"
    }
   ],
   "source": [
    "object_indices = jnp.array([0,1])\n",
    "\n",
    "poses = j.scene_graph.pose_from_contact_and_face_params_multiobject_jit(\n",
    "    jnp.array(\n",
    "        [\n",
    "            [0.0, 100.0, 0.0],\n",
    "            [60.582275390625, 0.0, 0.0],\n",
    "        ]\n",
    "    ),\n",
    "    jnp.array([3,3]),\n",
    "    renderer.model_box_dims[object_indices],\n",
    "    contact_plane\n",
    ")\n",
    "SCALING_FACTOR = 4\n",
    "observed_point_cloud_image = renderer.render_multiobject(poses, object_indices)\n",
    "j.meshcat.show_cloud(\"obs\", observed_point_cloud_image[:,:,:3].reshape(-1,3) / 1000.0)\n",
    "j.scale_image(j.get_depth_image(observed_point_cloud_image[:,:,2]),SCALING_FACTOR)\n",
    "\n",
    "R = jnp.array([10.0, 1.0])\n",
    "object_poses, object_ids = poses[:1,:,:][None,...], [object_indices[0]]\n",
    "reconstruction = renderer.render_multiobject(\n",
    "    object_poses, object_ids\n",
    ")\n",
    "\n",
    "all_hypotheses = inference()\n",
    "\n",
    "\n",
    "scores = jnp.array([i[0] for i in all_hypotheses])\n",
    "normalized_scores = j.utils.normalize_log_scores(scores)\n",
    "print(\"SCORES  \", scores)\n",
    "print(\"NORMALIZED SCORES  \", normalized_scores)\n",
    "print(jnp.argsort(-scores))\n",
    "best_hypothesis = all_hypotheses[jnp.argmax(scores)]\n",
    "score, reconstruction, best_r, best_outlier_prob, best_poses, obj_id = best_hypothesis\n",
    "print(\"Best\")\n",
    "print(best_r, best_outlier_prob, obj_id)\n",
    "\n",
    "R = best_r\n",
    "object_poses = best_poses[:,None,...]\n",
    "object_ids = object_ids + [obj_id]\n",
    "print(object_ids)\n",
    "\n",
    "# outliers = (\n",
    "#     (1.0 - best_outlier_prob) * (j.gaussian_mixture_image_multi_r_jit(observed_point_cloud_image, reconstruction[:,:,:3], reconstruction[:,:, -1], best_r))\n",
    "#         <\n",
    "#     (best_outlier_prob / OUTLIER_VOLUME)\n",
    "# )\n",
    "\n",
    "# height_factor = outlier_prob_viz.height / observed_image_viz.height\n",
    "plt.clf()\n",
    "plt.figure(figsize=(7,4))\n",
    "color = np.array([229, 107, 111])/255.0\n",
    "plt.bar(\n",
    "    np.arange(len(normalized_scores)),\n",
    "    normalized_scores,\n",
    "    color=color\n",
    ")\n",
    "plt.xticks(np.arange(len(normalized_scores)), [\"{:d}\".format(i) for i in range(len(normalized_scores))],fontsize=15)\n",
    "plt.yticks([0.0, 0.2, 0.4, 0.6, 0.8, 1.0],fontsize=15)\n",
    "plt.xlabel(\"Object ID\",fontsize=20)\n",
    "plt.ylabel(\"Probability\",fontsize=20)\n",
    "plt.ylim(0.0, 1.05)\n",
    "plt.tight_layout()\n",
    "img_buf = io.BytesIO()\n",
    "plt.savefig(img_buf, format='png')\n",
    "posterior_bar_chart = Image.open(img_buf)\n",
    "\n",
    "depth_viz = j.scale_image(j.get_depth_image(observed_point_cloud_image[:,:,2]), SCALING_FACTOR)\n",
    "\n",
    "height_factor = depth_viz.height / posterior_bar_chart.height\n",
    "\n",
    "\n",
    "\n",
    "# outlier_viz = j.scale_image(j.get_depth_image(1.0 - outliers), SCALING_FACTOR)\n",
    "viz1 = j.multi_panel(\n",
    "    [\n",
    "        depth_viz,\n",
    "        j.scale_image(j.get_depth_image(reconstruction[:,:,2]), SCALING_FACTOR),\n",
    "        j.scale_image(posterior_bar_chart, height_factor)\n",
    "    ],\n",
    "    labels=[\n",
    "        \"Observed Image\",\n",
    "        \"Reconstruction\",\n",
    "        \"Posterior on Object Type\",\n",
    "    ],\n",
    "    middle_width=30\n",
    ")\n",
    "\n",
    "viz2 = j.multi_panel(\n",
    "    [j.scale_image(j.get_depth_image(r[1][:,:,2]), SCALING_FACTOR) for r in all_hypotheses],\n",
    "    labels=[\"obj_{:d}\".format(idx, i.item()) for (idx,i) in enumerate(normalized_scores)],\n",
    "    title=\"Inferred Pose per Object Type\"\n",
    ")\n",
    "\n",
    "final_viz = j.vstack_images([viz1, viz2])\n",
    "final_viz"
   ]
  },
  {
   "cell_type": "code",
   "execution_count": null,
   "id": "d4b43177",
   "metadata": {},
   "outputs": [],
   "source": []
  },
  {
   "cell_type": "code",
   "execution_count": 146,
   "id": "78d4f0af",
   "metadata": {},
   "outputs": [
    {
     "name": "stdout",
     "output_type": "stream",
     "text": [
      "x : -100.0\n",
      "SCORES   [-91908.58 -91918.44 -91928.77]\n",
      "NORMALIZED SCORES   [1.0000000e+00 5.2255000e-05 1.6954588e-09]\n",
      "[0 1 2]\n",
      "Best\n",
      "[10.   1.   0.5] 0.1 1\n",
      "[Array(0, dtype=int32), 1]\n",
      "x : -97.46835\n",
      "SCORES   [-91909.086 -91918.8   -91928.69 ]\n",
      "NORMALIZED SCORES   [1.0000000e+00 6.0616858e-05 3.0700791e-09]\n",
      "[0 1 2]\n",
      "Best\n",
      "[10.   1.   0.5] 0.1 1\n",
      "[Array(0, dtype=int32), 1]\n",
      "x : -94.93671\n",
      "SCORES   [-91910.1   -91919.664 -91929.39 ]\n",
      "NORMALIZED SCORES   [1.0000000e+00 7.0316790e-05 4.1963006e-09]\n",
      "[0 1 2]\n",
      "Best\n",
      "[10.   1.   0.5] 0.1 1\n",
      "[Array(0, dtype=int32), 1]\n",
      "x : -92.40506\n",
      "SCORES   [-91910.74 -91920.45 -91930.05]\n",
      "NORMALIZED SCORES   [1.0000000e+00 6.0616858e-05 4.1312429e-09]\n",
      "[0 1 2]\n",
      "Best\n",
      "[10.   1.   0.5] 0.1 1\n",
      "[Array(0, dtype=int32), 1]\n",
      "x : -89.87342\n",
      "SCORES   [-91910.266 -91920.43  -91936.03 ]\n",
      "NORMALIZED SCORES   [1.000000e+00 3.853042e-05 6.458494e-12]\n",
      "[0 1 2]\n",
      "Best\n",
      "[10.   1.   0.5] 0.1 1\n",
      "[Array(0, dtype=int32), 1]\n",
      "x : -87.34177\n",
      "SCORES   [-91909.9  -91920.06 -91936.04]\n",
      "NORMALIZED SCORES   [1.0000000e+00 3.8530419e-05 4.4388534e-12]\n",
      "[0 1 2]\n",
      "Best\n",
      "[10.   1.   0.5] 0.1 1\n",
      "[Array(0, dtype=int32), 1]\n",
      "x : -84.81012\n",
      "SCORES   [-91910.266 -91920.125 -91930.16 ]\n",
      "NORMALIZED SCORES   [1.0000000e+00 5.2255000e-05 2.2993831e-09]\n",
      "[0 1 2]\n",
      "Best\n",
      "[10.   1.   0.5] 0.1 1\n",
      "[Array(0, dtype=int32), 1]\n",
      "x : -82.27847\n",
      "SCORES   [-91911.94 -91926.34 -91935.97]\n",
      "NORMALIZED SCORES   [1.000000e+00 5.539175e-07 3.658986e-11]\n",
      "[0 1 2]\n",
      "Best\n",
      "[10.   1.   0.5] 0.1 1\n",
      "[Array(0, dtype=int32), 1]\n",
      "x : -79.74683\n",
      "SCORES   [-91914.26 -91926.15 -91936.03]\n",
      "NORMALIZED SCORES   [1.0000000e+00 6.8543641e-06 3.4987768e-10]\n",
      "[0 1 2]\n",
      "Best\n",
      "[10.   1.   0.5] 0.1 1\n",
      "[Array(0, dtype=int32), 1]\n",
      "x : -77.215195\n",
      "SCORES   [-91915.64 -91926.22 -91935.98]\n",
      "NORMALIZED SCORES   [1.0000000e+00 2.5467052e-05 1.4730400e-09]\n",
      "[0 1 2]\n",
      "Best\n",
      "[10.   1.   0.5] 0.1 1\n",
      "[Array(0, dtype=int32), 1]\n",
      "x : -74.68355\n",
      "SCORES   [-91917.4   -91926.16  -91935.914]\n",
      "NORMALIZED SCORES   [1.0000000e+00 1.5722816e-04 9.0942365e-09]\n",
      "[0 1 2]\n",
      "Best\n",
      "[10.   1.   0.5] 0.1 1\n",
      "[Array(0, dtype=int32), 1]\n",
      "x : -72.1519\n",
      "SCORES   [-91919.58 -91926.11 -91935.84]\n",
      "NORMALIZED SCORES   [1.0000000e+00 1.4571832e-03 8.6283720e-08]\n",
      "[0 1 2]\n",
      "Best\n",
      "[10.   1.   0.5] 0.1 1\n",
      "[Array(0, dtype=int32), 1]\n",
      "x : -69.620255\n",
      "SCORES   [-91922.19 -91926.32 -91935.76]\n",
      "NORMALIZED SCORES   [9.8449647e-01 1.5789067e-02 1.2580629e-06]\n",
      "[0 1 2]\n",
      "Best\n",
      "[10.   1.   0.5] 0.1 1\n",
      "[Array(0, dtype=int32), 1]\n",
      "x : -67.08861\n",
      "SCORES   [-91924.66 -91926.69 -91935.69]\n",
      "NORMALIZED SCORES   [8.82496893e-01 1.15758404e-01 1.42857216e-05]\n",
      "[0 1 2]\n",
      "Best\n",
      "[10.   1.   0.5] 0.1 1\n",
      "[Array(0, dtype=int32), 1]\n",
      "x : -64.55696\n",
      "SCORES   [-91927.14  -91927.3   -91935.625]\n",
      "NORMALIZED SCORES   [5.3945953e-01 4.6142420e-01 1.1149147e-04]\n",
      "[0 1 2]\n",
      "Best\n",
      "[10.   1.   0.5] 0.1 1\n",
      "[Array(0, dtype=int32), 1]\n",
      "x : -62.025314\n",
      "SCORES   [-91929.45 -91929.45 -91935.71]\n",
      "NORMALIZED SCORES   [0.49891853 0.49891853 0.00095564]\n",
      "[0 1 2]\n",
      "Best\n",
      "[10.   1.   0.5] 0.1 1\n",
      "[Array(0, dtype=int32), 1]\n",
      "x : -59.493668\n",
      "SCORES   [-91932.07 -91932.07 -91936.08]\n",
      "NORMALIZED SCORES   [0.4950359  0.4950359  0.00899634]\n",
      "[0 1 2]\n",
      "Best\n",
      "[10.   1.   0.5] 0.1 1\n",
      "[Array(0, dtype=int32), 1]\n",
      "x : -56.96202\n",
      "SCORES   [-91934.53 -91934.53 -91936.36]\n",
      "NORMALIZED SCORES   [0.4614242  0.4614242  0.07415762]\n",
      "[0 1 2]\n",
      "Best\n",
      "[10.   1.   0.5] 0.1 1\n",
      "[Array(0, dtype=int32), 1]\n",
      "x : -54.430378\n",
      "SCORES   [-91937.01 -91937.01 -91937.01]\n",
      "NORMALIZED SCORES   [0.33235136 0.33235136 0.33235136]\n",
      "[0 1 2]\n",
      "Best\n",
      "[10.   1.   0.5] 0.1 1\n",
      "[Array(0, dtype=int32), 1]\n",
      "x : -51.89873\n",
      "SCORES   [-91939.04 -91939.04 -91939.04]\n",
      "NORMALIZED SCORES   [0.33235136 0.33235136 0.33235136]\n",
      "[0 1 2]\n",
      "Best\n",
      "[10.   1.   0.5] 0.1 1\n",
      "[Array(0, dtype=int32), 1]\n",
      "x : -49.367092\n"
     ]
    },
    {
     "name": "stderr",
     "output_type": "stream",
     "text": [
      "/tmp/ipykernel_12273/2898194730.py:55: RuntimeWarning: More than 20 figures have been opened. Figures created through the pyplot interface (`matplotlib.pyplot.figure`) are retained until explicitly closed and may consume too much memory. (To control this warning, see the rcParam `figure.max_open_warning`). Consider using `matplotlib.pyplot.close()`.\n",
      "  plt.figure(figsize=(7,4))\n"
     ]
    },
    {
     "name": "stdout",
     "output_type": "stream",
     "text": [
      "SCORES   [-91941.66 -91941.66 -91941.66]\n",
      "NORMALIZED SCORES   [0.33235136 0.33235136 0.33235136]\n",
      "[0 1 2]\n",
      "Best\n",
      "[10.   1.   0.5] 0.1 1\n",
      "[Array(0, dtype=int32), 1]\n",
      "x : -46.83545\n",
      "SCORES   [-91943.98 -91943.98 -91943.98]\n",
      "NORMALIZED SCORES   [0.33235136 0.33235136 0.33235136]\n",
      "[0 1 2]\n",
      "Best\n",
      "[10.   1.   0.5] 0.1 1\n",
      "[Array(0, dtype=int32), 1]\n",
      "x : -44.303802\n",
      "SCORES   [-91946.59 -91946.59 -91946.59]\n",
      "NORMALIZED SCORES   [0.33235136 0.33235136 0.33235136]\n",
      "[0 1 2]\n",
      "Best\n",
      "[10.   1.   0.5] 0.1 1\n",
      "[Array(0, dtype=int32), 1]\n",
      "x : -41.772156\n",
      "SCORES   [-91949.06 -91949.06 -91949.06]\n",
      "NORMALIZED SCORES   [0.33235136 0.33235136 0.33235136]\n",
      "[0 1 2]\n",
      "Best\n",
      "[10.   1.   0.5] 0.1 1\n",
      "[Array(0, dtype=int32), 1]\n",
      "x : -39.24051\n",
      "SCORES   [-91951.53 -91951.53 -91951.53]\n",
      "NORMALIZED SCORES   [0.33235136 0.33235136 0.33235136]\n",
      "[0 1 2]\n",
      "Best\n",
      "[10.   1.   0.5] 0.1 1\n",
      "[Array(0, dtype=int32), 1]\n",
      "x : -36.708862\n",
      "SCORES   [-91954. -91954. -91954.]\n",
      "NORMALIZED SCORES   [0.33235136 0.33235136 0.33235136]\n",
      "[0 1 2]\n",
      "Best\n",
      "[10.   1.   0.5] 0.1 1\n",
      "[Array(0, dtype=int32), 1]\n",
      "x : -34.177216\n",
      "SCORES   [-91956.03 -91956.03 -91956.03]\n",
      "NORMALIZED SCORES   [0.33235136 0.33235136 0.33235136]\n",
      "[0 1 2]\n",
      "Best\n",
      "[10.   1.   0.5] 0.1 1\n",
      "[Array(0, dtype=int32), 1]\n",
      "x : -31.645561\n",
      "SCORES   [-91958.5 -91958.5 -91958.5]\n",
      "NORMALIZED SCORES   [0.33235136 0.33235136 0.33235136]\n",
      "[0 1 2]\n",
      "Best\n",
      "[10.   1.   0.5] 0.1 1\n",
      "[Array(0, dtype=int32), 1]\n",
      "x : -29.113922\n",
      "SCORES   [-91960.83 -91960.83 -91960.83]\n",
      "NORMALIZED SCORES   [0.33235136 0.33235136 0.33235136]\n",
      "[0 1 2]\n",
      "Best\n",
      "[10.   1.   0.5] 0.1 1\n",
      "[Array(0, dtype=int32), 1]\n",
      "x : -26.58228\n",
      "SCORES   [-91962.86 -91962.86 -91962.86]\n",
      "NORMALIZED SCORES   [0.33235136 0.33235136 0.33235136]\n",
      "[0 1 2]\n",
      "Best\n",
      "[10.   1.   0.5] 0.1 1\n",
      "[Array(0, dtype=int32), 1]\n",
      "x : -24.050632\n",
      "SCORES   [-91964.6 -91964.6 -91964.6]\n",
      "NORMALIZED SCORES   [0.33235136 0.33235136 0.33235136]\n",
      "[0 1 2]\n",
      "Best\n",
      "[ 10.   1. 100.] 0.1 1\n",
      "[Array(0, dtype=int32), 1]\n",
      "x : -21.518993\n",
      "SCORES   [-91964.6 -91964.6 -91964.6]\n",
      "NORMALIZED SCORES   [0.33235136 0.33235136 0.33235136]\n",
      "[0 1 2]\n",
      "Best\n",
      "[ 10.   1. 100.] 0.1 1\n",
      "[Array(0, dtype=int32), 1]\n",
      "x : -18.987343\n",
      "SCORES   [-91964.6 -91964.6 -91964.6]\n",
      "NORMALIZED SCORES   [0.33235136 0.33235136 0.33235136]\n",
      "[0 1 2]\n",
      "Best\n",
      "[ 10.   1. 100.] 0.1 1\n",
      "[Array(0, dtype=int32), 1]\n",
      "x : -16.455696\n",
      "SCORES   [-91964.6 -91964.6 -91964.6]\n",
      "NORMALIZED SCORES   [0.33235136 0.33235136 0.33235136]\n",
      "[0 1 2]\n",
      "Best\n",
      "[ 10.   1. 100.] 0.1 1\n",
      "[Array(0, dtype=int32), 1]\n",
      "x : -13.924049\n",
      "SCORES   [-91964.6 -91964.6 -91964.6]\n",
      "NORMALIZED SCORES   [0.33235136 0.33235136 0.33235136]\n",
      "[0 1 2]\n",
      "Best\n",
      "[ 10.   1. 100.] 0.1 1\n",
      "[Array(0, dtype=int32), 1]\n",
      "x : -11.392403\n",
      "SCORES   [-91964.6 -91964.6 -91964.6]\n",
      "NORMALIZED SCORES   [0.33235136 0.33235136 0.33235136]\n",
      "[0 1 2]\n",
      "Best\n",
      "[ 10.   1. 100.] 0.1 1\n",
      "[Array(0, dtype=int32), 1]\n",
      "x : -8.86076\n",
      "SCORES   [-91964.6 -91964.6 -91964.6]\n",
      "NORMALIZED SCORES   [0.33235136 0.33235136 0.33235136]\n",
      "[0 1 2]\n",
      "Best\n",
      "[ 10.   1. 100.] 0.1 1\n",
      "[Array(0, dtype=int32), 1]\n",
      "x : -6.329113\n",
      "SCORES   [-91964.6 -91964.6 -91964.6]\n",
      "NORMALIZED SCORES   [0.33235136 0.33235136 0.33235136]\n",
      "[0 1 2]\n",
      "Best\n",
      "[ 10.   1. 100.] 0.1 1\n",
      "[Array(0, dtype=int32), 1]\n",
      "x : -3.7974663\n",
      "SCORES   [-91964.6 -91964.6 -91964.6]\n",
      "NORMALIZED SCORES   [0.33235136 0.33235136 0.33235136]\n",
      "[0 1 2]\n",
      "Best\n",
      "[ 10.   1. 100.] 0.1 1\n",
      "[Array(0, dtype=int32), 1]\n",
      "x : -1.2658157\n",
      "SCORES   [-91964.6 -91964.6 -91964.6]\n",
      "NORMALIZED SCORES   [0.33235136 0.33235136 0.33235136]\n",
      "[0 1 2]\n",
      "Best\n",
      "[ 10.   1. 100.] 0.1 1\n",
      "[Array(0, dtype=int32), 1]\n",
      "x : 1.2658234\n",
      "SCORES   [-91964.6 -91964.6 -91964.6]\n",
      "NORMALIZED SCORES   [0.33235136 0.33235136 0.33235136]\n",
      "[0 1 2]\n",
      "Best\n",
      "[ 10.   1. 100.] 0.1 1\n",
      "[Array(0, dtype=int32), 1]\n",
      "x : 3.79747\n",
      "SCORES   [-91964.6 -91964.6 -91964.6]\n",
      "NORMALIZED SCORES   [0.33235136 0.33235136 0.33235136]\n",
      "[0 1 2]\n",
      "Best\n",
      "[ 10.   1. 100.] 0.1 1\n",
      "[Array(0, dtype=int32), 1]\n",
      "x : 6.329113\n",
      "SCORES   [-91964.6 -91964.6 -91964.6]\n",
      "NORMALIZED SCORES   [0.33235136 0.33235136 0.33235136]\n",
      "[0 1 2]\n",
      "Best\n",
      "[ 10.   1. 100.] 0.1 1\n",
      "[Array(0, dtype=int32), 1]\n",
      "x : 8.86076\n",
      "SCORES   [-91964.6 -91964.6 -91964.6]\n",
      "NORMALIZED SCORES   [0.33235136 0.33235136 0.33235136]\n",
      "[0 1 2]\n",
      "Best\n",
      "[ 10.   1. 100.] 0.1 1\n",
      "[Array(0, dtype=int32), 1]\n",
      "x : 11.392403\n",
      "SCORES   [-91964.6 -91964.6 -91964.6]\n",
      "NORMALIZED SCORES   [0.33235136 0.33235136 0.33235136]\n",
      "[0 1 2]\n",
      "Best\n",
      "[ 10.   1. 100.] 0.1 1\n",
      "[Array(0, dtype=int32), 1]\n",
      "x : 13.924049\n",
      "SCORES   [-91964.6 -91964.6 -91964.6]\n",
      "NORMALIZED SCORES   [0.33235136 0.33235136 0.33235136]\n",
      "[0 1 2]\n",
      "Best\n",
      "[ 10.   1. 100.] 0.1 1\n",
      "[Array(0, dtype=int32), 1]\n",
      "x : 16.455696\n",
      "SCORES   [-91964.6 -91964.6 -91964.6]\n",
      "NORMALIZED SCORES   [0.33235136 0.33235136 0.33235136]\n",
      "[0 1 2]\n",
      "Best\n",
      "[ 10.   1. 100.] 0.1 1\n",
      "[Array(0, dtype=int32), 1]\n",
      "x : 18.987343\n",
      "SCORES   [-91964.6 -91964.6 -91964.6]\n",
      "NORMALIZED SCORES   [0.33235136 0.33235136 0.33235136]\n",
      "[0 1 2]\n",
      "Best\n",
      "[ 10.   1. 100.] 0.1 1\n",
      "[Array(0, dtype=int32), 1]\n",
      "x : 21.51899\n",
      "SCORES   [-91964.6 -91964.6 -91964.6]\n",
      "NORMALIZED SCORES   [0.33235136 0.33235136 0.33235136]\n",
      "[0 1 2]\n",
      "Best\n",
      "[ 10.   1. 100.] 0.1 1\n",
      "[Array(0, dtype=int32), 1]\n",
      "x : 24.050636\n",
      "SCORES   [-91964.6 -91964.6 -91964.6]\n",
      "NORMALIZED SCORES   [0.33235136 0.33235136 0.33235136]\n",
      "[0 1 2]\n",
      "Best\n",
      "[ 10.   1. 100.] 0.1 1\n",
      "[Array(0, dtype=int32), 1]\n",
      "x : 26.582275\n",
      "SCORES   [-91962.86 -91962.86 -91962.86]\n",
      "NORMALIZED SCORES   [0.33235136 0.33235136 0.33235136]\n",
      "[0 1 2]\n",
      "Best\n",
      "[10.   1.   0.5] 0.1 1\n",
      "[Array(0, dtype=int32), 1]\n",
      "x : 29.113922\n",
      "SCORES   [-91960.82 -91960.82 -91960.82]\n",
      "NORMALIZED SCORES   [0.33235136 0.33235136 0.33235136]\n",
      "[0 1 2]\n",
      "Best\n",
      "[10.   1.   0.5] 0.1 1\n",
      "[Array(0, dtype=int32), 1]\n",
      "x : 31.645569\n",
      "SCORES   [-91958.5 -91958.5 -91958.5]\n",
      "NORMALIZED SCORES   [0.33235136 0.33235136 0.33235136]\n",
      "[0 1 2]\n",
      "Best\n",
      "[10.   1.   0.5] 0.1 1\n",
      "[Array(0, dtype=int32), 1]\n",
      "x : 34.17722\n",
      "SCORES   [-91956.03 -91956.03 -91956.03]\n",
      "NORMALIZED SCORES   [0.33235136 0.33235136 0.33235136]\n",
      "[0 1 2]\n",
      "Best\n",
      "[10.   1.   0.5] 0.1 1\n",
      "[Array(0, dtype=int32), 1]\n",
      "x : 36.708862\n",
      "SCORES   [-91954. -91954. -91954.]\n",
      "NORMALIZED SCORES   [0.33235136 0.33235136 0.33235136]\n",
      "[0 1 2]\n",
      "Best\n",
      "[10.   1.   0.5] 0.1 1\n",
      "[Array(0, dtype=int32), 1]\n",
      "x : 39.240513\n",
      "SCORES   [-91951.53 -91951.53 -91951.53]\n",
      "NORMALIZED SCORES   [0.33235136 0.33235136 0.33235136]\n",
      "[0 1 2]\n",
      "Best\n",
      "[10.   1.   0.5] 0.1 1\n",
      "[Array(0, dtype=int32), 1]\n",
      "x : 41.772156\n",
      "SCORES   [-91949.055 -91949.055 -91949.055]\n",
      "NORMALIZED SCORES   [0.33235136 0.33235136 0.33235136]\n",
      "[0 1 2]\n",
      "Best\n",
      "[10.   1.   0.5] 0.1 1\n",
      "[Array(0, dtype=int32), 1]\n",
      "x : 44.303802\n",
      "SCORES   [-91946.59 -91946.59 -91946.59]\n",
      "NORMALIZED SCORES   [0.33235136 0.33235136 0.33235136]\n",
      "[0 1 2]\n",
      "Best\n",
      "[10.   1.   0.5] 0.1 1\n",
      "[Array(0, dtype=int32), 1]\n",
      "x : 46.83544\n",
      "SCORES   [-91943.98 -91943.98 -91943.98]\n",
      "NORMALIZED SCORES   [0.33235136 0.33235136 0.33235136]\n",
      "[0 1 2]\n",
      "Best\n",
      "[10.   1.   0.5] 0.1 1\n",
      "[Array(0, dtype=int32), 1]\n",
      "x : 49.36709\n",
      "SCORES   [-91941.66 -91941.66 -91941.66]\n",
      "NORMALIZED SCORES   [0.33235136 0.33235136 0.33235136]\n",
      "[0 1 2]\n",
      "Best\n",
      "[10.   1.   0.5] 0.1 1\n",
      "[Array(0, dtype=int32), 1]\n",
      "x : 51.898735\n",
      "SCORES   [-91939.03 -91939.03 -91939.03]\n",
      "NORMALIZED SCORES   [0.33235136 0.33235136 0.33235136]\n",
      "[0 1 2]\n",
      "Best\n",
      "[10.   1.   0.5] 0.1 1\n",
      "[Array(0, dtype=int32), 1]\n",
      "x : 54.43038\n",
      "SCORES   [-91937.01 -91937.01 -91937.01]\n",
      "NORMALIZED SCORES   [0.33235136 0.33235136 0.33235136]\n",
      "[0 1 2]\n",
      "Best\n",
      "[10.   1.   0.5] 0.1 1\n",
      "[Array(0, dtype=int32), 1]\n",
      "x : 56.96202\n",
      "SCORES   [-91934.53 -91934.53 -91936.36]\n",
      "NORMALIZED SCORES   [0.4614242  0.4614242  0.07415762]\n",
      "[0 1 2]\n",
      "Best\n",
      "[10.   1.   0.5] 0.1 1\n",
      "[Array(0, dtype=int32), 1]\n",
      "x : 59.493668\n",
      "SCORES   [-91932.06 -91932.06 -91936.08]\n",
      "NORMALIZED SCORES   [0.4950359  0.4950359  0.00892633]\n",
      "[0 1 2]\n",
      "Best\n",
      "[10.   1.   0.5] 0.1 1\n",
      "[Array(0, dtype=int32), 1]\n",
      "x : 62.02532\n",
      "SCORES   [-91929.45 -91929.45 -91935.72]\n",
      "NORMALIZED SCORES   [0.49891853 0.49891853 0.00094821]\n",
      "[0 1 2]\n",
      "Best\n",
      "[10.   1.   0.5] 0.1 1\n",
      "[Array(0, dtype=int32), 1]\n",
      "x : 64.55696\n",
      "SCORES   [-91927.125 -91927.3   -91935.62 ]\n",
      "NORMALIZED SCORES   [5.4369056e-01 4.5783338e-01 1.1149147e-04]\n",
      "[0 1 2]\n",
      "Best\n",
      "[10.   1.   0.5] 0.1 1\n",
      "[Array(0, dtype=int32), 1]\n",
      "x : 67.08861\n",
      "SCORES   [-91924.66  -91926.695 -91935.69 ]\n",
      "NORMALIZED SCORES   [8.8249689e-01 1.1485756e-01 1.4285722e-05]\n",
      "[0 1 2]\n",
      "Best\n",
      "[10.   1.   0.5] 0.1 1\n",
      "[Array(0, dtype=int32), 1]\n",
      "x : 69.620255\n",
      "SCORES   [-91922.19 -91926.33 -91935.76]\n",
      "NORMALIZED SCORES   [9.8449647e-01 1.5666196e-02 1.2580629e-06]\n",
      "[0 1 2]\n",
      "Best\n",
      "[10.   1.   0.5] 0.1 1\n",
      "[Array(0, dtype=int32), 1]\n"
     ]
    },
    {
     "name": "stdout",
     "output_type": "stream",
     "text": [
      "x : 72.1519\n",
      "SCORES   [-91919.58  -91926.11  -91935.836]\n",
      "NORMALIZED SCORES   [1.0000000e+00 1.4571832e-03 8.6960448e-08]\n",
      "[0 1 2]\n",
      "Best\n",
      "[10.   1.   0.5] 0.1 1\n",
      "[Array(0, dtype=int32), 1]\n",
      "x : 74.68355\n",
      "SCORES   [-91917.4  -91926.16 -91935.91]\n",
      "NORMALIZED SCORES   [1.0000000e+00 1.5722816e-04 9.1655634e-09]\n",
      "[0 1 2]\n",
      "Best\n",
      "[10.   1.   0.5] 0.1 1\n",
      "[Array(0, dtype=int32), 1]\n",
      "x : 77.215195\n",
      "SCORES   [-91915.64 -91926.22 -91935.98]\n",
      "NORMALIZED SCORES   [1.0000000e+00 2.5467052e-05 1.4730400e-09]\n",
      "[0 1 2]\n",
      "Best\n",
      "[10.   1.   0.5] 0.1 1\n",
      "[Array(0, dtype=int32), 1]\n",
      "x : 79.74683\n",
      "SCORES   [-91914.164 -91926.16  -91936.03 ]\n",
      "NORMALIZED SCORES   [1.0000000e+00 6.1924020e-06 3.1856726e-10]\n",
      "[0 1 2]\n",
      "Best\n",
      "[10.   1.   0.5] 0.1 1\n",
      "[Array(0, dtype=int32), 1]\n",
      "x : 82.27848\n",
      "SCORES   [-91911.89 -91926.34 -91935.97]\n",
      "NORMALIZED SCORES   [1.0000000e+00 5.2855177e-07 3.4914287e-11]\n",
      "[0 1 2]\n",
      "Best\n",
      "[10.   1.   0.5] 0.1 1\n",
      "[Array(0, dtype=int32), 1]\n",
      "x : 84.81012\n",
      "SCORES   [-91910.24 -91920.11 -91930.14]\n",
      "NORMALIZED SCORES   [1.000000e+00 5.184835e-05 2.281489e-09]\n",
      "[0 1 2]\n",
      "Best\n",
      "[10.   1.   0.5] 0.1 1\n",
      "[Array(0, dtype=int32), 1]\n",
      "x : 87.34177\n",
      "SCORES   [-91909.9  -91920.06 -91936.04]\n",
      "NORMALIZED SCORES   [1.0000000e+00 3.8530419e-05 4.4388534e-12]\n",
      "[0 1 2]\n",
      "Best\n",
      "[10.   1.   0.5] 0.1 1\n",
      "[Array(0, dtype=int32), 1]\n",
      "x : 89.87341\n",
      "SCORES   [-91910.266 -91920.43  -91930.016]\n",
      "NORMALIZED SCORES   [1.0000000e+00 3.8530419e-05 2.6465738e-09]\n",
      "[0 1 2]\n",
      "Best\n",
      "[10.   1.   0.5] 0.1 1\n",
      "[Array(0, dtype=int32), 1]\n",
      "x : 92.40507\n",
      "SCORES   [-91910.69 -91920.41 -91929.99]\n",
      "NORMALIZED SCORES   [1.0000000e+00 6.0145136e-05 4.1312429e-09]\n",
      "[0 1 2]\n",
      "Best\n",
      "[10.   1.   0.5] 0.1 1\n",
      "[Array(0, dtype=int32), 1]\n",
      "x : 94.936714\n",
      "SCORES   [-91910.14  -91919.695 -91929.43 ]\n",
      "NORMALIZED SCORES   [1.0000000e+00 7.0868286e-05 4.1963006e-09]\n",
      "[0 1 2]\n",
      "Best\n",
      "[10.   1.   0.5] 0.1 1\n",
      "[Array(0, dtype=int32), 1]\n",
      "x : 97.46836\n",
      "SCORES   [-91909.086 -91918.8   -91928.69 ]\n",
      "NORMALIZED SCORES   [1.0000000e+00 6.0616858e-05 3.0700791e-09]\n",
      "[0 1 2]\n",
      "Best\n",
      "[10.   1.   0.5] 0.1 1\n",
      "[Array(0, dtype=int32), 1]\n",
      "x : 100.0\n",
      "SCORES   [-91908.57 -91918.44 -91928.77]\n",
      "NORMALIZED SCORES   [1.0000000e+00 5.1848350e-05 1.6822645e-09]\n",
      "[0 1 2]\n",
      "Best\n",
      "[10.   1.   0.5] 0.1 1\n",
      "[Array(0, dtype=int32), 1]\n"
     ]
    },
    {
     "data": {
      "text/plain": [
       "<Figure size 640x480 with 0 Axes>"
      ]
     },
     "metadata": {},
     "output_type": "display_data"
    },
    {
     "data": {
      "text/plain": [
       "<Figure size 700x400 with 0 Axes>"
      ]
     },
     "metadata": {},
     "output_type": "display_data"
    },
    {
     "data": {
      "text/plain": [
       "<Figure size 700x400 with 0 Axes>"
      ]
     },
     "metadata": {},
     "output_type": "display_data"
    },
    {
     "data": {
      "text/plain": [
       "<Figure size 700x400 with 0 Axes>"
      ]
     },
     "metadata": {},
     "output_type": "display_data"
    },
    {
     "data": {
      "text/plain": [
       "<Figure size 700x400 with 0 Axes>"
      ]
     },
     "metadata": {},
     "output_type": "display_data"
    },
    {
     "data": {
      "text/plain": [
       "<Figure size 700x400 with 0 Axes>"
      ]
     },
     "metadata": {},
     "output_type": "display_data"
    },
    {
     "data": {
      "text/plain": [
       "<Figure size 700x400 with 0 Axes>"
      ]
     },
     "metadata": {},
     "output_type": "display_data"
    },
    {
     "data": {
      "text/plain": [
       "<Figure size 700x400 with 0 Axes>"
      ]
     },
     "metadata": {},
     "output_type": "display_data"
    },
    {
     "data": {
      "text/plain": [
       "<Figure size 700x400 with 0 Axes>"
      ]
     },
     "metadata": {},
     "output_type": "display_data"
    },
    {
     "data": {
      "text/plain": [
       "<Figure size 700x400 with 0 Axes>"
      ]
     },
     "metadata": {},
     "output_type": "display_data"
    },
    {
     "data": {
      "text/plain": [
       "<Figure size 700x400 with 0 Axes>"
      ]
     },
     "metadata": {},
     "output_type": "display_data"
    },
    {
     "data": {
      "text/plain": [
       "<Figure size 700x400 with 0 Axes>"
      ]
     },
     "metadata": {},
     "output_type": "display_data"
    },
    {
     "data": {
      "text/plain": [
       "<Figure size 700x400 with 0 Axes>"
      ]
     },
     "metadata": {},
     "output_type": "display_data"
    },
    {
     "data": {
      "text/plain": [
       "<Figure size 700x400 with 0 Axes>"
      ]
     },
     "metadata": {},
     "output_type": "display_data"
    },
    {
     "data": {
      "text/plain": [
       "<Figure size 700x400 with 0 Axes>"
      ]
     },
     "metadata": {},
     "output_type": "display_data"
    },
    {
     "data": {
      "text/plain": [
       "<Figure size 700x400 with 0 Axes>"
      ]
     },
     "metadata": {},
     "output_type": "display_data"
    },
    {
     "data": {
      "text/plain": [
       "<Figure size 700x400 with 0 Axes>"
      ]
     },
     "metadata": {},
     "output_type": "display_data"
    },
    {
     "data": {
      "text/plain": [
       "<Figure size 700x400 with 0 Axes>"
      ]
     },
     "metadata": {},
     "output_type": "display_data"
    },
    {
     "data": {
      "text/plain": [
       "<Figure size 700x400 with 0 Axes>"
      ]
     },
     "metadata": {},
     "output_type": "display_data"
    },
    {
     "data": {
      "text/plain": [
       "<Figure size 700x400 with 0 Axes>"
      ]
     },
     "metadata": {},
     "output_type": "display_data"
    },
    {
     "data": {
      "text/plain": [
       "<Figure size 700x400 with 0 Axes>"
      ]
     },
     "metadata": {},
     "output_type": "display_data"
    },
    {
     "data": {
      "text/plain": [
       "<Figure size 700x400 with 0 Axes>"
      ]
     },
     "metadata": {},
     "output_type": "display_data"
    },
    {
     "data": {
      "text/plain": [
       "<Figure size 700x400 with 0 Axes>"
      ]
     },
     "metadata": {},
     "output_type": "display_data"
    },
    {
     "data": {
      "text/plain": [
       "<Figure size 700x400 with 0 Axes>"
      ]
     },
     "metadata": {},
     "output_type": "display_data"
    },
    {
     "data": {
      "text/plain": [
       "<Figure size 700x400 with 0 Axes>"
      ]
     },
     "metadata": {},
     "output_type": "display_data"
    },
    {
     "data": {
      "text/plain": [
       "<Figure size 700x400 with 0 Axes>"
      ]
     },
     "metadata": {},
     "output_type": "display_data"
    },
    {
     "data": {
      "text/plain": [
       "<Figure size 700x400 with 0 Axes>"
      ]
     },
     "metadata": {},
     "output_type": "display_data"
    },
    {
     "data": {
      "text/plain": [
       "<Figure size 700x400 with 0 Axes>"
      ]
     },
     "metadata": {},
     "output_type": "display_data"
    },
    {
     "data": {
      "text/plain": [
       "<Figure size 700x400 with 0 Axes>"
      ]
     },
     "metadata": {},
     "output_type": "display_data"
    },
    {
     "data": {
      "text/plain": [
       "<Figure size 700x400 with 0 Axes>"
      ]
     },
     "metadata": {},
     "output_type": "display_data"
    },
    {
     "data": {
      "text/plain": [
       "<Figure size 700x400 with 0 Axes>"
      ]
     },
     "metadata": {},
     "output_type": "display_data"
    },
    {
     "data": {
      "text/plain": [
       "<Figure size 700x400 with 0 Axes>"
      ]
     },
     "metadata": {},
     "output_type": "display_data"
    },
    {
     "data": {
      "text/plain": [
       "<Figure size 700x400 with 0 Axes>"
      ]
     },
     "metadata": {},
     "output_type": "display_data"
    },
    {
     "data": {
      "text/plain": [
       "<Figure size 700x400 with 0 Axes>"
      ]
     },
     "metadata": {},
     "output_type": "display_data"
    },
    {
     "data": {
      "text/plain": [
       "<Figure size 700x400 with 0 Axes>"
      ]
     },
     "metadata": {},
     "output_type": "display_data"
    },
    {
     "data": {
      "text/plain": [
       "<Figure size 700x400 with 0 Axes>"
      ]
     },
     "metadata": {},
     "output_type": "display_data"
    },
    {
     "data": {
      "text/plain": [
       "<Figure size 700x400 with 0 Axes>"
      ]
     },
     "metadata": {},
     "output_type": "display_data"
    },
    {
     "data": {
      "text/plain": [
       "<Figure size 700x400 with 0 Axes>"
      ]
     },
     "metadata": {},
     "output_type": "display_data"
    },
    {
     "data": {
      "text/plain": [
       "<Figure size 700x400 with 0 Axes>"
      ]
     },
     "metadata": {},
     "output_type": "display_data"
    },
    {
     "data": {
      "text/plain": [
       "<Figure size 700x400 with 0 Axes>"
      ]
     },
     "metadata": {},
     "output_type": "display_data"
    },
    {
     "data": {
      "text/plain": [
       "<Figure size 700x400 with 0 Axes>"
      ]
     },
     "metadata": {},
     "output_type": "display_data"
    },
    {
     "data": {
      "text/plain": [
       "<Figure size 700x400 with 0 Axes>"
      ]
     },
     "metadata": {},
     "output_type": "display_data"
    },
    {
     "data": {
      "text/plain": [
       "<Figure size 700x400 with 0 Axes>"
      ]
     },
     "metadata": {},
     "output_type": "display_data"
    },
    {
     "data": {
      "text/plain": [
       "<Figure size 700x400 with 0 Axes>"
      ]
     },
     "metadata": {},
     "output_type": "display_data"
    },
    {
     "data": {
      "text/plain": [
       "<Figure size 700x400 with 0 Axes>"
      ]
     },
     "metadata": {},
     "output_type": "display_data"
    },
    {
     "data": {
      "text/plain": [
       "<Figure size 700x400 with 0 Axes>"
      ]
     },
     "metadata": {},
     "output_type": "display_data"
    },
    {
     "data": {
      "text/plain": [
       "<Figure size 700x400 with 0 Axes>"
      ]
     },
     "metadata": {},
     "output_type": "display_data"
    },
    {
     "data": {
      "text/plain": [
       "<Figure size 700x400 with 0 Axes>"
      ]
     },
     "metadata": {},
     "output_type": "display_data"
    },
    {
     "data": {
      "text/plain": [
       "<Figure size 700x400 with 0 Axes>"
      ]
     },
     "metadata": {},
     "output_type": "display_data"
    },
    {
     "data": {
      "text/plain": [
       "<Figure size 700x400 with 0 Axes>"
      ]
     },
     "metadata": {},
     "output_type": "display_data"
    },
    {
     "data": {
      "text/plain": [
       "<Figure size 700x400 with 0 Axes>"
      ]
     },
     "metadata": {},
     "output_type": "display_data"
    },
    {
     "data": {
      "text/plain": [
       "<Figure size 700x400 with 0 Axes>"
      ]
     },
     "metadata": {},
     "output_type": "display_data"
    },
    {
     "data": {
      "text/plain": [
       "<Figure size 700x400 with 0 Axes>"
      ]
     },
     "metadata": {},
     "output_type": "display_data"
    },
    {
     "data": {
      "text/plain": [
       "<Figure size 700x400 with 0 Axes>"
      ]
     },
     "metadata": {},
     "output_type": "display_data"
    },
    {
     "data": {
      "text/plain": [
       "<Figure size 700x400 with 0 Axes>"
      ]
     },
     "metadata": {},
     "output_type": "display_data"
    },
    {
     "data": {
      "text/plain": [
       "<Figure size 700x400 with 0 Axes>"
      ]
     },
     "metadata": {},
     "output_type": "display_data"
    },
    {
     "data": {
      "text/plain": [
       "<Figure size 700x400 with 0 Axes>"
      ]
     },
     "metadata": {},
     "output_type": "display_data"
    },
    {
     "data": {
      "text/plain": [
       "<Figure size 700x400 with 0 Axes>"
      ]
     },
     "metadata": {},
     "output_type": "display_data"
    },
    {
     "data": {
      "text/plain": [
       "<Figure size 700x400 with 0 Axes>"
      ]
     },
     "metadata": {},
     "output_type": "display_data"
    },
    {
     "data": {
      "text/plain": [
       "<Figure size 700x400 with 0 Axes>"
      ]
     },
     "metadata": {},
     "output_type": "display_data"
    },
    {
     "data": {
      "text/plain": [
       "<Figure size 700x400 with 0 Axes>"
      ]
     },
     "metadata": {},
     "output_type": "display_data"
    },
    {
     "data": {
      "text/plain": [
       "<Figure size 700x400 with 0 Axes>"
      ]
     },
     "metadata": {},
     "output_type": "display_data"
    },
    {
     "data": {
      "text/plain": [
       "<Figure size 700x400 with 0 Axes>"
      ]
     },
     "metadata": {},
     "output_type": "display_data"
    },
    {
     "data": {
      "text/plain": [
       "<Figure size 700x400 with 0 Axes>"
      ]
     },
     "metadata": {},
     "output_type": "display_data"
    },
    {
     "data": {
      "text/plain": [
       "<Figure size 700x400 with 0 Axes>"
      ]
     },
     "metadata": {},
     "output_type": "display_data"
    },
    {
     "data": {
      "text/plain": [
       "<Figure size 700x400 with 0 Axes>"
      ]
     },
     "metadata": {},
     "output_type": "display_data"
    },
    {
     "data": {
      "text/plain": [
       "<Figure size 700x400 with 0 Axes>"
      ]
     },
     "metadata": {},
     "output_type": "display_data"
    },
    {
     "data": {
      "text/plain": [
       "<Figure size 700x400 with 0 Axes>"
      ]
     },
     "metadata": {},
     "output_type": "display_data"
    },
    {
     "data": {
      "text/plain": [
       "<Figure size 700x400 with 0 Axes>"
      ]
     },
     "metadata": {},
     "output_type": "display_data"
    },
    {
     "data": {
      "text/plain": [
       "<Figure size 700x400 with 0 Axes>"
      ]
     },
     "metadata": {},
     "output_type": "display_data"
    },
    {
     "data": {
      "text/plain": [
       "<Figure size 700x400 with 0 Axes>"
      ]
     },
     "metadata": {},
     "output_type": "display_data"
    },
    {
     "data": {
      "text/plain": [
       "<Figure size 700x400 with 0 Axes>"
      ]
     },
     "metadata": {},
     "output_type": "display_data"
    },
    {
     "data": {
      "text/plain": [
       "<Figure size 700x400 with 0 Axes>"
      ]
     },
     "metadata": {},
     "output_type": "display_data"
    },
    {
     "data": {
      "text/plain": [
       "<Figure size 700x400 with 0 Axes>"
      ]
     },
     "metadata": {},
     "output_type": "display_data"
    },
    {
     "data": {
      "text/plain": [
       "<Figure size 700x400 with 0 Axes>"
      ]
     },
     "metadata": {},
     "output_type": "display_data"
    },
    {
     "data": {
      "text/plain": [
       "<Figure size 700x400 with 0 Axes>"
      ]
     },
     "metadata": {},
     "output_type": "display_data"
    },
    {
     "data": {
      "text/plain": [
       "<Figure size 700x400 with 0 Axes>"
      ]
     },
     "metadata": {},
     "output_type": "display_data"
    },
    {
     "data": {
      "text/plain": [
       "<Figure size 700x400 with 0 Axes>"
      ]
     },
     "metadata": {},
     "output_type": "display_data"
    },
    {
     "data": {
      "text/plain": [
       "<Figure size 700x400 with 0 Axes>"
      ]
     },
     "metadata": {},
     "output_type": "display_data"
    },
    {
     "data": {
      "text/plain": [
       "<Figure size 700x400 with 0 Axes>"
      ]
     },
     "metadata": {},
     "output_type": "display_data"
    },
    {
     "data": {
      "image/png": "[encoded data removed]",
      "text/plain": [
       "<Figure size 700x400 with 1 Axes>"
      ]
     },
     "metadata": {},
     "output_type": "display_data"
    }
   ],
   "source": [
    "viz_images = []\n",
    "for block_x in jnp.linspace(-100.0, 100.0, 80):\n",
    "    print(\"x :\", block_x)\n",
    "    object_indices = jnp.array([0,1])\n",
    "\n",
    "    poses = j.scene_graph.pose_from_contact_and_face_params_multiobject_jit(\n",
    "        jnp.array(\n",
    "            [\n",
    "                [0.0, 100.0, 0.0],\n",
    "                [block_x, 0.0, 0.0],\n",
    "            ]\n",
    "        ),\n",
    "        jnp.array([3,3]),\n",
    "        renderer.model_box_dims[object_indices],\n",
    "        contact_plane\n",
    "    )\n",
    "    SCALING_FACTOR = 4\n",
    "    observed_point_cloud_image = renderer.render_multiobject(poses, object_indices)\n",
    "    j.meshcat.show_cloud(\"obs\", observed_point_cloud_image[:,:,:3].reshape(-1,3) / 1000.0)\n",
    "    j.scale_image(j.get_depth_image(observed_point_cloud_image[:,:,2]),SCALING_FACTOR)\n",
    "\n",
    "\n",
    "    R = jnp.array([10.0, 1.0])\n",
    "    object_poses, object_ids = poses[:1,:,:][None,...], [object_indices[0]]\n",
    "    reconstruction = renderer.render_multiobject(\n",
    "        object_poses, object_ids\n",
    "    )\n",
    "\n",
    "    all_hypotheses = inference()\n",
    "\n",
    "\n",
    "    scores = jnp.array([i[0] for i in all_hypotheses])\n",
    "    normalized_scores = j.utils.normalize_log_scores(scores)\n",
    "    print(\"SCORES  \", scores)\n",
    "    print(\"NORMALIZED SCORES  \", normalized_scores)\n",
    "    print(jnp.argsort(-scores))\n",
    "    best_hypothesis = all_hypotheses[jnp.argmax(scores)]\n",
    "    score, reconstruction, best_r, best_outlier_prob, best_poses, obj_id = best_hypothesis\n",
    "    print(\"Best\")\n",
    "    print(best_r, best_outlier_prob, obj_id)\n",
    "\n",
    "    R = best_r\n",
    "    object_poses = best_poses[:,None,...]\n",
    "    object_ids = object_ids + [obj_id]\n",
    "    print(object_ids)\n",
    "\n",
    "    # outliers = (\n",
    "    #     (1.0 - best_outlier_prob) * (j.gaussian_mixture_image_multi_r_jit(observed_point_cloud_image, reconstruction[:,:,:3], reconstruction[:,:, -1], best_r))\n",
    "    #         <\n",
    "    #     (best_outlier_prob / OUTLIER_VOLUME)\n",
    "    # )\n",
    "\n",
    "    # height_factor = outlier_prob_viz.height / observed_image_viz.height\n",
    "    plt.clf()\n",
    "    plt.figure(figsize=(7,4))\n",
    "    color = np.array([229, 107, 111])/255.0\n",
    "    plt.bar(\n",
    "        np.arange(len(normalized_scores)),\n",
    "        normalized_scores,\n",
    "        color=color\n",
    "    )\n",
    "    plt.xticks(np.arange(len(normalized_scores)), [\"{:d}\".format(i) for i in range(len(normalized_scores))],fontsize=15)\n",
    "    plt.yticks([0.0, 0.2, 0.4, 0.6, 0.8, 1.0],fontsize=15)\n",
    "    plt.xlabel(\"Object ID\",fontsize=20)\n",
    "    plt.ylabel(\"Probability\",fontsize=20)\n",
    "    plt.ylim(0.0, 1.05)\n",
    "    plt.tight_layout()\n",
    "    img_buf = io.BytesIO()\n",
    "    plt.savefig(img_buf, format='png')\n",
    "    posterior_bar_chart = Image.open(img_buf)\n",
    "\n",
    "    depth_viz = j.scale_image(j.get_depth_image(observed_point_cloud_image[:,:,2]), SCALING_FACTOR)\n",
    "\n",
    "    height_factor = depth_viz.height / posterior_bar_chart.height\n",
    "\n",
    "\n",
    "\n",
    "    # outlier_viz = j.scale_image(j.get_depth_image(1.0 - outliers), SCALING_FACTOR)\n",
    "    viz1 = j.multi_panel(\n",
    "        [\n",
    "            depth_viz,\n",
    "            j.scale_image(j.get_depth_image(reconstruction[:,:,2]), SCALING_FACTOR),\n",
    "            j.scale_image(posterior_bar_chart, height_factor)\n",
    "        ],\n",
    "        labels=[\n",
    "            \"Observed Image\",\n",
    "            \"Reconstruction\",\n",
    "            \"Posterior on Object Type\",\n",
    "        ],\n",
    "        middle_width=30\n",
    "    )\n",
    "\n",
    "    viz2 = j.multi_panel(\n",
    "        [j.scale_image(j.get_depth_image(r[1][:,:,2]), SCALING_FACTOR) for r in all_hypotheses],\n",
    "        labels=[\"obj_{:d}\".format(idx, i.item()) for (idx,i) in enumerate(normalized_scores)],\n",
    "        title=\"Inferred Pose per Object Type\"\n",
    "    )\n",
    "\n",
    "    final_viz = j.vstack_images([viz1, viz2])\n",
    "    viz_images.append(final_viz)\n"
   ]
  },
  {
   "cell_type": "code",
   "execution_count": 147,
   "id": "44a55423",
   "metadata": {},
   "outputs": [],
   "source": [
    "j.make_gif(viz_images, \"out.gif\")"
   ]
  },
  {
   "cell_type": "code",
   "execution_count": 142,
   "id": "a68122dc",
   "metadata": {},
   "outputs": [
    {
     "name": "stdout",
     "output_type": "stream",
     "text": [
      "[1.e-07 1.e-06 5.e+00]\n"
     ]
    },
    {
     "data": {
      "image/png": "[encoded data removed]",
      "text/plain": [
       "<PIL.Image.Image image mode=RGBA size=1000x1000>"
      ]
     },
     "execution_count": 142,
     "metadata": {},
     "output_type": "execute_result"
    }
   ],
   "source": [
    "R = jnp.array([0.0000001, 0.000001, 5.0])\n",
    "reconstruction = renderer.render_multiobject(\n",
    "    object_poses, object_ids\n",
    ")\n",
    "\n",
    "# reconstruction = observed_point_cloud_image\n",
    "rendered_seg = reconstruction[:,:,3]\n",
    "j.get_depth_image(reconstruction[:,:,2])\n",
    "r_array = R\n",
    "print(r_array, )\n",
    "r = r_array[jnp.abs(rendered_seg[..., None] - jnp.arange(len(r_array))).argmin(-1)]\n",
    "key = jax.random.PRNGKey(10)\n",
    "noisy_point_cloud_image = jax.random.multivariate_normal(\n",
    "    key, reconstruction[:,:,:3], (jnp.eye(3)[None, None, :, :] * r[:,:,None,None]), shape=r.shape\n",
    ")\n",
    "img = j.render_point_cloud(noisy_point_cloud_image.reshape(-1,3), intrinsics)\n",
    "j.scale_image(j.get_depth_image(img[:,:,2]),10)"
   ]
  },
  {
   "cell_type": "code",
   "execution_count": null,
   "id": "dd67ffb7",
   "metadata": {},
   "outputs": [],
   "source": []
  }
 ],
 "metadata": {
  "kernelspec": {
   "display_name": "Python 3 (ipykernel)",
   "language": "python",
   "name": "python3"
  },
  "language_info": {
   "codemirror_mode": {
    "name": "ipython",
    "version": 3
   },
   "file_extension": ".py",
   "mimetype": "text/x-python",
   "name": "python",
   "nbconvert_exporter": "python",
   "pygments_lexer": "ipython3",
   "version": "3.8.16"
  }
 },
 "nbformat": 4,
 "nbformat_minor": 5
}
