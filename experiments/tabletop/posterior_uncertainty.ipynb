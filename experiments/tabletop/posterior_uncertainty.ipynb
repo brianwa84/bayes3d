{
 "cells": [
  {
   "cell_type": "code",
   "execution_count": 2,
   "id": "a15c8065",
   "metadata": {},
   "outputs": [],
   "source": [
    "import bayes3d as j\n",
    "import jax\n",
    "import jax.numpy as jnp\n",
    "import numpy as np\n",
    "import os\n",
    "import trimesh\n",
    "import copy\n",
    "import open3d as o3d\n",
    "from tqdm import tqdm\n",
    "import matplotlib.pyplot as plt\n",
    "from PIL import Image\n",
    "import io\n",
    "\n",
    "intrinsics = j.Intrinsics(\n",
    "    height=100,\n",
    "    width=100,\n",
    "    fx=100.0, fy=100.0,\n",
    "    cx=50.0, cy=50.0,\n",
    "    near=1.0, far=500.0\n",
    ")\n"
   ]
  },
  {
   "cell_type": "code",
   "execution_count": 4,
   "id": "3034e99d",
   "metadata": {},
   "outputs": [
    {
     "name": "stdout",
     "output_type": "stream",
     "text": [
      "You can open the visualizer by visiting the following URL:\n",
      "http://127.0.0.1:7004/static/\n"
     ]
    }
   ],
   "source": [
    "j.setup_visualizer()"
   ]
  },
  {
   "cell_type": "code",
   "execution_count": 7,
   "id": "02028196",
   "metadata": {},
   "outputs": [],
   "source": [
    "table_params = (1000.0,\n",
    "    1000.0,\n",
    "    0.01,\n",
    "    0.01,\n",
    "    0.01)\n",
    "table_mesh = j.mesh.make_table_mesh(\n",
    "    *table_params\n",
    ")\n",
    "table_dims = j.utils.aabb(table_mesh.vertices)[0]\n",
    "table_pose = j.t3d.inverse_pose(\n",
    "    j.t3d.transform_from_pos_target_up(\n",
    "        jnp.array([0.0, 300.0, 150.0]),\n",
    "        jnp.array([0.0, 0.0, 0.0]),\n",
    "        jnp.array([0.0, 0.0, 1.0]),\n",
    "    )\n",
    ")\n",
    "contact_plane = table_pose @ j.scene_graph.get_contact_planes(table_dims)[2]"
   ]
  },
  {
   "cell_type": "code",
   "execution_count": 21,
   "id": "1b857fe0",
   "metadata": {},
   "outputs": [
    {
     "name": "stdout",
     "output_type": "stream",
     "text": [
      "Increasing frame buffer size to (width, height, depth) = (128, 128, 1024)\n"
     ]
    },
    {
     "name": "stderr",
     "output_type": "stream",
     "text": [
      "[E rasterize_gl.cpp:121] OpenGL version reported as 4.6\n"
     ]
    }
   ],
   "source": [
    "occluder = j.mesh.make_cuboid_mesh(jnp.array([10.0, 70.0, 100.0]))                       \n",
    "obj_a = j.mesh.make_cuboid_mesh(jnp.array([50.0, 100.0, 50.0]))                       \n",
    "obj_b = j.mesh.make_cuboid_mesh(jnp.array([50.0, 60.0, 50.0]))\n",
    "obj_c = j.mesh.make_cuboid_mesh(jnp.array([50.0, 20.0, 50.0]))\n",
    "renderer = j.Renderer(intrinsics, num_layers=1024)\n",
    "renderer.add_mesh(occluder)\n",
    "renderer.add_mesh(obj_a)\n",
    "renderer.add_mesh(obj_b)\n",
    "renderer.add_mesh(obj_c)"
   ]
  },
  {
   "cell_type": "code",
   "execution_count": 18,
   "id": "b8138356",
   "metadata": {},
   "outputs": [],
   "source": [
    "def sample_image(object_poses, object_ids, r_array):\n",
    "    reconstruction = renderer.render_multiobject(\n",
    "        object_poses, object_ids\n",
    "    )\n",
    "    rendered_seg = reconstruction[:,:,3]\n",
    "    r = r_array[jnp.abs(rendered_seg[..., None] - jnp.arange(len(r_array))).argmin(-1)]\n",
    "    key = jax.random.PRNGKey(10)\n",
    "    noisy_point_cloud_image = jax.random.multivariate_normal(\n",
    "        key, reconstruction[:,:,:3], (jnp.eye(3)[None, None, :, :] * r[:,:,None,None]), shape=r.shape\n",
    "    )\n",
    "    img = j.render_point_cloud(noisy_point_cloud_image.reshape(-1,3), intrinsics)\n",
    "    return img\n",
    "\n",
    "def inference():\n",
    "    all_hypotheses = []\n",
    "    for obj_id in range(1,len(renderer.meshes)):\n",
    "#         print(\"Object ID \", obj_id)\n",
    "        contact_param = jnp.zeros(3)\n",
    "        p = None\n",
    "        for c2f_iter in range(len(contact_param_gridding_schedule)):\n",
    "            contact_param_grid = contact_param_gridding_schedule[c2f_iter] + contact_param\n",
    "\n",
    "            potential_new_object_poses = contact_plane @ pose_from_contact_and_face_params_parallel_jit(\n",
    "                contact_param_grid,\n",
    "                3,\n",
    "                renderer.model_box_dims[obj_id],\n",
    "            )\n",
    "            POTENTIAL_R = jnp.hstack([jnp.tile(R[None,:], (R_SWEEP.shape[0], 1)),R_SWEEP])\n",
    "\n",
    "            potential_poses = jnp.concatenate(\n",
    "                [\n",
    "                    jnp.tile(object_poses, (1,potential_new_object_poses.shape[0],1,1)),\n",
    "                    potential_new_object_poses[None,...]\n",
    "                ]\n",
    "            )\n",
    "            reconstruction = renderer.render_multiobject_parallel(\n",
    "                potential_poses, object_ids + [obj_id]\n",
    "            )\n",
    "            p = j.threedp3_likelihood_multi_r_full_hierarchical_bayes_jit(\n",
    "                observed_point_cloud_image,\n",
    "                reconstruction[:,:,:,:3],\n",
    "                reconstruction[:,:,:, -1],\n",
    "                POTENTIAL_R, OUTLIER_PROBS, OUTLIER_VOLUME, 11\n",
    "            )\n",
    "            \n",
    "            ii,jj,kk = jnp.unravel_index(p.argmax(), p.shape)\n",
    "            contact_param = contact_param_grid[ii]\n",
    "    #         print(contact_param)\n",
    "    #         print(POTENTIAL_R[jj])\n",
    "\n",
    "        best_r, best_outlier_prob = (POTENTIAL_R[jj], OUTLIER_PROBS[kk])\n",
    "\n",
    "        all_hypotheses.append(\n",
    "            (p[ii,jj,kk], reconstruction[ii], best_r, best_outlier_prob, potential_poses[:,ii], obj_id)\n",
    "        )\n",
    "\n",
    "    return all_hypotheses"
   ]
  },
  {
   "cell_type": "code",
   "execution_count": 22,
   "id": "a551c793",
   "metadata": {},
   "outputs": [
    {
     "name": "stdout",
     "output_type": "stream",
     "text": [
      "[[100.]\n",
      " [ 50.]\n",
      " [ 10.]\n",
      " [  5.]]\n"
     ]
    }
   ],
   "source": [
    "sched = [(100.0, jnp.pi), (50.0, jnp.pi), (10.0, jnp.pi),\n",
    "         (5.0, jnp.pi/2),(5.0, jnp.pi/2),(5.0, jnp.pi/2),\n",
    "         (2.0, jnp.pi/2),(2.0, jnp.pi/2),(2.0, jnp.pi/2),\n",
    "         (1.0, jnp.pi/4),(1.0, jnp.pi/4),(1.0, jnp.pi/4),\n",
    "]\n",
    "\n",
    "contact_param_gridding_schedule = [\n",
    "    j.make_translation_grid_enumeration_3d(\n",
    "        -x, 0.0, -y,\n",
    "        x, 0.0, y,\n",
    "        13,1,3\n",
    "    )\n",
    "    for (x,y) in sched\n",
    "]\n",
    "\n",
    "pose_from_contact_and_face_params_parallel_jit = jax.jit(jax.vmap(\n",
    "    j.scene_graph.relative_pose_from_edge, in_axes=(0,None, None))\n",
    ")\n",
    "\n",
    "\n",
    "R_SWEEP = jnp.array([100.0, 50.0, 10.0, 5.0]).reshape(-1,1)\n",
    "print(R_SWEEP)\n",
    "OUTLIER_PROBS = jnp.linspace(0.01, 0.2, 4)\n",
    "OUTLIER_VOLUME = 100.0**3 * 0.01\n",
    "SCALING_FACTOR = 3"
   ]
  },
  {
   "cell_type": "code",
   "execution_count": 23,
   "id": "27d6b2ee",
   "metadata": {
    "scrolled": false
   },
   "outputs": [
    {
     "name": "stdout",
     "output_type": "stream",
     "text": [
      "[Array([10., 10.,  5.], dtype=float32), Array([10., 10.,  5.], dtype=float32), Array([10., 10.,  5.], dtype=float32)]\n",
      "[Array(0.2, dtype=float32), Array(0.2, dtype=float32), Array(0.2, dtype=float32)]\n",
      "SCORES   [-103895.89 -103896.31 -104082.51]\n",
      "NORMALIZED SCORES   [0.60181063 0.39467704 0.        ]\n",
      "[0 1 2]\n",
      "Best\n",
      "[10. 10.  5.] 0.2 1\n",
      "[Array(0, dtype=int32), 1]\n"
     ]
    },
    {
     "data": {
      "image/png": "[encoded data removed]",
      "text/plain": [
       "<PIL.Image.Image image mode=RGB size=1560x1013 at 0x7FE650089CD0>"
      ]
     },
     "execution_count": 23,
     "metadata": {},
     "output_type": "execute_result"
    },
    {
     "data": {
      "text/plain": [
       "<Figure size 640x480 with 0 Axes>"
      ]
     },
     "metadata": {},
     "output_type": "display_data"
    },
    {
     "data": {
      "image/png": "[encoded data removed]",
      "text/plain": [
       "<Figure size 700x400 with 1 Axes>"
      ]
     },
     "metadata": {},
     "output_type": "display_data"
    }
   ],
   "source": [
    "object_indices = jnp.array([0,1])\n",
    "\n",
    "poses = contact_plane @ j.scene_graph.relative_pose_from_edge_parallel_jit(\n",
    "    jnp.array(\n",
    "        [\n",
    "            [0.0, 100.0, 0.0],\n",
    "            [-60.0, 0.0, 0.0],\n",
    "        ]\n",
    "    ),\n",
    "    jnp.array([3,3]),\n",
    "    renderer.model_box_dims[object_indices],\n",
    ")\n",
    "SCALING_FACTOR = 4\n",
    "observed_point_cloud_image = renderer.render_multiobject(poses, object_indices)\n",
    "j.show_cloud(\"obs\", observed_point_cloud_image[:,:,:3].reshape(-1,3) / 1000.0)\n",
    "j.scale_image(j.get_depth_image(observed_point_cloud_image[:,:,2]),SCALING_FACTOR)\n",
    "\n",
    "R = jnp.array([10.0, 10.0])\n",
    "object_poses, object_ids = poses[:1,:,:][None,...], [object_indices[0]]\n",
    "reconstruction = renderer.render_multiobject(\n",
    "    object_poses, object_ids\n",
    ")\n",
    "\n",
    "all_hypotheses = inference()\n",
    "print([i[2] for i in all_hypotheses])\n",
    "print([i[3] for i in all_hypotheses])\n",
    "\n",
    "scores = jnp.array([i[0] for i in all_hypotheses])\n",
    "normalized_scores = j.utils.normalize_log_scores(scores)\n",
    "print(\"SCORES  \", scores)\n",
    "print(\"NORMALIZED SCORES  \", normalized_scores)\n",
    "print(jnp.argsort(-scores))\n",
    "best_hypothesis = all_hypotheses[jnp.argmax(scores)]\n",
    "score, reconstruction, best_r, best_outlier_prob, best_poses, obj_id = best_hypothesis\n",
    "print(\"Best\")\n",
    "print(best_r, best_outlier_prob, obj_id)\n",
    "\n",
    "R = best_r\n",
    "object_poses = best_poses[:,None,...]\n",
    "object_ids = object_ids + [obj_id]\n",
    "print(object_ids)\n",
    "\n",
    "\n",
    "\n",
    "# height_factor = outlier_prob_viz.height / observed_image_viz.height\n",
    "\n",
    "plt.clf()\n",
    "plt.figure(figsize=(7,4))\n",
    "color = np.array([229, 107, 111])/255.0\n",
    "plt.bar(\n",
    "    np.arange(len(normalized_scores)),\n",
    "    normalized_scores,\n",
    "    color=color\n",
    ")\n",
    "plt.xticks(np.arange(len(normalized_scores)), [\"{:d}\".format(i) for i in range(len(normalized_scores))],fontsize=15)\n",
    "plt.yticks([0.0, 0.2, 0.4, 0.6, 0.8, 1.0],fontsize=15)\n",
    "plt.xlabel(\"Object ID\",fontsize=20)\n",
    "plt.ylabel(\"Probability\",fontsize=20)\n",
    "plt.ylim(0.0, 1.05)\n",
    "plt.tight_layout()\n",
    "img_buf = io.BytesIO()\n",
    "plt.savefig(img_buf, format='png')\n",
    "posterior_bar_chart = Image.open(img_buf)\n",
    "\n",
    "depth_viz = j.scale_image(j.get_depth_image(observed_point_cloud_image[:,:,2]), SCALING_FACTOR)\n",
    "\n",
    "height_factor = depth_viz.height / posterior_bar_chart.height\n",
    "\n",
    "\n",
    "viz1 = j.multi_panel(\n",
    "    [\n",
    "        depth_viz,\n",
    "        j.scale_image(j.get_depth_image(reconstruction[:,:,2]), SCALING_FACTOR),\n",
    "        j.scale_image(posterior_bar_chart, height_factor)\n",
    "    ],\n",
    "    labels=[\n",
    "        \"Observed Image\",\n",
    "        \"Reconstruction\",\n",
    "        \"Posterior on Object Type\",\n",
    "    ],\n",
    "    middle_width=30\n",
    ")\n",
    "\n",
    "viz2 = j.multi_panel(\n",
    "    [j.scale_image(j.get_depth_image(r[1][:,:,2]), SCALING_FACTOR) for r in all_hypotheses],\n",
    "    labels=[\"obj_{:d}\".format(idx, i.item()) for (idx,i) in enumerate(normalized_scores)],\n",
    "    title=\"Inferred Pose per Object Type\"\n",
    ")\n",
    "\n",
    "viz3 = j.multi_panel(\n",
    "    [j.scale_image(j.get_depth_image(sample_image(r[4][None,...], [object_indices[0],r[5]], r[2])[:,:,2]), SCALING_FACTOR) for r in all_hypotheses],\n",
    "    labels=[\"obj_{:d}, Noise: {:0.2f}\".format(idx, i[2][-1].item()) for (idx,i) in enumerate(all_hypotheses)],\n",
    "    title=\"Posterior Samples per Object Type\"\n",
    ")\n",
    "\n",
    "final_viz = j.vstack_images([viz1, viz2])\n",
    "final_viz"
   ]
  },
  {
   "cell_type": "code",
   "execution_count": 26,
   "id": "78d4f0af",
   "metadata": {
    "scrolled": true
   },
   "outputs": [
    {
     "name": "stdout",
     "output_type": "stream",
     "text": [
      "x : -120.0\n",
      "SCORES   [-102469.25 -102565.39 -102770.78]\n",
      "NORMALIZED SCORES   [1.000e+00 1.764e-42 0.000e+00]\n",
      "[0 1 2]\n",
      "Best\n",
      "[10.  1.  5.] 0.2 1\n",
      "[Array(0, dtype=int32), 1]\n",
      "x : -115.10204\n",
      "SCORES   [-102455.76 -102576.36 -102781.91]\n",
      "NORMALIZED SCORES   [1. 0. 0.]\n",
      "[0 1 2]\n",
      "Best\n",
      "[10.  1.  5.] 0.2 1\n",
      "[Array(0, dtype=int32), 1]\n",
      "x : -110.20409\n",
      "SCORES   [-102441.56 -102587.41 -102803.95]\n",
      "NORMALIZED SCORES   [1. 0. 0.]\n",
      "[0 1 2]\n",
      "Best\n",
      "[10.  1.  5.] 0.2 1\n",
      "[Array(0, dtype=int32), 1]\n",
      "x : -105.30612\n",
      "SCORES   [-102429.945 -102600.08  -102807.38 ]\n",
      "NORMALIZED SCORES   [1. 0. 0.]\n",
      "[0 1 2]\n",
      "Best\n",
      "[10.  1.  5.] 0.2 1\n",
      "[Array(0, dtype=int32), 1]\n",
      "x : -100.40816\n",
      "SCORES   [-102425.05  -102604.28  -102806.484]\n",
      "NORMALIZED SCORES   [1. 0. 0.]\n",
      "[0 1 2]\n",
      "Best\n",
      "[10.  1.  5.] 0.2 1\n",
      "[Array(0, dtype=int32), 1]\n",
      "x : -95.51021\n",
      "SCORES   [-102433.86 -102597.92 -102800.11]\n",
      "NORMALIZED SCORES   [1. 0. 0.]\n",
      "[0 1 2]\n",
      "Best\n",
      "[10.  1.  5.] 0.2 1\n",
      "[Array(0, dtype=int32), 1]\n",
      "x : -90.61224\n",
      "SCORES   [-102448.53 -102588.16 -102790.3 ]\n",
      "NORMALIZED SCORES   [1. 0. 0.]\n",
      "[0 1 2]\n",
      "Best\n",
      "[10.  1.  5.] 0.2 1\n",
      "[Array(0, dtype=int32), 1]\n",
      "x : -85.714294\n",
      "SCORES   [-102463.34  -102577.484 -102780.2  ]\n",
      "NORMALIZED SCORES   [1. 0. 0.]\n",
      "[0 1 2]\n",
      "Best\n",
      "[10.  1.  5.] 0.2 1\n",
      "[Array(0, dtype=int32), 1]\n",
      "x : -80.81633\n",
      "SCORES   [-102478.234 -102566.84  -102769.29 ]\n",
      "NORMALIZED SCORES   [1.00000e+00 3.29183e-39 0.00000e+00]\n",
      "[0 1 2]\n",
      "Best\n",
      "[10.  1.  5.] 0.2 1\n",
      "[Array(0, dtype=int32), 1]\n",
      "x : -75.918365\n",
      "SCORES   [-102493.45 -102556.39 -102759.19]\n",
      "NORMALIZED SCORES   [1.000000e+00 4.640781e-28 0.000000e+00]\n",
      "[0 1 2]\n",
      "Best\n",
      "[10.  1.  5.] 0.2 1\n",
      "[Array(0, dtype=int32), 1]\n",
      "x : -71.0204\n",
      "SCORES   [-102507.68 -102547.31 -102749.41]\n",
      "NORMALIZED SCORES   [1.0000000e+00 6.1332154e-18 0.0000000e+00]\n",
      "[0 1 2]\n",
      "Best\n",
      "[10.  1.  5.] 0.2 1\n",
      "[Array(0, dtype=int32), 1]\n",
      "x : -66.12245\n",
      "SCORES   [-102521.95 -102539.94 -102739.51]\n",
      "NORMALIZED SCORES   [1.0000000e+00 1.5469817e-08 0.0000000e+00]\n",
      "[0 1 2]\n",
      "Best\n",
      "[10.  1.  5.] 0.2 1\n",
      "[Array(0, dtype=int32), 1]\n",
      "x : -61.224487\n",
      "SCORES   [-102537.5  -102540.22 -102728.22]\n",
      "NORMALIZED SCORES   [0.9394131  0.06196101 0.        ]\n",
      "[0 1 2]\n",
      "Best\n",
      "[10.  1.  5.] 0.2 1\n",
      "[Array(0, dtype=int32), 1]\n",
      "x : -56.326534\n",
      "SCORES   [-102550.63 -102550.63 -102719.45]\n",
      "NORMALIZED SCORES   [0.49891853 0.49891853 0.        ]\n",
      "[0 1 2]\n",
      "Best\n",
      "[10.  1.  5.] 0.2 1\n",
      "[Array(0, dtype=int32), 1]\n",
      "x : -51.428574\n",
      "SCORES   [-102566.53  -102566.53  -102708.266]\n",
      "NORMALIZED SCORES   [0.49891853 0.49891853 0.        ]\n",
      "[0 1 2]\n",
      "Best\n",
      "[10.  1.  5.] 0.2 1\n",
      "[Array(0, dtype=int32), 1]\n",
      "x : -46.530617\n",
      "SCORES   [-102580.38  -102580.38  -102698.875]\n",
      "NORMALIZED SCORES   [0.49891853 0.49891853 0.        ]\n",
      "[0 1 2]\n",
      "Best\n",
      "[10.  1.  5.] 0.2 1\n",
      "[Array(0, dtype=int32), 1]\n",
      "x : -41.632656\n",
      "SCORES   [-102595.21 -102595.21 -102688.59]\n",
      "NORMALIZED SCORES   [4.9891853e-01 4.9891853e-01 1.3879861e-41]\n",
      "[0 1 2]\n",
      "Best\n",
      "[10.  1.  5.] 0.2 1\n",
      "[Array(0, dtype=int32), 1]\n",
      "x : -36.734703\n",
      "SCORES   [-102609.64 -102609.64 -102678.68]\n",
      "NORMALIZED SCORES   [4.9891853e-01 4.9891853e-01 5.1849641e-31]\n",
      "[0 1 2]\n",
      "Best\n",
      "[10.  1.  5.] 0.2 1\n",
      "[Array(0, dtype=int32), 1]\n",
      "x : -31.836731\n",
      "SCORES   [-102624.3  -102624.3  -102669.11]\n",
      "NORMALIZED SCORES   [4.9891853e-01 4.9891853e-01 1.7226939e-20]\n",
      "[0 1 2]\n",
      "Best\n",
      "[10.  1.  5.] 0.2 1\n",
      "[Array(0, dtype=int32), 1]\n",
      "x : -26.938778\n",
      "SCORES   [-102638.29 -102638.29 -102662.1 ]\n",
      "NORMALIZED SCORES   [4.9891853e-01 4.9891853e-01 2.2719160e-11]\n",
      "[0 1 2]\n",
      "Best\n",
      "[10.  1.  5.] 0.2 1\n",
      "[Array(0, dtype=int32), 1]\n",
      "x : -22.040817\n"
     ]
    },
    {
     "name": "stderr",
     "output_type": "stream",
     "text": [
      "/tmp/ipykernel_216860/2570559437.py:53: RuntimeWarning: More than 20 figures have been opened. Figures created through the pyplot interface (`matplotlib.pyplot.figure`) are retained until explicitly closed and may consume too much memory. (To control this warning, see the rcParam `figure.max_open_warning`). Consider using `matplotlib.pyplot.close()`.\n",
      "  plt.figure(figsize=(7,4))\n"
     ]
    },
    {
     "name": "stdout",
     "output_type": "stream",
     "text": [
      "SCORES   [-102653.05 -102653.05 -102659.37]\n",
      "NORMALIZED SCORES   [0.49891853 0.49891853 0.00089774]\n",
      "[0 1 2]\n",
      "Best\n",
      "[10.  1.  5.] 0.2 1\n",
      "[Array(0, dtype=int32), 1]\n",
      "x : -17.142853\n",
      "SCORES   [-102668.43 -102668.43 -102668.43]\n",
      "NORMALIZED SCORES   [0.33235136 0.33235136 0.33235136]\n",
      "[0 1 2]\n",
      "Best\n",
      "[10.  1.  5.] 0.2 1\n",
      "[Array(0, dtype=int32), 1]\n",
      "x : -12.244892\n",
      "SCORES   [-102682.16 -102682.16 -102682.16]\n",
      "NORMALIZED SCORES   [0.33235136 0.33235136 0.33235136]\n",
      "[0 1 2]\n",
      "Best\n",
      "[10.  1.  5.] 0.2 1\n",
      "[Array(0, dtype=int32), 1]\n",
      "x : -7.346939\n",
      "SCORES   [-102697.03 -102697.03 -102697.03]\n",
      "NORMALIZED SCORES   [0.33235136 0.33235136 0.33235136]\n",
      "[0 1 2]\n",
      "Best\n",
      "[10.  1.  5.] 0.2 1\n",
      "[Array(0, dtype=int32), 1]\n",
      "x : -2.4489746\n",
      "SCORES   [-102710.95 -102710.95 -102710.95]\n",
      "NORMALIZED SCORES   [0.33235136 0.33235136 0.33235136]\n",
      "[0 1 2]\n",
      "Best\n",
      "[10.  1.  5.] 0.2 1\n",
      "[Array(0, dtype=int32), 1]\n",
      "x : 2.4489784\n",
      "SCORES   [-102710.96 -102710.96 -102718.03]\n",
      "NORMALIZED SCORES   [4.9891853e-01 4.9891853e-01 4.2406449e-04]\n",
      "[0 1 2]\n",
      "Best\n",
      "[10.  1.  5.] 0.2 1\n",
      "[Array(0, dtype=int32), 1]\n",
      "x : 7.346939\n",
      "SCORES   [-102697.03 -102697.03 -102697.03]\n",
      "NORMALIZED SCORES   [0.33235136 0.33235136 0.33235136]\n",
      "[0 1 2]\n",
      "Best\n",
      "[10.  1.  5.] 0.2 1\n",
      "[Array(0, dtype=int32), 1]\n",
      "x : 12.244896\n",
      "SCORES   [-102682.15 -102682.15 -102682.15]\n",
      "NORMALIZED SCORES   [0.33235136 0.33235136 0.33235136]\n",
      "[0 1 2]\n",
      "Best\n",
      "[10.  1.  5.] 0.2 1\n",
      "[Array(0, dtype=int32), 1]\n",
      "x : 17.142853\n",
      "SCORES   [-102668.43 -102668.43 -102668.43]\n",
      "NORMALIZED SCORES   [0.33235136 0.33235136 0.33235136]\n",
      "[0 1 2]\n",
      "Best\n",
      "[10.  1.  5.] 0.2 1\n",
      "[Array(0, dtype=int32), 1]\n",
      "x : 22.040817\n",
      "SCORES   [-102653.05  -102653.05  -102659.375]\n",
      "NORMALIZED SCORES   [0.49891853 0.49891853 0.00089076]\n",
      "[0 1 2]\n",
      "Best\n",
      "[10.  1.  5.] 0.2 1\n",
      "[Array(0, dtype=int32), 1]\n",
      "x : 26.938778\n",
      "SCORES   [-102638.28 -102638.28 -102662.09]\n",
      "NORMALIZED SCORES   [4.9891853e-01 4.9891853e-01 2.2719160e-11]\n",
      "[0 1 2]\n",
      "Best\n",
      "[10.  1.  5.] 0.2 1\n",
      "[Array(0, dtype=int32), 1]\n",
      "x : 31.836731\n",
      "SCORES   [-102624.3  -102624.3  -102669.11]\n",
      "NORMALIZED SCORES   [4.9891853e-01 4.9891853e-01 1.7226939e-20]\n",
      "[0 1 2]\n",
      "Best\n",
      "[10.  1.  5.] 0.2 1\n",
      "[Array(0, dtype=int32), 1]\n",
      "x : 36.73469\n",
      "SCORES   [-102609.625 -102609.625 -102678.67 ]\n",
      "NORMALIZED SCORES   [4.9891853e-01 4.9891853e-01 5.1446145e-31]\n",
      "[0 1 2]\n",
      "Best\n",
      "[10.  1.  5.] 0.2 1\n",
      "[Array(0, dtype=int32), 1]\n",
      "x : 41.632652\n",
      "SCORES   [-102595.2  -102595.2  -102688.59]\n",
      "NORMALIZED SCORES   [4.9891853e-01 4.9891853e-01 1.3771961e-41]\n",
      "[0 1 2]\n",
      "Best\n",
      "[10.  1.  5.] 0.2 1\n",
      "[Array(0, dtype=int32), 1]\n",
      "x : 46.530605\n",
      "SCORES   [-102580.39  -102580.39  -102698.875]\n",
      "NORMALIZED SCORES   [0.49891853 0.49891853 0.        ]\n",
      "[0 1 2]\n",
      "Best\n",
      "[10.  1.  5.] 0.2 1\n",
      "[Array(0, dtype=int32), 1]\n",
      "x : 51.428566\n",
      "SCORES   [-102566.53  -102566.53  -102708.266]\n",
      "NORMALIZED SCORES   [0.49891853 0.49891853 0.        ]\n",
      "[0 1 2]\n",
      "Best\n",
      "[10.  1.  5.] 0.2 1\n",
      "[Array(0, dtype=int32), 1]\n",
      "x : 56.326534\n",
      "SCORES   [-102550.63 -102550.63 -102719.45]\n",
      "NORMALIZED SCORES   [0.49891853 0.49891853 0.        ]\n",
      "[0 1 2]\n",
      "Best\n",
      "[10.  1.  5.] 0.2 1\n",
      "[Array(0, dtype=int32), 1]\n",
      "x : 61.224487\n",
      "SCORES   [-102537.5  -102540.22 -102728.22]\n",
      "NORMALIZED SCORES   [0.9394131  0.06196101 0.        ]\n",
      "[0 1 2]\n",
      "Best\n",
      "[10.  1.  5.] 0.2 1\n",
      "[Array(0, dtype=int32), 1]\n",
      "x : 66.12245\n",
      "SCORES   [-102521.95  -102539.94  -102739.516]\n",
      "NORMALIZED SCORES   [1.0000000e+00 1.5469817e-08 0.0000000e+00]\n",
      "[0 1 2]\n",
      "Best\n",
      "[10.  1.  5.] 0.2 1\n",
      "[Array(0, dtype=int32), 1]\n",
      "x : 71.02041\n",
      "SCORES   [-102507.67 -102547.32 -102749.41]\n",
      "NORMALIZED SCORES   [1.000000e+00 6.038129e-18 0.000000e+00]\n",
      "[0 1 2]\n",
      "Best\n",
      "[10.  1.  5.] 0.2 1\n",
      "[Array(0, dtype=int32), 1]\n",
      "x : 75.918365\n",
      "SCORES   [-102493.445 -102556.39  -102759.19 ]\n",
      "NORMALIZED SCORES   [1.000000e+00 4.604666e-28 0.000000e+00]\n",
      "[0 1 2]\n",
      "Best\n",
      "[10.  1.  5.] 0.2 1\n",
      "[Array(0, dtype=int32), 1]\n",
      "x : 80.81632\n",
      "SCORES   [-102478.24 -102566.84 -102769.29]\n",
      "NORMALIZED SCORES   [1.000000e+00 3.317648e-39 0.000000e+00]\n",
      "[0 1 2]\n",
      "Best\n",
      "[10.  1.  5.] 0.2 1\n",
      "[Array(0, dtype=int32), 1]\n",
      "x : 85.714294\n",
      "SCORES   [-102463.34  -102577.484 -102780.2  ]\n",
      "NORMALIZED SCORES   [1. 0. 0.]\n",
      "[0 1 2]\n",
      "Best\n",
      "[10.  1.  5.] 0.2 1\n",
      "[Array(0, dtype=int32), 1]\n",
      "x : 90.61224\n",
      "SCORES   [-102448.53  -102588.164 -102790.3  ]\n",
      "NORMALIZED SCORES   [1. 0. 0.]\n",
      "[0 1 2]\n",
      "Best\n",
      "[10.  1.  5.] 0.2 1\n",
      "[Array(0, dtype=int32), 1]\n",
      "x : 95.51021\n",
      "SCORES   [-102434.44  -102598.19  -102800.375]\n",
      "NORMALIZED SCORES   [1. 0. 0.]\n",
      "[0 1 2]\n",
      "Best\n",
      "[10.  1.  5.] 0.2 1\n",
      "[Array(0, dtype=int32), 1]\n",
      "x : 100.408165\n",
      "SCORES   [-102421.47  -102607.14  -102809.336]\n",
      "NORMALIZED SCORES   [1. 0. 0.]\n",
      "[0 1 2]\n",
      "Best\n",
      "[10.  1.  5.] 0.2 1\n",
      "[Array(0, dtype=int32), 1]\n",
      "x : 105.30612\n",
      "SCORES   [-102422.81 -102605.09 -102812.39]\n",
      "NORMALIZED SCORES   [1. 0. 0.]\n",
      "[0 1 2]\n",
      "Best\n",
      "[10.  1.  5.] 0.2 1\n",
      "[Array(0, dtype=int32), 1]\n",
      "x : 110.20408\n",
      "SCORES   [-102432.77  -102593.555 -102810.1  ]\n",
      "NORMALIZED SCORES   [1. 0. 0.]\n",
      "[0 1 2]\n",
      "Best\n",
      "[10.  1.  5.] 0.2 1\n",
      "[Array(0, dtype=int32), 1]\n",
      "x : 115.10205\n",
      "SCORES   [-102446.73  -102582.83  -102788.375]\n",
      "NORMALIZED SCORES   [1. 0. 0.]\n",
      "[0 1 2]\n",
      "Best\n",
      "[10.  1.  5.] 0.2 1\n",
      "[Array(0, dtype=int32), 1]\n",
      "x : 120.0\n",
      "SCORES   [-102460.24 -102571.86 -102777.28]\n",
      "NORMALIZED SCORES   [1. 0. 0.]\n",
      "[0 1 2]\n",
      "Best\n",
      "[10.  1.  5.] 0.2 1\n",
      "[Array(0, dtype=int32), 1]\n"
     ]
    },
    {
     "data": {
      "text/plain": [
       "<Figure size 640x480 with 0 Axes>"
      ]
     },
     "metadata": {},
     "output_type": "display_data"
    },
    {
     "data": {
      "text/plain": [
       "<Figure size 700x400 with 0 Axes>"
      ]
     },
     "metadata": {},
     "output_type": "display_data"
    },
    {
     "data": {
      "text/plain": [
       "<Figure size 700x400 with 0 Axes>"
      ]
     },
     "metadata": {},
     "output_type": "display_data"
    },
    {
     "data": {
      "text/plain": [
       "<Figure size 700x400 with 0 Axes>"
      ]
     },
     "metadata": {},
     "output_type": "display_data"
    },
    {
     "data": {
      "text/plain": [
       "<Figure size 700x400 with 0 Axes>"
      ]
     },
     "metadata": {},
     "output_type": "display_data"
    },
    {
     "data": {
      "text/plain": [
       "<Figure size 700x400 with 0 Axes>"
      ]
     },
     "metadata": {},
     "output_type": "display_data"
    },
    {
     "data": {
      "text/plain": [
       "<Figure size 700x400 with 0 Axes>"
      ]
     },
     "metadata": {},
     "output_type": "display_data"
    },
    {
     "data": {
      "text/plain": [
       "<Figure size 700x400 with 0 Axes>"
      ]
     },
     "metadata": {},
     "output_type": "display_data"
    },
    {
     "data": {
      "text/plain": [
       "<Figure size 700x400 with 0 Axes>"
      ]
     },
     "metadata": {},
     "output_type": "display_data"
    },
    {
     "data": {
      "text/plain": [
       "<Figure size 700x400 with 0 Axes>"
      ]
     },
     "metadata": {},
     "output_type": "display_data"
    },
    {
     "data": {
      "text/plain": [
       "<Figure size 700x400 with 0 Axes>"
      ]
     },
     "metadata": {},
     "output_type": "display_data"
    },
    {
     "data": {
      "text/plain": [
       "<Figure size 700x400 with 0 Axes>"
      ]
     },
     "metadata": {},
     "output_type": "display_data"
    },
    {
     "data": {
      "text/plain": [
       "<Figure size 700x400 with 0 Axes>"
      ]
     },
     "metadata": {},
     "output_type": "display_data"
    },
    {
     "data": {
      "text/plain": [
       "<Figure size 700x400 with 0 Axes>"
      ]
     },
     "metadata": {},
     "output_type": "display_data"
    },
    {
     "data": {
      "text/plain": [
       "<Figure size 700x400 with 0 Axes>"
      ]
     },
     "metadata": {},
     "output_type": "display_data"
    },
    {
     "data": {
      "text/plain": [
       "<Figure size 700x400 with 0 Axes>"
      ]
     },
     "metadata": {},
     "output_type": "display_data"
    },
    {
     "data": {
      "text/plain": [
       "<Figure size 700x400 with 0 Axes>"
      ]
     },
     "metadata": {},
     "output_type": "display_data"
    },
    {
     "data": {
      "text/plain": [
       "<Figure size 700x400 with 0 Axes>"
      ]
     },
     "metadata": {},
     "output_type": "display_data"
    },
    {
     "data": {
      "text/plain": [
       "<Figure size 700x400 with 0 Axes>"
      ]
     },
     "metadata": {},
     "output_type": "display_data"
    },
    {
     "data": {
      "text/plain": [
       "<Figure size 700x400 with 0 Axes>"
      ]
     },
     "metadata": {},
     "output_type": "display_data"
    },
    {
     "data": {
      "text/plain": [
       "<Figure size 700x400 with 0 Axes>"
      ]
     },
     "metadata": {},
     "output_type": "display_data"
    },
    {
     "data": {
      "text/plain": [
       "<Figure size 700x400 with 0 Axes>"
      ]
     },
     "metadata": {},
     "output_type": "display_data"
    },
    {
     "data": {
      "text/plain": [
       "<Figure size 700x400 with 0 Axes>"
      ]
     },
     "metadata": {},
     "output_type": "display_data"
    },
    {
     "data": {
      "text/plain": [
       "<Figure size 700x400 with 0 Axes>"
      ]
     },
     "metadata": {},
     "output_type": "display_data"
    },
    {
     "data": {
      "text/plain": [
       "<Figure size 700x400 with 0 Axes>"
      ]
     },
     "metadata": {},
     "output_type": "display_data"
    },
    {
     "data": {
      "text/plain": [
       "<Figure size 700x400 with 0 Axes>"
      ]
     },
     "metadata": {},
     "output_type": "display_data"
    },
    {
     "data": {
      "text/plain": [
       "<Figure size 700x400 with 0 Axes>"
      ]
     },
     "metadata": {},
     "output_type": "display_data"
    },
    {
     "data": {
      "text/plain": [
       "<Figure size 700x400 with 0 Axes>"
      ]
     },
     "metadata": {},
     "output_type": "display_data"
    },
    {
     "data": {
      "text/plain": [
       "<Figure size 700x400 with 0 Axes>"
      ]
     },
     "metadata": {},
     "output_type": "display_data"
    },
    {
     "data": {
      "text/plain": [
       "<Figure size 700x400 with 0 Axes>"
      ]
     },
     "metadata": {},
     "output_type": "display_data"
    },
    {
     "data": {
      "text/plain": [
       "<Figure size 700x400 with 0 Axes>"
      ]
     },
     "metadata": {},
     "output_type": "display_data"
    },
    {
     "data": {
      "text/plain": [
       "<Figure size 700x400 with 0 Axes>"
      ]
     },
     "metadata": {},
     "output_type": "display_data"
    },
    {
     "data": {
      "text/plain": [
       "<Figure size 700x400 with 0 Axes>"
      ]
     },
     "metadata": {},
     "output_type": "display_data"
    },
    {
     "data": {
      "text/plain": [
       "<Figure size 700x400 with 0 Axes>"
      ]
     },
     "metadata": {},
     "output_type": "display_data"
    },
    {
     "data": {
      "text/plain": [
       "<Figure size 700x400 with 0 Axes>"
      ]
     },
     "metadata": {},
     "output_type": "display_data"
    },
    {
     "data": {
      "text/plain": [
       "<Figure size 700x400 with 0 Axes>"
      ]
     },
     "metadata": {},
     "output_type": "display_data"
    },
    {
     "data": {
      "text/plain": [
       "<Figure size 700x400 with 0 Axes>"
      ]
     },
     "metadata": {},
     "output_type": "display_data"
    },
    {
     "data": {
      "text/plain": [
       "<Figure size 700x400 with 0 Axes>"
      ]
     },
     "metadata": {},
     "output_type": "display_data"
    },
    {
     "data": {
      "text/plain": [
       "<Figure size 700x400 with 0 Axes>"
      ]
     },
     "metadata": {},
     "output_type": "display_data"
    },
    {
     "data": {
      "text/plain": [
       "<Figure size 700x400 with 0 Axes>"
      ]
     },
     "metadata": {},
     "output_type": "display_data"
    },
    {
     "data": {
      "text/plain": [
       "<Figure size 700x400 with 0 Axes>"
      ]
     },
     "metadata": {},
     "output_type": "display_data"
    },
    {
     "data": {
      "text/plain": [
       "<Figure size 700x400 with 0 Axes>"
      ]
     },
     "metadata": {},
     "output_type": "display_data"
    },
    {
     "data": {
      "text/plain": [
       "<Figure size 700x400 with 0 Axes>"
      ]
     },
     "metadata": {},
     "output_type": "display_data"
    },
    {
     "data": {
      "text/plain": [
       "<Figure size 700x400 with 0 Axes>"
      ]
     },
     "metadata": {},
     "output_type": "display_data"
    },
    {
     "data": {
      "text/plain": [
       "<Figure size 700x400 with 0 Axes>"
      ]
     },
     "metadata": {},
     "output_type": "display_data"
    },
    {
     "data": {
      "text/plain": [
       "<Figure size 700x400 with 0 Axes>"
      ]
     },
     "metadata": {},
     "output_type": "display_data"
    },
    {
     "data": {
      "text/plain": [
       "<Figure size 700x400 with 0 Axes>"
      ]
     },
     "metadata": {},
     "output_type": "display_data"
    },
    {
     "data": {
      "text/plain": [
       "<Figure size 700x400 with 0 Axes>"
      ]
     },
     "metadata": {},
     "output_type": "display_data"
    },
    {
     "data": {
      "text/plain": [
       "<Figure size 700x400 with 0 Axes>"
      ]
     },
     "metadata": {},
     "output_type": "display_data"
    },
    {
     "data": {
      "text/plain": [
       "<Figure size 700x400 with 0 Axes>"
      ]
     },
     "metadata": {},
     "output_type": "display_data"
    },
    {
     "data": {
      "image/png": "[encoded data removed]",
      "text/plain": [
       "<Figure size 700x400 with 1 Axes>"
      ]
     },
     "metadata": {},
     "output_type": "display_data"
    }
   ],
   "source": [
    "viz_images = []\n",
    "for block_x in jnp.linspace(-120.0, 120.0, 50):\n",
    "    print(\"x :\", block_x)\n",
    "    object_indices = jnp.array([0,1])\n",
    "\n",
    "    poses = contact_plane @ j.scene_graph.relative_pose_from_edge_parallel_jit(\n",
    "        jnp.array(\n",
    "            [\n",
    "                [0.0, 100.0, 0.0],\n",
    "                [block_x, 0.0, 0.0],\n",
    "            ]\n",
    "        ),\n",
    "        jnp.array([3,3]),\n",
    "        renderer.model_box_dims[object_indices],\n",
    "    )\n",
    "    SCALING_FACTOR = 4\n",
    "    observed_point_cloud_image = renderer.render_multiobject(poses, object_indices)\n",
    "    j.scale_image(j.get_depth_image(observed_point_cloud_image[:,:,2]),SCALING_FACTOR)\n",
    "\n",
    "\n",
    "    R = jnp.array([10.0, 1.0])\n",
    "    object_poses, object_ids = poses[:1,:,:][None,...], [object_indices[0]]\n",
    "    reconstruction = renderer.render_multiobject(\n",
    "        object_poses, object_ids\n",
    "    )\n",
    "\n",
    "    all_hypotheses = inference()\n",
    "\n",
    "\n",
    "    scores = jnp.array([i[0] for i in all_hypotheses])\n",
    "    normalized_scores = j.utils.normalize_log_scores(scores)\n",
    "    print(\"SCORES  \", scores)\n",
    "    print(\"NORMALIZED SCORES  \", normalized_scores)\n",
    "    print(jnp.argsort(-scores))\n",
    "    best_hypothesis = all_hypotheses[jnp.argmax(scores)]\n",
    "    score, reconstruction, best_r, best_outlier_prob, best_poses, obj_id = best_hypothesis\n",
    "    print(\"Best\")\n",
    "    print(best_r, best_outlier_prob, obj_id)\n",
    "\n",
    "    R = best_r\n",
    "    object_poses = best_poses[:,None,...]\n",
    "    object_ids = object_ids + [obj_id]\n",
    "    print(object_ids)\n",
    "\n",
    "    # outliers = (\n",
    "    #     (1.0 - best_outlier_prob) * (j.gaussian_mixture_image_multi_r_jit(observed_point_cloud_image, reconstruction[:,:,:3], reconstruction[:,:, -1], best_r))\n",
    "    #         <\n",
    "    #     (best_outlier_prob / OUTLIER_VOLUME)\n",
    "    # )\n",
    "\n",
    "    # height_factor = outlier_prob_viz.height / observed_image_viz.height\n",
    "    plt.clf()\n",
    "    plt.figure(figsize=(7,4))\n",
    "    color = np.array([229, 107, 111])/255.0\n",
    "    plt.bar(\n",
    "        np.arange(len(normalized_scores)),\n",
    "        normalized_scores,\n",
    "        color=color\n",
    "    )\n",
    "    plt.xticks(np.arange(len(normalized_scores)), [\"{:d}\".format(i) for i in range(len(normalized_scores))],fontsize=15)\n",
    "    plt.yticks([0.0, 0.2, 0.4, 0.6, 0.8, 1.0],fontsize=15)\n",
    "    plt.xlabel(\"Object ID\",fontsize=20)\n",
    "    plt.ylabel(\"Probability\",fontsize=20)\n",
    "    plt.ylim(0.0, 1.05)\n",
    "    plt.tight_layout()\n",
    "    img_buf = io.BytesIO()\n",
    "    plt.savefig(img_buf, format='png')\n",
    "    posterior_bar_chart = Image.open(img_buf)\n",
    "\n",
    "    depth_viz = j.scale_image(j.get_depth_image(observed_point_cloud_image[:,:,2]), SCALING_FACTOR)\n",
    "\n",
    "    height_factor = depth_viz.height / posterior_bar_chart.height\n",
    "\n",
    "\n",
    "\n",
    "    # outlier_viz = j.scale_image(j.get_depth_image(1.0 - outliers), SCALING_FACTOR)\n",
    "    viz1 = j.multi_panel(\n",
    "        [\n",
    "            depth_viz,\n",
    "            j.scale_image(j.get_depth_image(reconstruction[:,:,2]), SCALING_FACTOR),\n",
    "            j.scale_image(posterior_bar_chart, height_factor)\n",
    "        ],\n",
    "        labels=[\n",
    "            \"Observed Image\",\n",
    "            \"Reconstruction\",\n",
    "            \"Posterior on Object Type\",\n",
    "        ],\n",
    "        middle_width=30\n",
    "    )\n",
    "\n",
    "    viz2 = j.multi_panel(\n",
    "        [j.scale_image(j.get_depth_image(r[1][:,:,2]), SCALING_FACTOR) for r in all_hypotheses],\n",
    "        labels=[\"obj_{:d}\".format(idx, i.item()) for (idx,i) in enumerate(normalized_scores)],\n",
    "        title=\"Inferred Pose per Object Type\"\n",
    "    )\n",
    "\n",
    "    final_viz = j.vstack_images([viz1, viz2])\n",
    "    viz_images.append(final_viz)\n"
   ]
  },
  {
   "cell_type": "code",
   "execution_count": 27,
   "id": "44a55423",
   "metadata": {},
   "outputs": [],
   "source": [
    "j.make_gif(viz_images, \"out.gif\")"
   ]
  }
 ],
 "metadata": {
  "kernelspec": {
   "display_name": "Python 3 (ipykernel)",
   "language": "python",
   "name": "python3"
  },
  "language_info": {
   "codemirror_mode": {
    "name": "ipython",
    "version": 3
   },
   "file_extension": ".py",
   "mimetype": "text/x-python",
   "name": "python",
   "nbconvert_exporter": "python",
   "pygments_lexer": "ipython3",
   "version": "3.8.16"
  }
 },
 "nbformat": 4,
 "nbformat_minor": 5
}
