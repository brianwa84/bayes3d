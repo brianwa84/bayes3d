{
 "cells": [
  {
   "cell_type": "code",
   "execution_count": 1,
   "metadata": {
    "tags": []
   },
   "outputs": [
    {
     "name": "stdout",
     "output_type": "stream",
     "text": [
      "Jupyter environment detected. Enabling Open3D WebVisualizer.\n",
      "[Open3D INFO] WebRTC GUI backend enabled.\n",
      "[Open3D INFO] WebRTCWindowSystem: HTTP handshake server disabled.\n",
      "CPU times: user 5.78 s, sys: 1.83 s, total: 7.61 s\n",
      "Wall time: 4.86 s\n"
     ]
    }
   ],
   "source": [
    "%%time\n",
    "import bayes3d as b\n",
    "import jax.numpy as jnp\n",
    "import jax\n",
    "import numpy as np\n",
    "from tqdm import tqdm\n",
    "import bayes3d.o3d_viz"
   ]
  },
  {
   "cell_type": "code",
   "execution_count": 2,
   "metadata": {
    "tags": []
   },
   "outputs": [
    {
     "name": "stdout",
     "output_type": "stream",
     "text": [
      "You can open the visualizer by visiting the following URL:\n",
      "http://127.0.0.1:7004/static/\n"
     ]
    }
   ],
   "source": [
    "b.setup_visualizer()"
   ]
  },
  {
   "cell_type": "code",
   "execution_count": 55,
   "metadata": {
    "tags": []
   },
   "outputs": [
    {
     "name": "stdout",
     "output_type": "stream",
     "text": [
      "Increasing frame buffer size to (width, height, depth) = (160, 160, 512)\n"
     ]
    },
    {
     "name": "stderr",
     "output_type": "stream",
     "text": [
      "[E rasterize_gl.cpp:121] OpenGL version reported as 4.6\n"
     ]
    }
   ],
   "source": [
    "intrinsics = b.Intrinsics(\n",
    "    height=150,\n",
    "    width=150,\n",
    "    fx=200.0, fy=200.0,\n",
    "    cx=75.0, cy=75.0,\n",
    "    near=0.001, far=6.0\n",
    ")\n",
    "\n",
    "contact_plane = b.t3d.inverse_pose(b.t3d.transform_from_pos_target_up(\n",
    "    jnp.array([0.0, 2.0, 0.5]),\n",
    "    jnp.array([0.0, 0.0, 0.0]),\n",
    "    jnp.array([0.0, 0.0, 1.0]),\n",
    "))\n",
    "\n",
    "\n",
    "contact_poses_jit = jax.jit(\n",
    "    jax.vmap(\n",
    "        b.scene_graph.relative_pose_from_edge,\n",
    "        in_axes=(0, None, None),\n",
    "    )\n",
    ")\n",
    "\n",
    "renderer = b.Renderer(intrinsics)\n",
    "cube = b.mesh.make_cuboid_mesh(jnp.array([0.1, 0.1, 0.1]))\n",
    "renderer.add_mesh(cube)\n",
    "table_mesh = b.mesh.make_cuboid_mesh(jnp.array([5.0, 5.0, 0.01]))"
   ]
  },
  {
   "cell_type": "code",
   "execution_count": 56,
   "metadata": {
    "tags": []
   },
   "outputs": [
    {
     "data": {
      "image/png": "[encoded data removed]",
      "text/plain": [
       "<PIL.Image.Image image mode=RGBA size=150x150 at 0x7F7C9044FFD0>"
      ]
     },
     "execution_count": 56,
     "metadata": {},
     "output_type": "execute_result"
    }
   ],
   "source": [
    "viz = b.o3d_viz.O3DVis(intrinsics)\n",
    "\n",
    "poses = contact_plane @ contact_poses_jit(\n",
    "        jnp.array([\n",
    "        [0.0, 0.0, 1.0],\n",
    "        [0.2, 0.3, 0.0],\n",
    "        [0.3, 0.0, 1.0],\n",
    "        [0.2, 0.1, 0.4],\n",
    "        [0.5, 0.1, 0.4],\n",
    "        [0.5, -0.1, 0.4],\n",
    "        [-0.5, -0.1, 0.4],\n",
    "    ]),\n",
    "    0,\n",
    "    b.utils.aabb(cube.vertices)[0]\n",
    ")\n",
    "colors = b.distinct_colors(len(poses))\n",
    "viz.clear()\n",
    "\n",
    "viz.make_trimesh(table_mesh, contact_plane, np.array([221, 174, 126, 255.0])/255.0)\n",
    "for i in range(len(poses)):\n",
    "    viz.make_trimesh(cube, poses[i], np.array([*colors[i], 1.0]))\n",
    "    \n",
    "rgbd = viz.capture_image(intrinsics, jnp.eye(4))\n",
    "np.savez(\"rgbd.npz\",rgbd)\n",
    "b.get_rgb_image(rgbd.rgb)\n"
   ]
  },
  {
   "cell_type": "code",
   "execution_count": 33,
   "metadata": {
    "tags": []
   },
   "outputs": [],
   "source": [
    "rgbd = np.load(\"rgbd.npz\",allow_pickle=True)[\"arr_0\"].item()"
   ]
  },
  {
   "cell_type": "code",
   "execution_count": 57,
   "metadata": {
    "tags": []
   },
   "outputs": [],
   "source": [
    "observed_point_cloud_image = b.t3d.unproject_depth(rgbd.depth, intrinsics)[:,:,:3]\n",
    "observed_point_cloud_image = (\n",
    "    observed_point_cloud_image *\n",
    "    (b.t3d.apply_transform(observed_point_cloud_image, b.t3d.inverse_pose(contact_plane))[:,:,2]>0.02)[...,None]\n",
    ")\n",
    "observed_point_cloud_image = b.t3d.unproject_depth(observed_point_cloud_image[:,:,2], intrinsics)\n",
    "b.clear()\n",
    "b.show_cloud(\"1\", observed_point_cloud_image[:,:,:3].reshape(-1,3))"
   ]
  },
  {
   "cell_type": "code",
   "execution_count": 58,
   "metadata": {
    "tags": []
   },
   "outputs": [],
   "source": [
    "# observed_point_cloud_image = renderer.render_multiobject(poses, [0 for _ in range(len(poses))])[:,:,:3]\n",
    "# b.clear()\n",
    "# b.show_cloud(\"1\", observed_point_cloud_image[:,:,:3].reshape(-1,3))\n",
    "# b.get_depth_image(observed_point_cloud_image[:,:,2])\n"
   ]
  },
  {
   "cell_type": "code",
   "execution_count": 75,
   "metadata": {
    "tags": []
   },
   "outputs": [
    {
     "name": "stdout",
     "output_type": "stream",
     "text": [
      "Increasing frame buffer size to (width, height, depth) = (160, 160, 512)\n"
     ]
    },
    {
     "name": "stderr",
     "output_type": "stream",
     "text": [
      "[E rasterize_gl.cpp:121] OpenGL version reported as 4.6\n"
     ]
    }
   ],
   "source": [
    "grid_params = [\n",
    "    (1.0, jnp.pi, (11,11,11)), (0.6, jnp.pi/3, (11,11,11)), (0.4, jnp.pi/5, (11,11,1)),\n",
    "    (0.0, jnp.pi/2, (1,1,11*11)), (0.2, jnp.pi/5, (11,11,11)), \n",
    "    (0.1, 0.0, (16,16,1)),\n",
    "    (0.0, jnp.pi/10, (1,1,11*11)),\n",
    "    (0.05, 0.0, (16,16,1)),\n",
    "]\n",
    "contact_param_gridding_schedule = [\n",
    "    b.make_translation_grid_enumeration_3d(\n",
    "        -x, -x, -ang,\n",
    "        x, x, ang,\n",
    "        *nums\n",
    "    )\n",
    "    for (x,ang,nums) in grid_params\n",
    "]\n",
    "\n",
    "renderer = b.Renderer(intrinsics)\n",
    "cube = b.mesh.make_cuboid_mesh(jnp.array([0.1, 0.1, 0.1]))\n",
    "renderer.add_mesh(cube)"
   ]
  },
  {
   "cell_type": "code",
   "execution_count": 82,
   "metadata": {
    "tags": []
   },
   "outputs": [],
   "source": [
    "# trace = Trace(\n",
    "#     plane_pose[None,...], [21],\n",
    "#     VARIANCE, 0.01,\n",
    "#     observed_point_cloud_image\n",
    "# )\n",
    "VARIANCE_GRID = jnp.array([0.00001])\n",
    "OUTLIER_GRID = jnp.array([ 0.000001])\n",
    "\n",
    "trace = b.Trace(\n",
    "    jnp.zeros((0,4,4)), [],\n",
    "    VARIANCE_GRID[0], OUTLIER_GRID[0], 0.001,\n",
    "    observed_point_cloud_image\n",
    ")\n",
    "b.viz_trace_meshcat(trace, renderer)"
   ]
  },
  {
   "cell_type": "code",
   "execution_count": 83,
   "metadata": {
    "tags": []
   },
   "outputs": [
    {
     "name": "stderr",
     "output_type": "stream",
     "text": [
      "100%|█████████████████████████████| 1/1 [00:00<00:00,  5.45it/s]\n"
     ]
    },
    {
     "name": "stdout",
     "output_type": "stream",
     "text": [
      "['1.000']\n",
      "[0]\n",
      "[0]\n",
      "923.0625\n"
     ]
    },
    {
     "name": "stderr",
     "output_type": "stream",
     "text": [
      "100%|█████████████████████████████| 1/1 [00:00<00:00,  5.47it/s]\n"
     ]
    },
    {
     "name": "stdout",
     "output_type": "stream",
     "text": [
      "['1.000']\n",
      "[0]\n",
      "[0, 0]\n",
      "0.0\n",
      "Done parsing\n"
     ]
    }
   ],
   "source": [
    "for _ in range(10):\n",
    "    all_traces = []\n",
    "    for obj_id in tqdm(range(len(renderer.meshes))):\n",
    "        contact_param = jnp.zeros(3)\n",
    "        p = None\n",
    "        traces = None\n",
    "        for c2f_iter in range(len(contact_param_gridding_schedule)):\n",
    "            contact_param_grid = contact_param_gridding_schedule[c2f_iter] + contact_param\n",
    "\n",
    "            potential_new_object_poses = contact_plane @ contact_poses_jit(\n",
    "                contact_param_grid,\n",
    "                3,\n",
    "                renderer.model_box_dims[obj_id],\n",
    "            )\n",
    "\n",
    "            potential_poses = jnp.concatenate(\n",
    "                [\n",
    "                    jnp.tile(trace.poses[:,None,...], (1,potential_new_object_poses.shape[0],1,1)),\n",
    "                    potential_new_object_poses[None,...]\n",
    "                ]\n",
    "            )\n",
    "\n",
    "            traces = b.Traces(\n",
    "                potential_poses, trace.ids + [obj_id], VARIANCE_GRID, OUTLIER_GRID,\n",
    "                trace.outlier_volume, trace.observation\n",
    "            )\n",
    "            p = b.score_traces(traces, renderer)      \n",
    "\n",
    "            ii,jj,kk = jnp.unravel_index(p.argmax(), p.shape)\n",
    "            contact_param = contact_param_grid[ii]\n",
    "\n",
    "        best_trace = b.Trace(\n",
    "            traces.all_poses[:,ii], traces.ids, traces.all_variances[jj],\n",
    "            traces.all_outlier_prob[kk], traces.outlier_volume,\n",
    "            traces.observation\n",
    "        )\n",
    "\n",
    "        all_traces.append(\n",
    "            best_trace\n",
    "        )\n",
    "\n",
    "\n",
    "    scores = jnp.array([b.score_trace(t, renderer) for t in all_traces])\n",
    "    normalized_scores = b.utils.normalize_log_scores(scores)\n",
    "    print([\"{:0.3f}\".format(n) for n in normalized_scores])\n",
    "    order = jnp.argsort(-scores)\n",
    "    print(order)\n",
    "\n",
    "    \n",
    "    prev_score = b.score_trace(trace, renderer)\n",
    "    new_trace = all_traces[jnp.argmax(scores)]\n",
    "    print(new_trace.ids)\n",
    "    new_score = b.score_trace(new_trace, renderer)\n",
    "    score_delta = new_score - prev_score\n",
    "    print(score_delta)\n",
    "    if score_delta < 10.0:\n",
    "        print(\"Done parsing\")\n",
    "        break\n",
    "    \n",
    "    trace = new_trace\n",
    "    b.viz_trace_meshcat(trace, renderer)\n",
    "    \n",
    "b.viz_trace_meshcat(trace, renderer)\n"
   ]
  },
  {
   "cell_type": "code",
   "execution_count": 84,
   "metadata": {},
   "outputs": [],
   "source": [
    "b.viz_trace_meshcat(new_trace, renderer)\n"
   ]
  },
  {
   "cell_type": "code",
   "execution_count": null,
   "metadata": {},
   "outputs": [],
   "source": []
  }
 ],
 "metadata": {
  "kernelspec": {
   "display_name": "Python 3 (ipykernel)",
   "language": "python",
   "name": "python3"
  },
  "language_info": {
   "codemirror_mode": {
    "name": "ipython",
    "version": 3
   },
   "file_extension": ".py",
   "mimetype": "text/x-python",
   "name": "python",
   "nbconvert_exporter": "python",
   "pygments_lexer": "ipython3",
   "version": "3.8.16"
  }
 },
 "nbformat": 4,
 "nbformat_minor": 4
}
