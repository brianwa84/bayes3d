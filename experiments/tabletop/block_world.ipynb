{
 "cells": [
  {
   "cell_type": "code",
   "execution_count": 1,
   "metadata": {
    "tags": []
   },
   "outputs": [
    {
     "name": "stdout",
     "output_type": "stream",
     "text": [
      "CPU times: user 4.41 s, sys: 1.86 s, total: 6.27 s\n",
      "Wall time: 3.63 s\n"
     ]
    }
   ],
   "source": [
    "%%time\n",
    "import bayes3d as b\n",
    "import jax.numpy as jnp\n",
    "import jax\n",
    "import numpy as np\n",
    "from tqdm import tqdm"
   ]
  },
  {
   "cell_type": "code",
   "execution_count": 2,
   "metadata": {
    "tags": []
   },
   "outputs": [
    {
     "name": "stdout",
     "output_type": "stream",
     "text": [
      "You can open the visualizer by visiting the following URL:\n",
      "http://127.0.0.1:7001/static/\n"
     ]
    }
   ],
   "source": [
    "b.setup_visualizer()"
   ]
  },
  {
   "cell_type": "code",
   "execution_count": 3,
   "metadata": {
    "tags": []
   },
   "outputs": [
    {
     "name": "stderr",
     "output_type": "stream",
     "text": [
      "[E rasterize_gl.cpp:121] OpenGL version reported as 4.6\n"
     ]
    },
    {
     "name": "stdout",
     "output_type": "stream",
     "text": [
      "Increasing frame buffer size to (width, height, depth) = (128, 128, 512)\n"
     ]
    }
   ],
   "source": [
    "intrinsics = b.Intrinsics(\n",
    "    height=100,\n",
    "    width=100,\n",
    "    fx=200.0, fy=200.0,\n",
    "    cx=50.0, cy=50.0,\n",
    "    near=0.001, far=6.0\n",
    ")\n",
    "\n",
    "cube = b.mesh.make_cuboid_mesh(jnp.array([0.1, 0.1, 0.1]))\n",
    "renderer = b.Renderer(intrinsics)\n",
    "renderer.add_mesh(cube)\n"
   ]
  },
  {
   "cell_type": "code",
   "execution_count": 4,
   "metadata": {
    "tags": []
   },
   "outputs": [],
   "source": [
    "contact_plane = b.t3d.inverse_pose(b.t3d.transform_from_pos_target_up(\n",
    "    jnp.array([0.0, 2.0, 0.5]),\n",
    "    jnp.array([0.0, 0.0, 0.0]),\n",
    "    jnp.array([0.0, 0.0, 1.0]),\n",
    "))\n",
    "contact_poses_jit = jax.jit(\n",
    "    jax.vmap(\n",
    "        b.scene_graph.relative_pose_from_edge,\n",
    "        in_axes=(0, None, None),\n",
    "    )\n",
    ")"
   ]
  },
  {
   "cell_type": "code",
   "execution_count": 5,
   "metadata": {
    "tags": []
   },
   "outputs": [],
   "source": [
    "poses = contact_plane @ contact_poses_jit(\n",
    "        jnp.array([\n",
    "        [0.0, 0.0, 1.0],\n",
    "        [0.2, 0.3, 0.0],\n",
    "        [0.3, 0.0, 1.0],\n",
    "        [0.2, 0.1, 0.4],\n",
    "    ]),\n",
    "    0,\n",
    "    renderer.model_box_dims[0]\n",
    ")"
   ]
  },
  {
   "cell_type": "code",
   "execution_count": 6,
   "metadata": {
    "tags": []
   },
   "outputs": [
    {
     "data": {
      "image/png": "[encoded data removed]",
      "text/plain": [
       "<PIL.Image.Image image mode=RGBA size=100x100 at 0x7F961C60EF70>"
      ]
     },
     "execution_count": 6,
     "metadata": {},
     "output_type": "execute_result"
    }
   ],
   "source": [
    "observed_point_cloud_image = renderer.render_multiobject(poses, [0 for _ in range(len(poses))])[:,:,:3]\n",
    "b.clear()\n",
    "b.show_cloud(\"1\", observed_point_cloud_image[:,:,:3].reshape(-1,3))\n",
    "b.get_depth_image(observed_point_cloud_image[:,:,2])\n"
   ]
  },
  {
   "cell_type": "code",
   "execution_count": 7,
   "metadata": {
    "tags": []
   },
   "outputs": [],
   "source": [
    "grid_params = [\n",
    "    (1.0, jnp.pi, (11,11,11)), (0.6, jnp.pi/3, (11,11,11)), (0.4, jnp.pi/5, (11,11,1)),\n",
    "    (0.0, jnp.pi/2, (1,1,11*11)), (0.2, jnp.pi/5, (11,11,11)), \n",
    "    (0.1, 0.0, (16,16,1)),\n",
    "    (0.0, jnp.pi/10, (1,1,11*11)),\n",
    "    (0.05, 0.0, (16,16,1)),\n",
    "]\n",
    "contact_param_gridding_schedule = [\n",
    "    b.make_translation_grid_enumeration_3d(\n",
    "        -x, -x, -ang,\n",
    "        x, x, ang,\n",
    "        *nums\n",
    "    )\n",
    "    for (x,ang,nums) in grid_params\n",
    "]"
   ]
  },
  {
   "cell_type": "code",
   "execution_count": 8,
   "metadata": {
    "tags": []
   },
   "outputs": [],
   "source": [
    "# trace = Trace(\n",
    "#     plane_pose[None,...], [21],\n",
    "#     VARIANCE, 0.01,\n",
    "#     observed_point_cloud_image\n",
    "# )\n",
    "VARIANCE_GRID = jnp.array([0.00005])\n",
    "OUTLIER_GRID = jnp.array([ 0.001])\n",
    "\n",
    "trace = b.Trace(\n",
    "    jnp.zeros((0,4,4)), [],\n",
    "    VARIANCE_GRID[0], OUTLIER_GRID[0], 0.1,\n",
    "    observed_point_cloud_image\n",
    ")\n",
    "b.viz_trace_meshcat(trace, renderer)"
   ]
  },
  {
   "cell_type": "code",
   "execution_count": 9,
   "metadata": {
    "tags": []
   },
   "outputs": [
    {
     "name": "stderr",
     "output_type": "stream",
     "text": [
      "100%|████████████████████████████| 1/1 [00:06<00:00,  6.28s/it]\n"
     ]
    },
    {
     "name": "stdout",
     "output_type": "stream",
     "text": [
      "['1.000']\n",
      "[0]\n",
      "[0]\n"
     ]
    },
    {
     "name": "stderr",
     "output_type": "stream",
     "text": [
      "100%|████████████████████████████| 1/1 [00:00<00:00,  1.52it/s]\n"
     ]
    },
    {
     "name": "stdout",
     "output_type": "stream",
     "text": [
      "['1.000']\n",
      "[0]\n",
      "[0, 0]\n"
     ]
    },
    {
     "name": "stderr",
     "output_type": "stream",
     "text": [
      "100%|████████████████████████████| 1/1 [00:00<00:00,  1.48it/s]\n"
     ]
    },
    {
     "name": "stdout",
     "output_type": "stream",
     "text": [
      "['1.000']\n",
      "[0]\n",
      "[0, 0, 0]\n"
     ]
    },
    {
     "name": "stderr",
     "output_type": "stream",
     "text": [
      "100%|████████████████████████████| 1/1 [00:00<00:00,  1.44it/s]\n"
     ]
    },
    {
     "name": "stdout",
     "output_type": "stream",
     "text": [
      "['1.000']\n",
      "[0]\n",
      "[0, 0, 0, 0]\n"
     ]
    },
    {
     "name": "stderr",
     "output_type": "stream",
     "text": [
      "100%|████████████████████████████| 1/1 [00:00<00:00,  1.42it/s]"
     ]
    },
    {
     "name": "stdout",
     "output_type": "stream",
     "text": [
      "['1.000']\n",
      "[0]\n",
      "[0, 0, 0, 0, 0]\n"
     ]
    },
    {
     "name": "stderr",
     "output_type": "stream",
     "text": [
      "\n"
     ]
    }
   ],
   "source": [
    "for _ in range(5):\n",
    "    _all_traces = []\n",
    "    all_traces = []\n",
    "    for obj_id in tqdm(range(len(renderer.meshes))):\n",
    "        contact_param = jnp.zeros(3)\n",
    "        p = None\n",
    "        traces = None\n",
    "        for c2f_iter in range(len(contact_param_gridding_schedule)):\n",
    "            contact_param_grid = contact_param_gridding_schedule[c2f_iter] + contact_param\n",
    "\n",
    "            potential_new_object_poses = contact_plane @ contact_poses_jit(\n",
    "                contact_param_grid,\n",
    "                3,\n",
    "                renderer.model_box_dims[obj_id],\n",
    "            )\n",
    "\n",
    "            potential_poses = jnp.concatenate(\n",
    "                [\n",
    "                    jnp.tile(trace.poses[:,None,...], (1,potential_new_object_poses.shape[0],1,1)),\n",
    "                    potential_new_object_poses[None,...]\n",
    "                ]\n",
    "            )\n",
    "\n",
    "            traces = b.Traces(\n",
    "                potential_poses, trace.ids + [obj_id], VARIANCE_GRID, OUTLIER_GRID,\n",
    "                trace.outlier_volume, trace.observation\n",
    "            )\n",
    "            p = b.score_traces(traces, renderer)      \n",
    "\n",
    "            ii,jj,kk = jnp.unravel_index(p.argmax(), p.shape)\n",
    "            contact_param = contact_param_grid[ii]\n",
    "\n",
    "        best_trace = b.Trace(\n",
    "            traces.all_poses[:,ii], traces.ids, traces.all_variances[jj],\n",
    "            traces.all_outlier_prob[kk], traces.outlier_volume,\n",
    "            traces.observation\n",
    "        )\n",
    "\n",
    "        all_traces.append(\n",
    "            best_trace\n",
    "        )\n",
    "\n",
    "\n",
    "    scores = jnp.array([b.score_trace(t, renderer) for t in all_traces])\n",
    "    normalized_scores = b.utils.normalize_log_scores(scores)\n",
    "    print([\"{:0.3f}\".format(n) for n in normalized_scores])\n",
    "    order = jnp.argsort(-scores)\n",
    "    print(order)\n",
    "    trace = all_traces[jnp.argmax(scores)]\n",
    "    print(trace.ids)\n",
    "    b.viz_trace_meshcat(trace, renderer)\n"
   ]
  },
  {
   "cell_type": "code",
   "execution_count": null,
   "metadata": {},
   "outputs": [],
   "source": []
  }
 ],
 "metadata": {
  "kernelspec": {
   "display_name": "Python 3 (ipykernel)",
   "language": "python",
   "name": "python3"
  },
  "language_info": {
   "codemirror_mode": {
    "name": "ipython",
    "version": 3
   },
   "file_extension": ".py",
   "mimetype": "text/x-python",
   "name": "python",
   "nbconvert_exporter": "python",
   "pygments_lexer": "ipython3",
   "version": "3.8.16"
  }
 },
 "nbformat": 4,
 "nbformat_minor": 4
}
